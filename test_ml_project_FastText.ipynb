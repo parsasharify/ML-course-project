{
  "nbformat": 4,
  "nbformat_minor": 0,
  "metadata": {
    "colab": {
      "provenance": [],
      "gpuType": "T4"
    },
    "kernelspec": {
      "name": "python3",
      "display_name": "Python 3"
    },
    "language_info": {
      "name": "python"
    },
    "accelerator": "GPU"
  },
  "cells": [
    {
      "cell_type": "code",
      "execution_count": null,
      "metadata": {
        "colab": {
          "base_uri": "https://localhost:8080/"
        },
        "id": "vUWBJNawJXYA",
        "outputId": "12c7f46d-f8ec-42e4-95d3-c1e68ade6c20"
      },
      "outputs": [
        {
          "output_type": "stream",
          "name": "stdout",
          "text": [
            "--2023-06-27 18:49:32--  https://drive.google.com/file/d/1BRhlDz-JASvfEljf_XxrL-ZH4gUvOg0v/view\n",
            "Resolving drive.google.com (drive.google.com)... 108.177.120.139, 108.177.120.100, 108.177.120.102, ...\n",
            "Connecting to drive.google.com (drive.google.com)|108.177.120.139|:443... connected.\n",
            "HTTP request sent, awaiting response... 200 OK\n",
            "Length: unspecified [text/html]\n",
            "Saving to: ‘view’\n",
            "\n",
            "view                    [ <=>                ]  77.87K  --.-KB/s    in 0.007s  \n",
            "\n",
            "2023-06-27 18:49:33 (10.2 MB/s) - ‘view’ saved [79742]\n",
            "\n"
          ]
        }
      ],
      "source": [
        "!wget https://drive.google.com/file/d/1BRhlDz-JASvfEljf_XxrL-ZH4gUvOg0v/view"
      ]
    },
    {
      "cell_type": "code",
      "source": [
        "from google.colab import drive\n",
        "drive.mount('/content/drive')"
      ],
      "metadata": {
        "colab": {
          "base_uri": "https://localhost:8080/"
        },
        "id": "n4FdS-7ZrutV",
        "outputId": "bb03f80c-705e-4c67-95b9-ce2b83bb74c2"
      },
      "execution_count": 1,
      "outputs": [
        {
          "output_type": "stream",
          "name": "stdout",
          "text": [
            "Mounted at /content/drive\n"
          ]
        }
      ]
    },
    {
      "cell_type": "code",
      "source": [
        "!pip install fasttext"
      ],
      "metadata": {
        "colab": {
          "base_uri": "https://localhost:8080/"
        },
        "id": "nwU2DOA2b7KV",
        "outputId": "6c1b4bc6-d367-4f57-8b4f-3a2f1361b6d9"
      },
      "execution_count": 1,
      "outputs": [
        {
          "output_type": "stream",
          "name": "stdout",
          "text": [
            "Requirement already satisfied: fasttext in /usr/local/lib/python3.10/dist-packages (0.9.2)\n",
            "Requirement already satisfied: pybind11>=2.2 in /usr/local/lib/python3.10/dist-packages (from fasttext) (2.10.4)\n",
            "Requirement already satisfied: setuptools>=0.7.0 in /usr/local/lib/python3.10/dist-packages (from fasttext) (67.7.2)\n",
            "Requirement already satisfied: numpy in /usr/local/lib/python3.10/dist-packages (from fasttext) (1.22.4)\n"
          ]
        }
      ]
    },
    {
      "cell_type": "code",
      "source": [
        "import nltk\n",
        "import numpy as np\n",
        "import pandas as pd\n",
        "from tqdm import tqdm\n",
        "from nltk import word_tokenize\n",
        "import string\n",
        "from sklearn.model_selection import train_test_split\n",
        "import torch\n",
        "from sklearn.metrics import precision_recall_fscore_support, precision_score\n",
        "from sklearn.metrics import f1_score\n",
        "from sklearn.metrics import accuracy_score, recall_score\n",
        "from sklearn.metrics import confusion_matrix\n",
        "import fasttext\n",
        "import os\n",
        "import matplotlib.pyplot as plt\n",
        "from sklearn.feature_extraction.text import TfidfVectorizer\n",
        "from sklearn.preprocessing import OneHotEncoder\n",
        "from torch.optim import Adam\n",
        "\n",
        "import torch\n",
        "from torch import nn\n",
        "from torch.utils.data import Dataset, DataLoader\n",
        "from time import time\n",
        "from IPython.display import display"
      ],
      "metadata": {
        "id": "EMOCALPiNeSK"
      },
      "execution_count": 2,
      "outputs": []
    },
    {
      "cell_type": "code",
      "source": [
        "import nltk\n",
        "\n",
        "nltk.download('punkt')\n",
        "nltk.download('stopwords')\n"
      ],
      "metadata": {
        "colab": {
          "base_uri": "https://localhost:8080/"
        },
        "id": "VSQ8eWV6ck26",
        "outputId": "7e1bcd39-76f3-4842-e0a9-893e08cf9fbf"
      },
      "execution_count": 3,
      "outputs": [
        {
          "output_type": "stream",
          "name": "stderr",
          "text": [
            "[nltk_data] Downloading package punkt to /root/nltk_data...\n",
            "[nltk_data]   Package punkt is already up-to-date!\n",
            "[nltk_data] Downloading package stopwords to /root/nltk_data...\n",
            "[nltk_data]   Package stopwords is already up-to-date!\n"
          ]
        },
        {
          "output_type": "execute_result",
          "data": {
            "text/plain": [
              "True"
            ]
          },
          "metadata": {},
          "execution_count": 3
        }
      ]
    },
    {
      "cell_type": "code",
      "source": [
        "df = pd.read_csv('/content/drive/MyDrive/ML_NLP/data-train.csv')\n",
        "test_df = pd.read_csv('/content/drive/MyDrive/ML_NLP/pr-test-data.csv')"
      ],
      "metadata": {
        "id": "j9Sf2qBxNXTb"
      },
      "execution_count": 4,
      "outputs": []
    },
    {
      "cell_type": "code",
      "source": [
        "df.head()"
      ],
      "metadata": {
        "colab": {
          "base_uri": "https://localhost:8080/",
          "height": 206
        },
        "id": "-PIocAbVNjJc",
        "outputId": "6cc0445e-ee21-4217-a394-82b5599cef4d"
      },
      "execution_count": 5,
      "outputs": [
        {
          "output_type": "execute_result",
          "data": {
            "text/plain": [
              "   PhraseId  SentenceId                                             Phrase  \\\n",
              "0         1           1  A series of escapades demonstrating the adage ...   \n",
              "1         2           1  A series of escapades demonstrating the adage ...   \n",
              "2         3           1                                           A series   \n",
              "3         4           1                                                  A   \n",
              "4         5           1                                             series   \n",
              "\n",
              "   Sentiment  \n",
              "0          1  \n",
              "1          2  \n",
              "2          2  \n",
              "3          2  \n",
              "4          2  "
            ],
            "text/html": [
              "\n",
              "  <div id=\"df-c0421812-601b-4d5b-90cc-1c89cac6244e\">\n",
              "    <div class=\"colab-df-container\">\n",
              "      <div>\n",
              "<style scoped>\n",
              "    .dataframe tbody tr th:only-of-type {\n",
              "        vertical-align: middle;\n",
              "    }\n",
              "\n",
              "    .dataframe tbody tr th {\n",
              "        vertical-align: top;\n",
              "    }\n",
              "\n",
              "    .dataframe thead th {\n",
              "        text-align: right;\n",
              "    }\n",
              "</style>\n",
              "<table border=\"1\" class=\"dataframe\">\n",
              "  <thead>\n",
              "    <tr style=\"text-align: right;\">\n",
              "      <th></th>\n",
              "      <th>PhraseId</th>\n",
              "      <th>SentenceId</th>\n",
              "      <th>Phrase</th>\n",
              "      <th>Sentiment</th>\n",
              "    </tr>\n",
              "  </thead>\n",
              "  <tbody>\n",
              "    <tr>\n",
              "      <th>0</th>\n",
              "      <td>1</td>\n",
              "      <td>1</td>\n",
              "      <td>A series of escapades demonstrating the adage ...</td>\n",
              "      <td>1</td>\n",
              "    </tr>\n",
              "    <tr>\n",
              "      <th>1</th>\n",
              "      <td>2</td>\n",
              "      <td>1</td>\n",
              "      <td>A series of escapades demonstrating the adage ...</td>\n",
              "      <td>2</td>\n",
              "    </tr>\n",
              "    <tr>\n",
              "      <th>2</th>\n",
              "      <td>3</td>\n",
              "      <td>1</td>\n",
              "      <td>A series</td>\n",
              "      <td>2</td>\n",
              "    </tr>\n",
              "    <tr>\n",
              "      <th>3</th>\n",
              "      <td>4</td>\n",
              "      <td>1</td>\n",
              "      <td>A</td>\n",
              "      <td>2</td>\n",
              "    </tr>\n",
              "    <tr>\n",
              "      <th>4</th>\n",
              "      <td>5</td>\n",
              "      <td>1</td>\n",
              "      <td>series</td>\n",
              "      <td>2</td>\n",
              "    </tr>\n",
              "  </tbody>\n",
              "</table>\n",
              "</div>\n",
              "      <button class=\"colab-df-convert\" onclick=\"convertToInteractive('df-c0421812-601b-4d5b-90cc-1c89cac6244e')\"\n",
              "              title=\"Convert this dataframe to an interactive table.\"\n",
              "              style=\"display:none;\">\n",
              "        \n",
              "  <svg xmlns=\"http://www.w3.org/2000/svg\" height=\"24px\"viewBox=\"0 0 24 24\"\n",
              "       width=\"24px\">\n",
              "    <path d=\"M0 0h24v24H0V0z\" fill=\"none\"/>\n",
              "    <path d=\"M18.56 5.44l.94 2.06.94-2.06 2.06-.94-2.06-.94-.94-2.06-.94 2.06-2.06.94zm-11 1L8.5 8.5l.94-2.06 2.06-.94-2.06-.94L8.5 2.5l-.94 2.06-2.06.94zm10 10l.94 2.06.94-2.06 2.06-.94-2.06-.94-.94-2.06-.94 2.06-2.06.94z\"/><path d=\"M17.41 7.96l-1.37-1.37c-.4-.4-.92-.59-1.43-.59-.52 0-1.04.2-1.43.59L10.3 9.45l-7.72 7.72c-.78.78-.78 2.05 0 2.83L4 21.41c.39.39.9.59 1.41.59.51 0 1.02-.2 1.41-.59l7.78-7.78 2.81-2.81c.8-.78.8-2.07 0-2.86zM5.41 20L4 18.59l7.72-7.72 1.47 1.35L5.41 20z\"/>\n",
              "  </svg>\n",
              "      </button>\n",
              "      \n",
              "  <style>\n",
              "    .colab-df-container {\n",
              "      display:flex;\n",
              "      flex-wrap:wrap;\n",
              "      gap: 12px;\n",
              "    }\n",
              "\n",
              "    .colab-df-convert {\n",
              "      background-color: #E8F0FE;\n",
              "      border: none;\n",
              "      border-radius: 50%;\n",
              "      cursor: pointer;\n",
              "      display: none;\n",
              "      fill: #1967D2;\n",
              "      height: 32px;\n",
              "      padding: 0 0 0 0;\n",
              "      width: 32px;\n",
              "    }\n",
              "\n",
              "    .colab-df-convert:hover {\n",
              "      background-color: #E2EBFA;\n",
              "      box-shadow: 0px 1px 2px rgba(60, 64, 67, 0.3), 0px 1px 3px 1px rgba(60, 64, 67, 0.15);\n",
              "      fill: #174EA6;\n",
              "    }\n",
              "\n",
              "    [theme=dark] .colab-df-convert {\n",
              "      background-color: #3B4455;\n",
              "      fill: #D2E3FC;\n",
              "    }\n",
              "\n",
              "    [theme=dark] .colab-df-convert:hover {\n",
              "      background-color: #434B5C;\n",
              "      box-shadow: 0px 1px 3px 1px rgba(0, 0, 0, 0.15);\n",
              "      filter: drop-shadow(0px 1px 2px rgba(0, 0, 0, 0.3));\n",
              "      fill: #FFFFFF;\n",
              "    }\n",
              "  </style>\n",
              "\n",
              "      <script>\n",
              "        const buttonEl =\n",
              "          document.querySelector('#df-c0421812-601b-4d5b-90cc-1c89cac6244e button.colab-df-convert');\n",
              "        buttonEl.style.display =\n",
              "          google.colab.kernel.accessAllowed ? 'block' : 'none';\n",
              "\n",
              "        async function convertToInteractive(key) {\n",
              "          const element = document.querySelector('#df-c0421812-601b-4d5b-90cc-1c89cac6244e');\n",
              "          const dataTable =\n",
              "            await google.colab.kernel.invokeFunction('convertToInteractive',\n",
              "                                                     [key], {});\n",
              "          if (!dataTable) return;\n",
              "\n",
              "          const docLinkHtml = 'Like what you see? Visit the ' +\n",
              "            '<a target=\"_blank\" href=https://colab.research.google.com/notebooks/data_table.ipynb>data table notebook</a>'\n",
              "            + ' to learn more about interactive tables.';\n",
              "          element.innerHTML = '';\n",
              "          dataTable['output_type'] = 'display_data';\n",
              "          await google.colab.output.renderOutput(dataTable, element);\n",
              "          const docLink = document.createElement('div');\n",
              "          docLink.innerHTML = docLinkHtml;\n",
              "          element.appendChild(docLink);\n",
              "        }\n",
              "      </script>\n",
              "    </div>\n",
              "  </div>\n",
              "  "
            ]
          },
          "metadata": {},
          "execution_count": 5
        }
      ]
    },
    {
      "cell_type": "code",
      "source": [
        "test_df.head()"
      ],
      "metadata": {
        "colab": {
          "base_uri": "https://localhost:8080/",
          "height": 206
        },
        "id": "L_l4xJ3hsQ7w",
        "outputId": "61b23907-bd50-4304-814b-4012eca8fdb7"
      },
      "execution_count": 6,
      "outputs": [
        {
          "output_type": "execute_result",
          "data": {
            "text/plain": [
              "   PhraseId  SentenceId                                             Phrase  ID\n",
              "0     15061        8545  As exciting as all this exoticism might sound ...   1\n",
              "1     15062        8545  As exciting as all this exoticism might sound ...   2\n",
              "2     15063        8545  exciting as all this exoticism might sound to ...   3\n",
              "3     15064        8545  exciting as all this exoticism might sound to ...   4\n",
              "4     15065        8545  as all this exoticism might sound to the typic...   5"
            ],
            "text/html": [
              "\n",
              "  <div id=\"df-26bead6f-01fb-4bdc-8657-e8a653d230d7\">\n",
              "    <div class=\"colab-df-container\">\n",
              "      <div>\n",
              "<style scoped>\n",
              "    .dataframe tbody tr th:only-of-type {\n",
              "        vertical-align: middle;\n",
              "    }\n",
              "\n",
              "    .dataframe tbody tr th {\n",
              "        vertical-align: top;\n",
              "    }\n",
              "\n",
              "    .dataframe thead th {\n",
              "        text-align: right;\n",
              "    }\n",
              "</style>\n",
              "<table border=\"1\" class=\"dataframe\">\n",
              "  <thead>\n",
              "    <tr style=\"text-align: right;\">\n",
              "      <th></th>\n",
              "      <th>PhraseId</th>\n",
              "      <th>SentenceId</th>\n",
              "      <th>Phrase</th>\n",
              "      <th>ID</th>\n",
              "    </tr>\n",
              "  </thead>\n",
              "  <tbody>\n",
              "    <tr>\n",
              "      <th>0</th>\n",
              "      <td>15061</td>\n",
              "      <td>8545</td>\n",
              "      <td>As exciting as all this exoticism might sound ...</td>\n",
              "      <td>1</td>\n",
              "    </tr>\n",
              "    <tr>\n",
              "      <th>1</th>\n",
              "      <td>15062</td>\n",
              "      <td>8545</td>\n",
              "      <td>As exciting as all this exoticism might sound ...</td>\n",
              "      <td>2</td>\n",
              "    </tr>\n",
              "    <tr>\n",
              "      <th>2</th>\n",
              "      <td>15063</td>\n",
              "      <td>8545</td>\n",
              "      <td>exciting as all this exoticism might sound to ...</td>\n",
              "      <td>3</td>\n",
              "    </tr>\n",
              "    <tr>\n",
              "      <th>3</th>\n",
              "      <td>15064</td>\n",
              "      <td>8545</td>\n",
              "      <td>exciting as all this exoticism might sound to ...</td>\n",
              "      <td>4</td>\n",
              "    </tr>\n",
              "    <tr>\n",
              "      <th>4</th>\n",
              "      <td>15065</td>\n",
              "      <td>8545</td>\n",
              "      <td>as all this exoticism might sound to the typic...</td>\n",
              "      <td>5</td>\n",
              "    </tr>\n",
              "  </tbody>\n",
              "</table>\n",
              "</div>\n",
              "      <button class=\"colab-df-convert\" onclick=\"convertToInteractive('df-26bead6f-01fb-4bdc-8657-e8a653d230d7')\"\n",
              "              title=\"Convert this dataframe to an interactive table.\"\n",
              "              style=\"display:none;\">\n",
              "        \n",
              "  <svg xmlns=\"http://www.w3.org/2000/svg\" height=\"24px\"viewBox=\"0 0 24 24\"\n",
              "       width=\"24px\">\n",
              "    <path d=\"M0 0h24v24H0V0z\" fill=\"none\"/>\n",
              "    <path d=\"M18.56 5.44l.94 2.06.94-2.06 2.06-.94-2.06-.94-.94-2.06-.94 2.06-2.06.94zm-11 1L8.5 8.5l.94-2.06 2.06-.94-2.06-.94L8.5 2.5l-.94 2.06-2.06.94zm10 10l.94 2.06.94-2.06 2.06-.94-2.06-.94-.94-2.06-.94 2.06-2.06.94z\"/><path d=\"M17.41 7.96l-1.37-1.37c-.4-.4-.92-.59-1.43-.59-.52 0-1.04.2-1.43.59L10.3 9.45l-7.72 7.72c-.78.78-.78 2.05 0 2.83L4 21.41c.39.39.9.59 1.41.59.51 0 1.02-.2 1.41-.59l7.78-7.78 2.81-2.81c.8-.78.8-2.07 0-2.86zM5.41 20L4 18.59l7.72-7.72 1.47 1.35L5.41 20z\"/>\n",
              "  </svg>\n",
              "      </button>\n",
              "      \n",
              "  <style>\n",
              "    .colab-df-container {\n",
              "      display:flex;\n",
              "      flex-wrap:wrap;\n",
              "      gap: 12px;\n",
              "    }\n",
              "\n",
              "    .colab-df-convert {\n",
              "      background-color: #E8F0FE;\n",
              "      border: none;\n",
              "      border-radius: 50%;\n",
              "      cursor: pointer;\n",
              "      display: none;\n",
              "      fill: #1967D2;\n",
              "      height: 32px;\n",
              "      padding: 0 0 0 0;\n",
              "      width: 32px;\n",
              "    }\n",
              "\n",
              "    .colab-df-convert:hover {\n",
              "      background-color: #E2EBFA;\n",
              "      box-shadow: 0px 1px 2px rgba(60, 64, 67, 0.3), 0px 1px 3px 1px rgba(60, 64, 67, 0.15);\n",
              "      fill: #174EA6;\n",
              "    }\n",
              "\n",
              "    [theme=dark] .colab-df-convert {\n",
              "      background-color: #3B4455;\n",
              "      fill: #D2E3FC;\n",
              "    }\n",
              "\n",
              "    [theme=dark] .colab-df-convert:hover {\n",
              "      background-color: #434B5C;\n",
              "      box-shadow: 0px 1px 3px 1px rgba(0, 0, 0, 0.15);\n",
              "      filter: drop-shadow(0px 1px 2px rgba(0, 0, 0, 0.3));\n",
              "      fill: #FFFFFF;\n",
              "    }\n",
              "  </style>\n",
              "\n",
              "      <script>\n",
              "        const buttonEl =\n",
              "          document.querySelector('#df-26bead6f-01fb-4bdc-8657-e8a653d230d7 button.colab-df-convert');\n",
              "        buttonEl.style.display =\n",
              "          google.colab.kernel.accessAllowed ? 'block' : 'none';\n",
              "\n",
              "        async function convertToInteractive(key) {\n",
              "          const element = document.querySelector('#df-26bead6f-01fb-4bdc-8657-e8a653d230d7');\n",
              "          const dataTable =\n",
              "            await google.colab.kernel.invokeFunction('convertToInteractive',\n",
              "                                                     [key], {});\n",
              "          if (!dataTable) return;\n",
              "\n",
              "          const docLinkHtml = 'Like what you see? Visit the ' +\n",
              "            '<a target=\"_blank\" href=https://colab.research.google.com/notebooks/data_table.ipynb>data table notebook</a>'\n",
              "            + ' to learn more about interactive tables.';\n",
              "          element.innerHTML = '';\n",
              "          dataTable['output_type'] = 'display_data';\n",
              "          await google.colab.output.renderOutput(dataTable, element);\n",
              "          const docLink = document.createElement('div');\n",
              "          docLink.innerHTML = docLinkHtml;\n",
              "          element.appendChild(docLink);\n",
              "        }\n",
              "      </script>\n",
              "    </div>\n",
              "  </div>\n",
              "  "
            ]
          },
          "metadata": {},
          "execution_count": 6
        }
      ]
    },
    {
      "cell_type": "code",
      "source": [
        "df.drop('PhraseId', axis=1, inplace=True)\n",
        "test_df.drop('PhraseId', axis=1, inplace=True)"
      ],
      "metadata": {
        "id": "UcIN9Trcbbd9"
      },
      "execution_count": 7,
      "outputs": []
    },
    {
      "cell_type": "code",
      "source": [
        "test_df.drop('ID', axis=1, inplace=True)"
      ],
      "metadata": {
        "id": "kvLIRQF_sWnA"
      },
      "execution_count": 8,
      "outputs": []
    },
    {
      "cell_type": "code",
      "source": [
        "test_df.head()"
      ],
      "metadata": {
        "colab": {
          "base_uri": "https://localhost:8080/",
          "height": 206
        },
        "id": "6OiIOJqIsmAK",
        "outputId": "83029d5e-531b-4a91-e583-3073468b2874"
      },
      "execution_count": 9,
      "outputs": [
        {
          "output_type": "execute_result",
          "data": {
            "text/plain": [
              "   SentenceId                                             Phrase\n",
              "0        8545  As exciting as all this exoticism might sound ...\n",
              "1        8545  As exciting as all this exoticism might sound ...\n",
              "2        8545  exciting as all this exoticism might sound to ...\n",
              "3        8545  exciting as all this exoticism might sound to ...\n",
              "4        8545  as all this exoticism might sound to the typic..."
            ],
            "text/html": [
              "\n",
              "  <div id=\"df-3cf9e204-c8f2-4a64-9efd-a5850ebb390c\">\n",
              "    <div class=\"colab-df-container\">\n",
              "      <div>\n",
              "<style scoped>\n",
              "    .dataframe tbody tr th:only-of-type {\n",
              "        vertical-align: middle;\n",
              "    }\n",
              "\n",
              "    .dataframe tbody tr th {\n",
              "        vertical-align: top;\n",
              "    }\n",
              "\n",
              "    .dataframe thead th {\n",
              "        text-align: right;\n",
              "    }\n",
              "</style>\n",
              "<table border=\"1\" class=\"dataframe\">\n",
              "  <thead>\n",
              "    <tr style=\"text-align: right;\">\n",
              "      <th></th>\n",
              "      <th>SentenceId</th>\n",
              "      <th>Phrase</th>\n",
              "    </tr>\n",
              "  </thead>\n",
              "  <tbody>\n",
              "    <tr>\n",
              "      <th>0</th>\n",
              "      <td>8545</td>\n",
              "      <td>As exciting as all this exoticism might sound ...</td>\n",
              "    </tr>\n",
              "    <tr>\n",
              "      <th>1</th>\n",
              "      <td>8545</td>\n",
              "      <td>As exciting as all this exoticism might sound ...</td>\n",
              "    </tr>\n",
              "    <tr>\n",
              "      <th>2</th>\n",
              "      <td>8545</td>\n",
              "      <td>exciting as all this exoticism might sound to ...</td>\n",
              "    </tr>\n",
              "    <tr>\n",
              "      <th>3</th>\n",
              "      <td>8545</td>\n",
              "      <td>exciting as all this exoticism might sound to ...</td>\n",
              "    </tr>\n",
              "    <tr>\n",
              "      <th>4</th>\n",
              "      <td>8545</td>\n",
              "      <td>as all this exoticism might sound to the typic...</td>\n",
              "    </tr>\n",
              "  </tbody>\n",
              "</table>\n",
              "</div>\n",
              "      <button class=\"colab-df-convert\" onclick=\"convertToInteractive('df-3cf9e204-c8f2-4a64-9efd-a5850ebb390c')\"\n",
              "              title=\"Convert this dataframe to an interactive table.\"\n",
              "              style=\"display:none;\">\n",
              "        \n",
              "  <svg xmlns=\"http://www.w3.org/2000/svg\" height=\"24px\"viewBox=\"0 0 24 24\"\n",
              "       width=\"24px\">\n",
              "    <path d=\"M0 0h24v24H0V0z\" fill=\"none\"/>\n",
              "    <path d=\"M18.56 5.44l.94 2.06.94-2.06 2.06-.94-2.06-.94-.94-2.06-.94 2.06-2.06.94zm-11 1L8.5 8.5l.94-2.06 2.06-.94-2.06-.94L8.5 2.5l-.94 2.06-2.06.94zm10 10l.94 2.06.94-2.06 2.06-.94-2.06-.94-.94-2.06-.94 2.06-2.06.94z\"/><path d=\"M17.41 7.96l-1.37-1.37c-.4-.4-.92-.59-1.43-.59-.52 0-1.04.2-1.43.59L10.3 9.45l-7.72 7.72c-.78.78-.78 2.05 0 2.83L4 21.41c.39.39.9.59 1.41.59.51 0 1.02-.2 1.41-.59l7.78-7.78 2.81-2.81c.8-.78.8-2.07 0-2.86zM5.41 20L4 18.59l7.72-7.72 1.47 1.35L5.41 20z\"/>\n",
              "  </svg>\n",
              "      </button>\n",
              "      \n",
              "  <style>\n",
              "    .colab-df-container {\n",
              "      display:flex;\n",
              "      flex-wrap:wrap;\n",
              "      gap: 12px;\n",
              "    }\n",
              "\n",
              "    .colab-df-convert {\n",
              "      background-color: #E8F0FE;\n",
              "      border: none;\n",
              "      border-radius: 50%;\n",
              "      cursor: pointer;\n",
              "      display: none;\n",
              "      fill: #1967D2;\n",
              "      height: 32px;\n",
              "      padding: 0 0 0 0;\n",
              "      width: 32px;\n",
              "    }\n",
              "\n",
              "    .colab-df-convert:hover {\n",
              "      background-color: #E2EBFA;\n",
              "      box-shadow: 0px 1px 2px rgba(60, 64, 67, 0.3), 0px 1px 3px 1px rgba(60, 64, 67, 0.15);\n",
              "      fill: #174EA6;\n",
              "    }\n",
              "\n",
              "    [theme=dark] .colab-df-convert {\n",
              "      background-color: #3B4455;\n",
              "      fill: #D2E3FC;\n",
              "    }\n",
              "\n",
              "    [theme=dark] .colab-df-convert:hover {\n",
              "      background-color: #434B5C;\n",
              "      box-shadow: 0px 1px 3px 1px rgba(0, 0, 0, 0.15);\n",
              "      filter: drop-shadow(0px 1px 2px rgba(0, 0, 0, 0.3));\n",
              "      fill: #FFFFFF;\n",
              "    }\n",
              "  </style>\n",
              "\n",
              "      <script>\n",
              "        const buttonEl =\n",
              "          document.querySelector('#df-3cf9e204-c8f2-4a64-9efd-a5850ebb390c button.colab-df-convert');\n",
              "        buttonEl.style.display =\n",
              "          google.colab.kernel.accessAllowed ? 'block' : 'none';\n",
              "\n",
              "        async function convertToInteractive(key) {\n",
              "          const element = document.querySelector('#df-3cf9e204-c8f2-4a64-9efd-a5850ebb390c');\n",
              "          const dataTable =\n",
              "            await google.colab.kernel.invokeFunction('convertToInteractive',\n",
              "                                                     [key], {});\n",
              "          if (!dataTable) return;\n",
              "\n",
              "          const docLinkHtml = 'Like what you see? Visit the ' +\n",
              "            '<a target=\"_blank\" href=https://colab.research.google.com/notebooks/data_table.ipynb>data table notebook</a>'\n",
              "            + ' to learn more about interactive tables.';\n",
              "          element.innerHTML = '';\n",
              "          dataTable['output_type'] = 'display_data';\n",
              "          await google.colab.output.renderOutput(dataTable, element);\n",
              "          const docLink = document.createElement('div');\n",
              "          docLink.innerHTML = docLinkHtml;\n",
              "          element.appendChild(docLink);\n",
              "        }\n",
              "      </script>\n",
              "    </div>\n",
              "  </div>\n",
              "  "
            ]
          },
          "metadata": {},
          "execution_count": 9
        }
      ]
    },
    {
      "cell_type": "code",
      "source": [
        "df.head()"
      ],
      "metadata": {
        "colab": {
          "base_uri": "https://localhost:8080/",
          "height": 206
        },
        "id": "ePlM7PMUbgcD",
        "outputId": "a44cadd7-8b75-4ca0-f77e-007557b58856"
      },
      "execution_count": 10,
      "outputs": [
        {
          "output_type": "execute_result",
          "data": {
            "text/plain": [
              "   SentenceId                                             Phrase  Sentiment\n",
              "0           1  A series of escapades demonstrating the adage ...          1\n",
              "1           1  A series of escapades demonstrating the adage ...          2\n",
              "2           1                                           A series          2\n",
              "3           1                                                  A          2\n",
              "4           1                                             series          2"
            ],
            "text/html": [
              "\n",
              "  <div id=\"df-4ad97b58-f241-4254-9cfc-9b7b871ad3f1\">\n",
              "    <div class=\"colab-df-container\">\n",
              "      <div>\n",
              "<style scoped>\n",
              "    .dataframe tbody tr th:only-of-type {\n",
              "        vertical-align: middle;\n",
              "    }\n",
              "\n",
              "    .dataframe tbody tr th {\n",
              "        vertical-align: top;\n",
              "    }\n",
              "\n",
              "    .dataframe thead th {\n",
              "        text-align: right;\n",
              "    }\n",
              "</style>\n",
              "<table border=\"1\" class=\"dataframe\">\n",
              "  <thead>\n",
              "    <tr style=\"text-align: right;\">\n",
              "      <th></th>\n",
              "      <th>SentenceId</th>\n",
              "      <th>Phrase</th>\n",
              "      <th>Sentiment</th>\n",
              "    </tr>\n",
              "  </thead>\n",
              "  <tbody>\n",
              "    <tr>\n",
              "      <th>0</th>\n",
              "      <td>1</td>\n",
              "      <td>A series of escapades demonstrating the adage ...</td>\n",
              "      <td>1</td>\n",
              "    </tr>\n",
              "    <tr>\n",
              "      <th>1</th>\n",
              "      <td>1</td>\n",
              "      <td>A series of escapades demonstrating the adage ...</td>\n",
              "      <td>2</td>\n",
              "    </tr>\n",
              "    <tr>\n",
              "      <th>2</th>\n",
              "      <td>1</td>\n",
              "      <td>A series</td>\n",
              "      <td>2</td>\n",
              "    </tr>\n",
              "    <tr>\n",
              "      <th>3</th>\n",
              "      <td>1</td>\n",
              "      <td>A</td>\n",
              "      <td>2</td>\n",
              "    </tr>\n",
              "    <tr>\n",
              "      <th>4</th>\n",
              "      <td>1</td>\n",
              "      <td>series</td>\n",
              "      <td>2</td>\n",
              "    </tr>\n",
              "  </tbody>\n",
              "</table>\n",
              "</div>\n",
              "      <button class=\"colab-df-convert\" onclick=\"convertToInteractive('df-4ad97b58-f241-4254-9cfc-9b7b871ad3f1')\"\n",
              "              title=\"Convert this dataframe to an interactive table.\"\n",
              "              style=\"display:none;\">\n",
              "        \n",
              "  <svg xmlns=\"http://www.w3.org/2000/svg\" height=\"24px\"viewBox=\"0 0 24 24\"\n",
              "       width=\"24px\">\n",
              "    <path d=\"M0 0h24v24H0V0z\" fill=\"none\"/>\n",
              "    <path d=\"M18.56 5.44l.94 2.06.94-2.06 2.06-.94-2.06-.94-.94-2.06-.94 2.06-2.06.94zm-11 1L8.5 8.5l.94-2.06 2.06-.94-2.06-.94L8.5 2.5l-.94 2.06-2.06.94zm10 10l.94 2.06.94-2.06 2.06-.94-2.06-.94-.94-2.06-.94 2.06-2.06.94z\"/><path d=\"M17.41 7.96l-1.37-1.37c-.4-.4-.92-.59-1.43-.59-.52 0-1.04.2-1.43.59L10.3 9.45l-7.72 7.72c-.78.78-.78 2.05 0 2.83L4 21.41c.39.39.9.59 1.41.59.51 0 1.02-.2 1.41-.59l7.78-7.78 2.81-2.81c.8-.78.8-2.07 0-2.86zM5.41 20L4 18.59l7.72-7.72 1.47 1.35L5.41 20z\"/>\n",
              "  </svg>\n",
              "      </button>\n",
              "      \n",
              "  <style>\n",
              "    .colab-df-container {\n",
              "      display:flex;\n",
              "      flex-wrap:wrap;\n",
              "      gap: 12px;\n",
              "    }\n",
              "\n",
              "    .colab-df-convert {\n",
              "      background-color: #E8F0FE;\n",
              "      border: none;\n",
              "      border-radius: 50%;\n",
              "      cursor: pointer;\n",
              "      display: none;\n",
              "      fill: #1967D2;\n",
              "      height: 32px;\n",
              "      padding: 0 0 0 0;\n",
              "      width: 32px;\n",
              "    }\n",
              "\n",
              "    .colab-df-convert:hover {\n",
              "      background-color: #E2EBFA;\n",
              "      box-shadow: 0px 1px 2px rgba(60, 64, 67, 0.3), 0px 1px 3px 1px rgba(60, 64, 67, 0.15);\n",
              "      fill: #174EA6;\n",
              "    }\n",
              "\n",
              "    [theme=dark] .colab-df-convert {\n",
              "      background-color: #3B4455;\n",
              "      fill: #D2E3FC;\n",
              "    }\n",
              "\n",
              "    [theme=dark] .colab-df-convert:hover {\n",
              "      background-color: #434B5C;\n",
              "      box-shadow: 0px 1px 3px 1px rgba(0, 0, 0, 0.15);\n",
              "      filter: drop-shadow(0px 1px 2px rgba(0, 0, 0, 0.3));\n",
              "      fill: #FFFFFF;\n",
              "    }\n",
              "  </style>\n",
              "\n",
              "      <script>\n",
              "        const buttonEl =\n",
              "          document.querySelector('#df-4ad97b58-f241-4254-9cfc-9b7b871ad3f1 button.colab-df-convert');\n",
              "        buttonEl.style.display =\n",
              "          google.colab.kernel.accessAllowed ? 'block' : 'none';\n",
              "\n",
              "        async function convertToInteractive(key) {\n",
              "          const element = document.querySelector('#df-4ad97b58-f241-4254-9cfc-9b7b871ad3f1');\n",
              "          const dataTable =\n",
              "            await google.colab.kernel.invokeFunction('convertToInteractive',\n",
              "                                                     [key], {});\n",
              "          if (!dataTable) return;\n",
              "\n",
              "          const docLinkHtml = 'Like what you see? Visit the ' +\n",
              "            '<a target=\"_blank\" href=https://colab.research.google.com/notebooks/data_table.ipynb>data table notebook</a>'\n",
              "            + ' to learn more about interactive tables.';\n",
              "          element.innerHTML = '';\n",
              "          dataTable['output_type'] = 'display_data';\n",
              "          await google.colab.output.renderOutput(dataTable, element);\n",
              "          const docLink = document.createElement('div');\n",
              "          docLink.innerHTML = docLinkHtml;\n",
              "          element.appendChild(docLink);\n",
              "        }\n",
              "      </script>\n",
              "    </div>\n",
              "  </div>\n",
              "  "
            ]
          },
          "metadata": {},
          "execution_count": 10
        }
      ]
    },
    {
      "cell_type": "code",
      "source": [
        "def preprocess_text(text, minimum_length=1, stopword_removal=False, stopwords_domain=[], lower_case=True,\n",
        "                       punctuation_removal=True):\n",
        "\n",
        "    normalized_tokens = word_tokenize(text)\n",
        "    if stopword_removal:\n",
        "        stopwords = [x.lower() for x in nltk.corpus.stopwords.words('english')]\n",
        "        domain_stopwords = [x.lower() for x in stopwords_domain]\n",
        "        normalized_tokens = [word for word in normalized_tokens if word.lower() not in domain_stopwords + stopwords]\n",
        "\n",
        "    if punctuation_removal:\n",
        "        normalized_tokens = [word for word in normalized_tokens if word not in string.punctuation]\n",
        "\n",
        "    if lower_case:\n",
        "        normalized_tokens = [word.lower() for word in normalized_tokens if len(word) > minimum_length]\n",
        "    else:\n",
        "        normalized_tokens = [word for word in normalized_tokens if len(word) > minimum_length]\n",
        "\n",
        "    return normalized_tokens"
      ],
      "metadata": {
        "id": "1p5zTQjpaKdf"
      },
      "execution_count": 11,
      "outputs": []
    },
    {
      "cell_type": "code",
      "source": [
        "df['Process Phrase'] = df['Phrase'].apply(lambda x: preprocess_text(x))\n",
        "test_df['Process Phrase'] = test_df['Phrase'].apply(lambda x: preprocess_text(x))"
      ],
      "metadata": {
        "id": "p_B4PdZ6aJ61"
      },
      "execution_count": 12,
      "outputs": []
    },
    {
      "cell_type": "code",
      "source": [
        "df.head()"
      ],
      "metadata": {
        "colab": {
          "base_uri": "https://localhost:8080/",
          "height": 206
        },
        "id": "aan0LswZaJ9D",
        "outputId": "46ce77a0-7eea-4794-f733-fa7cf9b42fcb"
      },
      "execution_count": 13,
      "outputs": [
        {
          "output_type": "execute_result",
          "data": {
            "text/plain": [
              "   SentenceId                                             Phrase  Sentiment  \\\n",
              "0           1  A series of escapades demonstrating the adage ...          1   \n",
              "1           1  A series of escapades demonstrating the adage ...          2   \n",
              "2           1                                           A series          2   \n",
              "3           1                                                  A          2   \n",
              "4           1                                             series          2   \n",
              "\n",
              "                                      Process Phrase  \n",
              "0  [series, of, escapades, demonstrating, the, ad...  \n",
              "1  [series, of, escapades, demonstrating, the, ad...  \n",
              "2                                           [series]  \n",
              "3                                                 []  \n",
              "4                                           [series]  "
            ],
            "text/html": [
              "\n",
              "  <div id=\"df-4f758d05-30dd-455b-90cd-1a94630ff583\">\n",
              "    <div class=\"colab-df-container\">\n",
              "      <div>\n",
              "<style scoped>\n",
              "    .dataframe tbody tr th:only-of-type {\n",
              "        vertical-align: middle;\n",
              "    }\n",
              "\n",
              "    .dataframe tbody tr th {\n",
              "        vertical-align: top;\n",
              "    }\n",
              "\n",
              "    .dataframe thead th {\n",
              "        text-align: right;\n",
              "    }\n",
              "</style>\n",
              "<table border=\"1\" class=\"dataframe\">\n",
              "  <thead>\n",
              "    <tr style=\"text-align: right;\">\n",
              "      <th></th>\n",
              "      <th>SentenceId</th>\n",
              "      <th>Phrase</th>\n",
              "      <th>Sentiment</th>\n",
              "      <th>Process Phrase</th>\n",
              "    </tr>\n",
              "  </thead>\n",
              "  <tbody>\n",
              "    <tr>\n",
              "      <th>0</th>\n",
              "      <td>1</td>\n",
              "      <td>A series of escapades demonstrating the adage ...</td>\n",
              "      <td>1</td>\n",
              "      <td>[series, of, escapades, demonstrating, the, ad...</td>\n",
              "    </tr>\n",
              "    <tr>\n",
              "      <th>1</th>\n",
              "      <td>1</td>\n",
              "      <td>A series of escapades demonstrating the adage ...</td>\n",
              "      <td>2</td>\n",
              "      <td>[series, of, escapades, demonstrating, the, ad...</td>\n",
              "    </tr>\n",
              "    <tr>\n",
              "      <th>2</th>\n",
              "      <td>1</td>\n",
              "      <td>A series</td>\n",
              "      <td>2</td>\n",
              "      <td>[series]</td>\n",
              "    </tr>\n",
              "    <tr>\n",
              "      <th>3</th>\n",
              "      <td>1</td>\n",
              "      <td>A</td>\n",
              "      <td>2</td>\n",
              "      <td>[]</td>\n",
              "    </tr>\n",
              "    <tr>\n",
              "      <th>4</th>\n",
              "      <td>1</td>\n",
              "      <td>series</td>\n",
              "      <td>2</td>\n",
              "      <td>[series]</td>\n",
              "    </tr>\n",
              "  </tbody>\n",
              "</table>\n",
              "</div>\n",
              "      <button class=\"colab-df-convert\" onclick=\"convertToInteractive('df-4f758d05-30dd-455b-90cd-1a94630ff583')\"\n",
              "              title=\"Convert this dataframe to an interactive table.\"\n",
              "              style=\"display:none;\">\n",
              "        \n",
              "  <svg xmlns=\"http://www.w3.org/2000/svg\" height=\"24px\"viewBox=\"0 0 24 24\"\n",
              "       width=\"24px\">\n",
              "    <path d=\"M0 0h24v24H0V0z\" fill=\"none\"/>\n",
              "    <path d=\"M18.56 5.44l.94 2.06.94-2.06 2.06-.94-2.06-.94-.94-2.06-.94 2.06-2.06.94zm-11 1L8.5 8.5l.94-2.06 2.06-.94-2.06-.94L8.5 2.5l-.94 2.06-2.06.94zm10 10l.94 2.06.94-2.06 2.06-.94-2.06-.94-.94-2.06-.94 2.06-2.06.94z\"/><path d=\"M17.41 7.96l-1.37-1.37c-.4-.4-.92-.59-1.43-.59-.52 0-1.04.2-1.43.59L10.3 9.45l-7.72 7.72c-.78.78-.78 2.05 0 2.83L4 21.41c.39.39.9.59 1.41.59.51 0 1.02-.2 1.41-.59l7.78-7.78 2.81-2.81c.8-.78.8-2.07 0-2.86zM5.41 20L4 18.59l7.72-7.72 1.47 1.35L5.41 20z\"/>\n",
              "  </svg>\n",
              "      </button>\n",
              "      \n",
              "  <style>\n",
              "    .colab-df-container {\n",
              "      display:flex;\n",
              "      flex-wrap:wrap;\n",
              "      gap: 12px;\n",
              "    }\n",
              "\n",
              "    .colab-df-convert {\n",
              "      background-color: #E8F0FE;\n",
              "      border: none;\n",
              "      border-radius: 50%;\n",
              "      cursor: pointer;\n",
              "      display: none;\n",
              "      fill: #1967D2;\n",
              "      height: 32px;\n",
              "      padding: 0 0 0 0;\n",
              "      width: 32px;\n",
              "    }\n",
              "\n",
              "    .colab-df-convert:hover {\n",
              "      background-color: #E2EBFA;\n",
              "      box-shadow: 0px 1px 2px rgba(60, 64, 67, 0.3), 0px 1px 3px 1px rgba(60, 64, 67, 0.15);\n",
              "      fill: #174EA6;\n",
              "    }\n",
              "\n",
              "    [theme=dark] .colab-df-convert {\n",
              "      background-color: #3B4455;\n",
              "      fill: #D2E3FC;\n",
              "    }\n",
              "\n",
              "    [theme=dark] .colab-df-convert:hover {\n",
              "      background-color: #434B5C;\n",
              "      box-shadow: 0px 1px 3px 1px rgba(0, 0, 0, 0.15);\n",
              "      filter: drop-shadow(0px 1px 2px rgba(0, 0, 0, 0.3));\n",
              "      fill: #FFFFFF;\n",
              "    }\n",
              "  </style>\n",
              "\n",
              "      <script>\n",
              "        const buttonEl =\n",
              "          document.querySelector('#df-4f758d05-30dd-455b-90cd-1a94630ff583 button.colab-df-convert');\n",
              "        buttonEl.style.display =\n",
              "          google.colab.kernel.accessAllowed ? 'block' : 'none';\n",
              "\n",
              "        async function convertToInteractive(key) {\n",
              "          const element = document.querySelector('#df-4f758d05-30dd-455b-90cd-1a94630ff583');\n",
              "          const dataTable =\n",
              "            await google.colab.kernel.invokeFunction('convertToInteractive',\n",
              "                                                     [key], {});\n",
              "          if (!dataTable) return;\n",
              "\n",
              "          const docLinkHtml = 'Like what you see? Visit the ' +\n",
              "            '<a target=\"_blank\" href=https://colab.research.google.com/notebooks/data_table.ipynb>data table notebook</a>'\n",
              "            + ' to learn more about interactive tables.';\n",
              "          element.innerHTML = '';\n",
              "          dataTable['output_type'] = 'display_data';\n",
              "          await google.colab.output.renderOutput(dataTable, element);\n",
              "          const docLink = document.createElement('div');\n",
              "          docLink.innerHTML = docLinkHtml;\n",
              "          element.appendChild(docLink);\n",
              "        }\n",
              "      </script>\n",
              "    </div>\n",
              "  </div>\n",
              "  "
            ]
          },
          "metadata": {},
          "execution_count": 13
        }
      ]
    },
    {
      "cell_type": "code",
      "source": [
        "test_df.head()"
      ],
      "metadata": {
        "colab": {
          "base_uri": "https://localhost:8080/",
          "height": 206
        },
        "id": "O6-xDOqws6WP",
        "outputId": "bc212ebb-9f7c-4c56-9369-9447312f8e6d"
      },
      "execution_count": 14,
      "outputs": [
        {
          "output_type": "execute_result",
          "data": {
            "text/plain": [
              "   SentenceId                                             Phrase  \\\n",
              "0        8545  As exciting as all this exoticism might sound ...   \n",
              "1        8545  As exciting as all this exoticism might sound ...   \n",
              "2        8545  exciting as all this exoticism might sound to ...   \n",
              "3        8545  exciting as all this exoticism might sound to ...   \n",
              "4        8545  as all this exoticism might sound to the typic...   \n",
              "\n",
              "                                      Process Phrase  \n",
              "0  [as, exciting, as, all, this, exoticism, might...  \n",
              "1  [as, exciting, as, all, this, exoticism, might...  \n",
              "2  [exciting, as, all, this, exoticism, might, so...  \n",
              "3  [exciting, as, all, this, exoticism, might, so...  \n",
              "4  [as, all, this, exoticism, might, sound, to, t...  "
            ],
            "text/html": [
              "\n",
              "  <div id=\"df-f624e810-6bfb-4394-84eb-3dc45fac4906\">\n",
              "    <div class=\"colab-df-container\">\n",
              "      <div>\n",
              "<style scoped>\n",
              "    .dataframe tbody tr th:only-of-type {\n",
              "        vertical-align: middle;\n",
              "    }\n",
              "\n",
              "    .dataframe tbody tr th {\n",
              "        vertical-align: top;\n",
              "    }\n",
              "\n",
              "    .dataframe thead th {\n",
              "        text-align: right;\n",
              "    }\n",
              "</style>\n",
              "<table border=\"1\" class=\"dataframe\">\n",
              "  <thead>\n",
              "    <tr style=\"text-align: right;\">\n",
              "      <th></th>\n",
              "      <th>SentenceId</th>\n",
              "      <th>Phrase</th>\n",
              "      <th>Process Phrase</th>\n",
              "    </tr>\n",
              "  </thead>\n",
              "  <tbody>\n",
              "    <tr>\n",
              "      <th>0</th>\n",
              "      <td>8545</td>\n",
              "      <td>As exciting as all this exoticism might sound ...</td>\n",
              "      <td>[as, exciting, as, all, this, exoticism, might...</td>\n",
              "    </tr>\n",
              "    <tr>\n",
              "      <th>1</th>\n",
              "      <td>8545</td>\n",
              "      <td>As exciting as all this exoticism might sound ...</td>\n",
              "      <td>[as, exciting, as, all, this, exoticism, might...</td>\n",
              "    </tr>\n",
              "    <tr>\n",
              "      <th>2</th>\n",
              "      <td>8545</td>\n",
              "      <td>exciting as all this exoticism might sound to ...</td>\n",
              "      <td>[exciting, as, all, this, exoticism, might, so...</td>\n",
              "    </tr>\n",
              "    <tr>\n",
              "      <th>3</th>\n",
              "      <td>8545</td>\n",
              "      <td>exciting as all this exoticism might sound to ...</td>\n",
              "      <td>[exciting, as, all, this, exoticism, might, so...</td>\n",
              "    </tr>\n",
              "    <tr>\n",
              "      <th>4</th>\n",
              "      <td>8545</td>\n",
              "      <td>as all this exoticism might sound to the typic...</td>\n",
              "      <td>[as, all, this, exoticism, might, sound, to, t...</td>\n",
              "    </tr>\n",
              "  </tbody>\n",
              "</table>\n",
              "</div>\n",
              "      <button class=\"colab-df-convert\" onclick=\"convertToInteractive('df-f624e810-6bfb-4394-84eb-3dc45fac4906')\"\n",
              "              title=\"Convert this dataframe to an interactive table.\"\n",
              "              style=\"display:none;\">\n",
              "        \n",
              "  <svg xmlns=\"http://www.w3.org/2000/svg\" height=\"24px\"viewBox=\"0 0 24 24\"\n",
              "       width=\"24px\">\n",
              "    <path d=\"M0 0h24v24H0V0z\" fill=\"none\"/>\n",
              "    <path d=\"M18.56 5.44l.94 2.06.94-2.06 2.06-.94-2.06-.94-.94-2.06-.94 2.06-2.06.94zm-11 1L8.5 8.5l.94-2.06 2.06-.94-2.06-.94L8.5 2.5l-.94 2.06-2.06.94zm10 10l.94 2.06.94-2.06 2.06-.94-2.06-.94-.94-2.06-.94 2.06-2.06.94z\"/><path d=\"M17.41 7.96l-1.37-1.37c-.4-.4-.92-.59-1.43-.59-.52 0-1.04.2-1.43.59L10.3 9.45l-7.72 7.72c-.78.78-.78 2.05 0 2.83L4 21.41c.39.39.9.59 1.41.59.51 0 1.02-.2 1.41-.59l7.78-7.78 2.81-2.81c.8-.78.8-2.07 0-2.86zM5.41 20L4 18.59l7.72-7.72 1.47 1.35L5.41 20z\"/>\n",
              "  </svg>\n",
              "      </button>\n",
              "      \n",
              "  <style>\n",
              "    .colab-df-container {\n",
              "      display:flex;\n",
              "      flex-wrap:wrap;\n",
              "      gap: 12px;\n",
              "    }\n",
              "\n",
              "    .colab-df-convert {\n",
              "      background-color: #E8F0FE;\n",
              "      border: none;\n",
              "      border-radius: 50%;\n",
              "      cursor: pointer;\n",
              "      display: none;\n",
              "      fill: #1967D2;\n",
              "      height: 32px;\n",
              "      padding: 0 0 0 0;\n",
              "      width: 32px;\n",
              "    }\n",
              "\n",
              "    .colab-df-convert:hover {\n",
              "      background-color: #E2EBFA;\n",
              "      box-shadow: 0px 1px 2px rgba(60, 64, 67, 0.3), 0px 1px 3px 1px rgba(60, 64, 67, 0.15);\n",
              "      fill: #174EA6;\n",
              "    }\n",
              "\n",
              "    [theme=dark] .colab-df-convert {\n",
              "      background-color: #3B4455;\n",
              "      fill: #D2E3FC;\n",
              "    }\n",
              "\n",
              "    [theme=dark] .colab-df-convert:hover {\n",
              "      background-color: #434B5C;\n",
              "      box-shadow: 0px 1px 3px 1px rgba(0, 0, 0, 0.15);\n",
              "      filter: drop-shadow(0px 1px 2px rgba(0, 0, 0, 0.3));\n",
              "      fill: #FFFFFF;\n",
              "    }\n",
              "  </style>\n",
              "\n",
              "      <script>\n",
              "        const buttonEl =\n",
              "          document.querySelector('#df-f624e810-6bfb-4394-84eb-3dc45fac4906 button.colab-df-convert');\n",
              "        buttonEl.style.display =\n",
              "          google.colab.kernel.accessAllowed ? 'block' : 'none';\n",
              "\n",
              "        async function convertToInteractive(key) {\n",
              "          const element = document.querySelector('#df-f624e810-6bfb-4394-84eb-3dc45fac4906');\n",
              "          const dataTable =\n",
              "            await google.colab.kernel.invokeFunction('convertToInteractive',\n",
              "                                                     [key], {});\n",
              "          if (!dataTable) return;\n",
              "\n",
              "          const docLinkHtml = 'Like what you see? Visit the ' +\n",
              "            '<a target=\"_blank\" href=https://colab.research.google.com/notebooks/data_table.ipynb>data table notebook</a>'\n",
              "            + ' to learn more about interactive tables.';\n",
              "          element.innerHTML = '';\n",
              "          dataTable['output_type'] = 'display_data';\n",
              "          await google.colab.output.renderOutput(dataTable, element);\n",
              "          const docLink = document.createElement('div');\n",
              "          docLink.innerHTML = docLinkHtml;\n",
              "          element.appendChild(docLink);\n",
              "        }\n",
              "      </script>\n",
              "    </div>\n",
              "  </div>\n",
              "  "
            ]
          },
          "metadata": {},
          "execution_count": 14
        }
      ]
    },
    {
      "cell_type": "code",
      "source": [
        "df.drop('Phrase', axis=1, inplace=True)\n",
        "test_df.drop('Phrase', axis=1, inplace=True)"
      ],
      "metadata": {
        "id": "4CJkNaDhaJ_B"
      },
      "execution_count": 15,
      "outputs": []
    },
    {
      "cell_type": "code",
      "source": [
        "df = df[df['Process Phrase'].str.len() > 0]\n",
        "test_df = test_df[test_df['Process Phrase'].str.len() > 0]"
      ],
      "metadata": {
        "id": "7M2n4EtOLIm_"
      },
      "execution_count": 16,
      "outputs": []
    },
    {
      "cell_type": "code",
      "source": [
        "df.head()"
      ],
      "metadata": {
        "colab": {
          "base_uri": "https://localhost:8080/",
          "height": 206
        },
        "id": "tSHdrDm3aKAv",
        "outputId": "cad8631c-050f-44c3-c889-fe8c2e23ee67"
      },
      "execution_count": 17,
      "outputs": [
        {
          "output_type": "execute_result",
          "data": {
            "text/plain": [
              "   SentenceId  Sentiment                                     Process Phrase\n",
              "0           1          1  [series, of, escapades, demonstrating, the, ad...\n",
              "1           1          2  [series, of, escapades, demonstrating, the, ad...\n",
              "2           1          2                                           [series]\n",
              "4           1          2                                           [series]\n",
              "5           1          2  [of, escapades, demonstrating, the, adage, tha..."
            ],
            "text/html": [
              "\n",
              "  <div id=\"df-cbd126cb-e315-4977-a464-6024c1bcc614\">\n",
              "    <div class=\"colab-df-container\">\n",
              "      <div>\n",
              "<style scoped>\n",
              "    .dataframe tbody tr th:only-of-type {\n",
              "        vertical-align: middle;\n",
              "    }\n",
              "\n",
              "    .dataframe tbody tr th {\n",
              "        vertical-align: top;\n",
              "    }\n",
              "\n",
              "    .dataframe thead th {\n",
              "        text-align: right;\n",
              "    }\n",
              "</style>\n",
              "<table border=\"1\" class=\"dataframe\">\n",
              "  <thead>\n",
              "    <tr style=\"text-align: right;\">\n",
              "      <th></th>\n",
              "      <th>SentenceId</th>\n",
              "      <th>Sentiment</th>\n",
              "      <th>Process Phrase</th>\n",
              "    </tr>\n",
              "  </thead>\n",
              "  <tbody>\n",
              "    <tr>\n",
              "      <th>0</th>\n",
              "      <td>1</td>\n",
              "      <td>1</td>\n",
              "      <td>[series, of, escapades, demonstrating, the, ad...</td>\n",
              "    </tr>\n",
              "    <tr>\n",
              "      <th>1</th>\n",
              "      <td>1</td>\n",
              "      <td>2</td>\n",
              "      <td>[series, of, escapades, demonstrating, the, ad...</td>\n",
              "    </tr>\n",
              "    <tr>\n",
              "      <th>2</th>\n",
              "      <td>1</td>\n",
              "      <td>2</td>\n",
              "      <td>[series]</td>\n",
              "    </tr>\n",
              "    <tr>\n",
              "      <th>4</th>\n",
              "      <td>1</td>\n",
              "      <td>2</td>\n",
              "      <td>[series]</td>\n",
              "    </tr>\n",
              "    <tr>\n",
              "      <th>5</th>\n",
              "      <td>1</td>\n",
              "      <td>2</td>\n",
              "      <td>[of, escapades, demonstrating, the, adage, tha...</td>\n",
              "    </tr>\n",
              "  </tbody>\n",
              "</table>\n",
              "</div>\n",
              "      <button class=\"colab-df-convert\" onclick=\"convertToInteractive('df-cbd126cb-e315-4977-a464-6024c1bcc614')\"\n",
              "              title=\"Convert this dataframe to an interactive table.\"\n",
              "              style=\"display:none;\">\n",
              "        \n",
              "  <svg xmlns=\"http://www.w3.org/2000/svg\" height=\"24px\"viewBox=\"0 0 24 24\"\n",
              "       width=\"24px\">\n",
              "    <path d=\"M0 0h24v24H0V0z\" fill=\"none\"/>\n",
              "    <path d=\"M18.56 5.44l.94 2.06.94-2.06 2.06-.94-2.06-.94-.94-2.06-.94 2.06-2.06.94zm-11 1L8.5 8.5l.94-2.06 2.06-.94-2.06-.94L8.5 2.5l-.94 2.06-2.06.94zm10 10l.94 2.06.94-2.06 2.06-.94-2.06-.94-.94-2.06-.94 2.06-2.06.94z\"/><path d=\"M17.41 7.96l-1.37-1.37c-.4-.4-.92-.59-1.43-.59-.52 0-1.04.2-1.43.59L10.3 9.45l-7.72 7.72c-.78.78-.78 2.05 0 2.83L4 21.41c.39.39.9.59 1.41.59.51 0 1.02-.2 1.41-.59l7.78-7.78 2.81-2.81c.8-.78.8-2.07 0-2.86zM5.41 20L4 18.59l7.72-7.72 1.47 1.35L5.41 20z\"/>\n",
              "  </svg>\n",
              "      </button>\n",
              "      \n",
              "  <style>\n",
              "    .colab-df-container {\n",
              "      display:flex;\n",
              "      flex-wrap:wrap;\n",
              "      gap: 12px;\n",
              "    }\n",
              "\n",
              "    .colab-df-convert {\n",
              "      background-color: #E8F0FE;\n",
              "      border: none;\n",
              "      border-radius: 50%;\n",
              "      cursor: pointer;\n",
              "      display: none;\n",
              "      fill: #1967D2;\n",
              "      height: 32px;\n",
              "      padding: 0 0 0 0;\n",
              "      width: 32px;\n",
              "    }\n",
              "\n",
              "    .colab-df-convert:hover {\n",
              "      background-color: #E2EBFA;\n",
              "      box-shadow: 0px 1px 2px rgba(60, 64, 67, 0.3), 0px 1px 3px 1px rgba(60, 64, 67, 0.15);\n",
              "      fill: #174EA6;\n",
              "    }\n",
              "\n",
              "    [theme=dark] .colab-df-convert {\n",
              "      background-color: #3B4455;\n",
              "      fill: #D2E3FC;\n",
              "    }\n",
              "\n",
              "    [theme=dark] .colab-df-convert:hover {\n",
              "      background-color: #434B5C;\n",
              "      box-shadow: 0px 1px 3px 1px rgba(0, 0, 0, 0.15);\n",
              "      filter: drop-shadow(0px 1px 2px rgba(0, 0, 0, 0.3));\n",
              "      fill: #FFFFFF;\n",
              "    }\n",
              "  </style>\n",
              "\n",
              "      <script>\n",
              "        const buttonEl =\n",
              "          document.querySelector('#df-cbd126cb-e315-4977-a464-6024c1bcc614 button.colab-df-convert');\n",
              "        buttonEl.style.display =\n",
              "          google.colab.kernel.accessAllowed ? 'block' : 'none';\n",
              "\n",
              "        async function convertToInteractive(key) {\n",
              "          const element = document.querySelector('#df-cbd126cb-e315-4977-a464-6024c1bcc614');\n",
              "          const dataTable =\n",
              "            await google.colab.kernel.invokeFunction('convertToInteractive',\n",
              "                                                     [key], {});\n",
              "          if (!dataTable) return;\n",
              "\n",
              "          const docLinkHtml = 'Like what you see? Visit the ' +\n",
              "            '<a target=\"_blank\" href=https://colab.research.google.com/notebooks/data_table.ipynb>data table notebook</a>'\n",
              "            + ' to learn more about interactive tables.';\n",
              "          element.innerHTML = '';\n",
              "          dataTable['output_type'] = 'display_data';\n",
              "          await google.colab.output.renderOutput(dataTable, element);\n",
              "          const docLink = document.createElement('div');\n",
              "          docLink.innerHTML = docLinkHtml;\n",
              "          element.appendChild(docLink);\n",
              "        }\n",
              "      </script>\n",
              "    </div>\n",
              "  </div>\n",
              "  "
            ]
          },
          "metadata": {},
          "execution_count": 17
        }
      ]
    },
    {
      "cell_type": "code",
      "source": [
        "test_df.head()"
      ],
      "metadata": {
        "colab": {
          "base_uri": "https://localhost:8080/",
          "height": 206
        },
        "id": "wMdVdyX4tKUB",
        "outputId": "74d0965a-208c-4899-dd39-3f92dd5f70e7"
      },
      "execution_count": 18,
      "outputs": [
        {
          "output_type": "execute_result",
          "data": {
            "text/plain": [
              "   SentenceId                                     Process Phrase\n",
              "0        8545  [as, exciting, as, all, this, exoticism, might...\n",
              "1        8545  [as, exciting, as, all, this, exoticism, might...\n",
              "2        8545  [exciting, as, all, this, exoticism, might, so...\n",
              "3        8545  [exciting, as, all, this, exoticism, might, so...\n",
              "4        8545  [as, all, this, exoticism, might, sound, to, t..."
            ],
            "text/html": [
              "\n",
              "  <div id=\"df-513a4b7b-93c1-418c-bb88-59707f11eb36\">\n",
              "    <div class=\"colab-df-container\">\n",
              "      <div>\n",
              "<style scoped>\n",
              "    .dataframe tbody tr th:only-of-type {\n",
              "        vertical-align: middle;\n",
              "    }\n",
              "\n",
              "    .dataframe tbody tr th {\n",
              "        vertical-align: top;\n",
              "    }\n",
              "\n",
              "    .dataframe thead th {\n",
              "        text-align: right;\n",
              "    }\n",
              "</style>\n",
              "<table border=\"1\" class=\"dataframe\">\n",
              "  <thead>\n",
              "    <tr style=\"text-align: right;\">\n",
              "      <th></th>\n",
              "      <th>SentenceId</th>\n",
              "      <th>Process Phrase</th>\n",
              "    </tr>\n",
              "  </thead>\n",
              "  <tbody>\n",
              "    <tr>\n",
              "      <th>0</th>\n",
              "      <td>8545</td>\n",
              "      <td>[as, exciting, as, all, this, exoticism, might...</td>\n",
              "    </tr>\n",
              "    <tr>\n",
              "      <th>1</th>\n",
              "      <td>8545</td>\n",
              "      <td>[as, exciting, as, all, this, exoticism, might...</td>\n",
              "    </tr>\n",
              "    <tr>\n",
              "      <th>2</th>\n",
              "      <td>8545</td>\n",
              "      <td>[exciting, as, all, this, exoticism, might, so...</td>\n",
              "    </tr>\n",
              "    <tr>\n",
              "      <th>3</th>\n",
              "      <td>8545</td>\n",
              "      <td>[exciting, as, all, this, exoticism, might, so...</td>\n",
              "    </tr>\n",
              "    <tr>\n",
              "      <th>4</th>\n",
              "      <td>8545</td>\n",
              "      <td>[as, all, this, exoticism, might, sound, to, t...</td>\n",
              "    </tr>\n",
              "  </tbody>\n",
              "</table>\n",
              "</div>\n",
              "      <button class=\"colab-df-convert\" onclick=\"convertToInteractive('df-513a4b7b-93c1-418c-bb88-59707f11eb36')\"\n",
              "              title=\"Convert this dataframe to an interactive table.\"\n",
              "              style=\"display:none;\">\n",
              "        \n",
              "  <svg xmlns=\"http://www.w3.org/2000/svg\" height=\"24px\"viewBox=\"0 0 24 24\"\n",
              "       width=\"24px\">\n",
              "    <path d=\"M0 0h24v24H0V0z\" fill=\"none\"/>\n",
              "    <path d=\"M18.56 5.44l.94 2.06.94-2.06 2.06-.94-2.06-.94-.94-2.06-.94 2.06-2.06.94zm-11 1L8.5 8.5l.94-2.06 2.06-.94-2.06-.94L8.5 2.5l-.94 2.06-2.06.94zm10 10l.94 2.06.94-2.06 2.06-.94-2.06-.94-.94-2.06-.94 2.06-2.06.94z\"/><path d=\"M17.41 7.96l-1.37-1.37c-.4-.4-.92-.59-1.43-.59-.52 0-1.04.2-1.43.59L10.3 9.45l-7.72 7.72c-.78.78-.78 2.05 0 2.83L4 21.41c.39.39.9.59 1.41.59.51 0 1.02-.2 1.41-.59l7.78-7.78 2.81-2.81c.8-.78.8-2.07 0-2.86zM5.41 20L4 18.59l7.72-7.72 1.47 1.35L5.41 20z\"/>\n",
              "  </svg>\n",
              "      </button>\n",
              "      \n",
              "  <style>\n",
              "    .colab-df-container {\n",
              "      display:flex;\n",
              "      flex-wrap:wrap;\n",
              "      gap: 12px;\n",
              "    }\n",
              "\n",
              "    .colab-df-convert {\n",
              "      background-color: #E8F0FE;\n",
              "      border: none;\n",
              "      border-radius: 50%;\n",
              "      cursor: pointer;\n",
              "      display: none;\n",
              "      fill: #1967D2;\n",
              "      height: 32px;\n",
              "      padding: 0 0 0 0;\n",
              "      width: 32px;\n",
              "    }\n",
              "\n",
              "    .colab-df-convert:hover {\n",
              "      background-color: #E2EBFA;\n",
              "      box-shadow: 0px 1px 2px rgba(60, 64, 67, 0.3), 0px 1px 3px 1px rgba(60, 64, 67, 0.15);\n",
              "      fill: #174EA6;\n",
              "    }\n",
              "\n",
              "    [theme=dark] .colab-df-convert {\n",
              "      background-color: #3B4455;\n",
              "      fill: #D2E3FC;\n",
              "    }\n",
              "\n",
              "    [theme=dark] .colab-df-convert:hover {\n",
              "      background-color: #434B5C;\n",
              "      box-shadow: 0px 1px 3px 1px rgba(0, 0, 0, 0.15);\n",
              "      filter: drop-shadow(0px 1px 2px rgba(0, 0, 0, 0.3));\n",
              "      fill: #FFFFFF;\n",
              "    }\n",
              "  </style>\n",
              "\n",
              "      <script>\n",
              "        const buttonEl =\n",
              "          document.querySelector('#df-513a4b7b-93c1-418c-bb88-59707f11eb36 button.colab-df-convert');\n",
              "        buttonEl.style.display =\n",
              "          google.colab.kernel.accessAllowed ? 'block' : 'none';\n",
              "\n",
              "        async function convertToInteractive(key) {\n",
              "          const element = document.querySelector('#df-513a4b7b-93c1-418c-bb88-59707f11eb36');\n",
              "          const dataTable =\n",
              "            await google.colab.kernel.invokeFunction('convertToInteractive',\n",
              "                                                     [key], {});\n",
              "          if (!dataTable) return;\n",
              "\n",
              "          const docLinkHtml = 'Like what you see? Visit the ' +\n",
              "            '<a target=\"_blank\" href=https://colab.research.google.com/notebooks/data_table.ipynb>data table notebook</a>'\n",
              "            + ' to learn more about interactive tables.';\n",
              "          element.innerHTML = '';\n",
              "          dataTable['output_type'] = 'display_data';\n",
              "          await google.colab.output.renderOutput(dataTable, element);\n",
              "          const docLink = document.createElement('div');\n",
              "          docLink.innerHTML = docLinkHtml;\n",
              "          element.appendChild(docLink);\n",
              "        }\n",
              "      </script>\n",
              "    </div>\n",
              "  </div>\n",
              "  "
            ]
          },
          "metadata": {},
          "execution_count": 18
        }
      ]
    },
    {
      "cell_type": "code",
      "source": [
        "df.drop('SentenceId', axis=1, inplace=True)\n",
        "test_df.drop('SentenceId', axis=1, inplace=True)"
      ],
      "metadata": {
        "colab": {
          "base_uri": "https://localhost:8080/"
        },
        "id": "Iie1ZY4OwK5Z",
        "outputId": "c85ecba6-a77d-477d-cccd-94509ca0ad39"
      },
      "execution_count": 19,
      "outputs": [
        {
          "output_type": "stream",
          "name": "stderr",
          "text": [
            "<ipython-input-19-60d93badfdab>:1: SettingWithCopyWarning: \n",
            "A value is trying to be set on a copy of a slice from a DataFrame\n",
            "\n",
            "See the caveats in the documentation: https://pandas.pydata.org/pandas-docs/stable/user_guide/indexing.html#returning-a-view-versus-a-copy\n",
            "  df.drop('SentenceId', axis=1, inplace=True)\n"
          ]
        }
      ]
    },
    {
      "cell_type": "code",
      "source": [
        "df.head(50)"
      ],
      "metadata": {
        "colab": {
          "base_uri": "https://localhost:8080/",
          "height": 1000
        },
        "id": "8aWKjNmvwPQL",
        "outputId": "4ed88abe-5946-477f-b335-1d1af4db5a40"
      },
      "execution_count": 20,
      "outputs": [
        {
          "output_type": "execute_result",
          "data": {
            "text/plain": [
              "    Sentiment                                     Process Phrase\n",
              "0           1  [series, of, escapades, demonstrating, the, ad...\n",
              "1           2  [series, of, escapades, demonstrating, the, ad...\n",
              "2           2                                           [series]\n",
              "4           2                                           [series]\n",
              "5           2  [of, escapades, demonstrating, the, adage, tha...\n",
              "6           2                                               [of]\n",
              "7           2  [escapades, demonstrating, the, adage, that, w...\n",
              "8           2                                        [escapades]\n",
              "9           2  [demonstrating, the, adage, that, what, is, go...\n",
              "10          2                        [demonstrating, the, adage]\n",
              "11          2                                    [demonstrating]\n",
              "12          2                                       [the, adage]\n",
              "13          2                                              [the]\n",
              "14          2                                            [adage]\n",
              "15          2            [that, what, is, good, for, the, goose]\n",
              "16          2                                             [that]\n",
              "17          2                  [what, is, good, for, the, goose]\n",
              "18          2                                             [what]\n",
              "19          2                        [is, good, for, the, goose]\n",
              "20          2                                               [is]\n",
              "21          3                            [good, for, the, goose]\n",
              "22          3                                             [good]\n",
              "23          2                                  [for, the, goose]\n",
              "24          2                                              [for]\n",
              "25          2                                       [the, goose]\n",
              "26          2                                            [goose]\n",
              "27          2  [is, also, good, for, the, gander, some, of, w...\n",
              "28          2  [is, also, good, for, the, gander, some, of, w...\n",
              "29          2                                         [is, also]\n",
              "30          2                                             [also]\n",
              "31          2  [good, for, the, gander, some, of, which, occa...\n",
              "32          2  [for, the, gander, some, of, which, occasional...\n",
              "33          1  [the, gander, some, of, which, occasionally, a...\n",
              "34          2                                      [the, gander]\n",
              "35          2                                      [the, gander]\n",
              "36          2                                           [gander]\n",
              "38          2  [some, of, which, occasionally, amuses, but, n...\n",
              "39          2                                  [some, of, which]\n",
              "40          2                                             [some]\n",
              "41          2                                        [of, which]\n",
              "42          2                                            [which]\n",
              "43          2  [occasionally, amuses, but, none, of, which, a...\n",
              "44          2                                     [occasionally]\n",
              "45          2  [amuses, but, none, of, which, amounts, to, mu...\n",
              "46          3                                           [amuses]\n",
              "47          1  [but, none, of, which, amounts, to, much, of, ...\n",
              "48          2                                              [but]\n",
              "49          1    [none, of, which, amounts, to, much, of, story]\n",
              "50          2                                             [none]\n",
              "51          2          [of, which, amounts, to, much, of, story]"
            ],
            "text/html": [
              "\n",
              "  <div id=\"df-1133c159-8968-4b33-987b-08a3d6b71932\">\n",
              "    <div class=\"colab-df-container\">\n",
              "      <div>\n",
              "<style scoped>\n",
              "    .dataframe tbody tr th:only-of-type {\n",
              "        vertical-align: middle;\n",
              "    }\n",
              "\n",
              "    .dataframe tbody tr th {\n",
              "        vertical-align: top;\n",
              "    }\n",
              "\n",
              "    .dataframe thead th {\n",
              "        text-align: right;\n",
              "    }\n",
              "</style>\n",
              "<table border=\"1\" class=\"dataframe\">\n",
              "  <thead>\n",
              "    <tr style=\"text-align: right;\">\n",
              "      <th></th>\n",
              "      <th>Sentiment</th>\n",
              "      <th>Process Phrase</th>\n",
              "    </tr>\n",
              "  </thead>\n",
              "  <tbody>\n",
              "    <tr>\n",
              "      <th>0</th>\n",
              "      <td>1</td>\n",
              "      <td>[series, of, escapades, demonstrating, the, ad...</td>\n",
              "    </tr>\n",
              "    <tr>\n",
              "      <th>1</th>\n",
              "      <td>2</td>\n",
              "      <td>[series, of, escapades, demonstrating, the, ad...</td>\n",
              "    </tr>\n",
              "    <tr>\n",
              "      <th>2</th>\n",
              "      <td>2</td>\n",
              "      <td>[series]</td>\n",
              "    </tr>\n",
              "    <tr>\n",
              "      <th>4</th>\n",
              "      <td>2</td>\n",
              "      <td>[series]</td>\n",
              "    </tr>\n",
              "    <tr>\n",
              "      <th>5</th>\n",
              "      <td>2</td>\n",
              "      <td>[of, escapades, demonstrating, the, adage, tha...</td>\n",
              "    </tr>\n",
              "    <tr>\n",
              "      <th>6</th>\n",
              "      <td>2</td>\n",
              "      <td>[of]</td>\n",
              "    </tr>\n",
              "    <tr>\n",
              "      <th>7</th>\n",
              "      <td>2</td>\n",
              "      <td>[escapades, demonstrating, the, adage, that, w...</td>\n",
              "    </tr>\n",
              "    <tr>\n",
              "      <th>8</th>\n",
              "      <td>2</td>\n",
              "      <td>[escapades]</td>\n",
              "    </tr>\n",
              "    <tr>\n",
              "      <th>9</th>\n",
              "      <td>2</td>\n",
              "      <td>[demonstrating, the, adage, that, what, is, go...</td>\n",
              "    </tr>\n",
              "    <tr>\n",
              "      <th>10</th>\n",
              "      <td>2</td>\n",
              "      <td>[demonstrating, the, adage]</td>\n",
              "    </tr>\n",
              "    <tr>\n",
              "      <th>11</th>\n",
              "      <td>2</td>\n",
              "      <td>[demonstrating]</td>\n",
              "    </tr>\n",
              "    <tr>\n",
              "      <th>12</th>\n",
              "      <td>2</td>\n",
              "      <td>[the, adage]</td>\n",
              "    </tr>\n",
              "    <tr>\n",
              "      <th>13</th>\n",
              "      <td>2</td>\n",
              "      <td>[the]</td>\n",
              "    </tr>\n",
              "    <tr>\n",
              "      <th>14</th>\n",
              "      <td>2</td>\n",
              "      <td>[adage]</td>\n",
              "    </tr>\n",
              "    <tr>\n",
              "      <th>15</th>\n",
              "      <td>2</td>\n",
              "      <td>[that, what, is, good, for, the, goose]</td>\n",
              "    </tr>\n",
              "    <tr>\n",
              "      <th>16</th>\n",
              "      <td>2</td>\n",
              "      <td>[that]</td>\n",
              "    </tr>\n",
              "    <tr>\n",
              "      <th>17</th>\n",
              "      <td>2</td>\n",
              "      <td>[what, is, good, for, the, goose]</td>\n",
              "    </tr>\n",
              "    <tr>\n",
              "      <th>18</th>\n",
              "      <td>2</td>\n",
              "      <td>[what]</td>\n",
              "    </tr>\n",
              "    <tr>\n",
              "      <th>19</th>\n",
              "      <td>2</td>\n",
              "      <td>[is, good, for, the, goose]</td>\n",
              "    </tr>\n",
              "    <tr>\n",
              "      <th>20</th>\n",
              "      <td>2</td>\n",
              "      <td>[is]</td>\n",
              "    </tr>\n",
              "    <tr>\n",
              "      <th>21</th>\n",
              "      <td>3</td>\n",
              "      <td>[good, for, the, goose]</td>\n",
              "    </tr>\n",
              "    <tr>\n",
              "      <th>22</th>\n",
              "      <td>3</td>\n",
              "      <td>[good]</td>\n",
              "    </tr>\n",
              "    <tr>\n",
              "      <th>23</th>\n",
              "      <td>2</td>\n",
              "      <td>[for, the, goose]</td>\n",
              "    </tr>\n",
              "    <tr>\n",
              "      <th>24</th>\n",
              "      <td>2</td>\n",
              "      <td>[for]</td>\n",
              "    </tr>\n",
              "    <tr>\n",
              "      <th>25</th>\n",
              "      <td>2</td>\n",
              "      <td>[the, goose]</td>\n",
              "    </tr>\n",
              "    <tr>\n",
              "      <th>26</th>\n",
              "      <td>2</td>\n",
              "      <td>[goose]</td>\n",
              "    </tr>\n",
              "    <tr>\n",
              "      <th>27</th>\n",
              "      <td>2</td>\n",
              "      <td>[is, also, good, for, the, gander, some, of, w...</td>\n",
              "    </tr>\n",
              "    <tr>\n",
              "      <th>28</th>\n",
              "      <td>2</td>\n",
              "      <td>[is, also, good, for, the, gander, some, of, w...</td>\n",
              "    </tr>\n",
              "    <tr>\n",
              "      <th>29</th>\n",
              "      <td>2</td>\n",
              "      <td>[is, also]</td>\n",
              "    </tr>\n",
              "    <tr>\n",
              "      <th>30</th>\n",
              "      <td>2</td>\n",
              "      <td>[also]</td>\n",
              "    </tr>\n",
              "    <tr>\n",
              "      <th>31</th>\n",
              "      <td>2</td>\n",
              "      <td>[good, for, the, gander, some, of, which, occa...</td>\n",
              "    </tr>\n",
              "    <tr>\n",
              "      <th>32</th>\n",
              "      <td>2</td>\n",
              "      <td>[for, the, gander, some, of, which, occasional...</td>\n",
              "    </tr>\n",
              "    <tr>\n",
              "      <th>33</th>\n",
              "      <td>1</td>\n",
              "      <td>[the, gander, some, of, which, occasionally, a...</td>\n",
              "    </tr>\n",
              "    <tr>\n",
              "      <th>34</th>\n",
              "      <td>2</td>\n",
              "      <td>[the, gander]</td>\n",
              "    </tr>\n",
              "    <tr>\n",
              "      <th>35</th>\n",
              "      <td>2</td>\n",
              "      <td>[the, gander]</td>\n",
              "    </tr>\n",
              "    <tr>\n",
              "      <th>36</th>\n",
              "      <td>2</td>\n",
              "      <td>[gander]</td>\n",
              "    </tr>\n",
              "    <tr>\n",
              "      <th>38</th>\n",
              "      <td>2</td>\n",
              "      <td>[some, of, which, occasionally, amuses, but, n...</td>\n",
              "    </tr>\n",
              "    <tr>\n",
              "      <th>39</th>\n",
              "      <td>2</td>\n",
              "      <td>[some, of, which]</td>\n",
              "    </tr>\n",
              "    <tr>\n",
              "      <th>40</th>\n",
              "      <td>2</td>\n",
              "      <td>[some]</td>\n",
              "    </tr>\n",
              "    <tr>\n",
              "      <th>41</th>\n",
              "      <td>2</td>\n",
              "      <td>[of, which]</td>\n",
              "    </tr>\n",
              "    <tr>\n",
              "      <th>42</th>\n",
              "      <td>2</td>\n",
              "      <td>[which]</td>\n",
              "    </tr>\n",
              "    <tr>\n",
              "      <th>43</th>\n",
              "      <td>2</td>\n",
              "      <td>[occasionally, amuses, but, none, of, which, a...</td>\n",
              "    </tr>\n",
              "    <tr>\n",
              "      <th>44</th>\n",
              "      <td>2</td>\n",
              "      <td>[occasionally]</td>\n",
              "    </tr>\n",
              "    <tr>\n",
              "      <th>45</th>\n",
              "      <td>2</td>\n",
              "      <td>[amuses, but, none, of, which, amounts, to, mu...</td>\n",
              "    </tr>\n",
              "    <tr>\n",
              "      <th>46</th>\n",
              "      <td>3</td>\n",
              "      <td>[amuses]</td>\n",
              "    </tr>\n",
              "    <tr>\n",
              "      <th>47</th>\n",
              "      <td>1</td>\n",
              "      <td>[but, none, of, which, amounts, to, much, of, ...</td>\n",
              "    </tr>\n",
              "    <tr>\n",
              "      <th>48</th>\n",
              "      <td>2</td>\n",
              "      <td>[but]</td>\n",
              "    </tr>\n",
              "    <tr>\n",
              "      <th>49</th>\n",
              "      <td>1</td>\n",
              "      <td>[none, of, which, amounts, to, much, of, story]</td>\n",
              "    </tr>\n",
              "    <tr>\n",
              "      <th>50</th>\n",
              "      <td>2</td>\n",
              "      <td>[none]</td>\n",
              "    </tr>\n",
              "    <tr>\n",
              "      <th>51</th>\n",
              "      <td>2</td>\n",
              "      <td>[of, which, amounts, to, much, of, story]</td>\n",
              "    </tr>\n",
              "  </tbody>\n",
              "</table>\n",
              "</div>\n",
              "      <button class=\"colab-df-convert\" onclick=\"convertToInteractive('df-1133c159-8968-4b33-987b-08a3d6b71932')\"\n",
              "              title=\"Convert this dataframe to an interactive table.\"\n",
              "              style=\"display:none;\">\n",
              "        \n",
              "  <svg xmlns=\"http://www.w3.org/2000/svg\" height=\"24px\"viewBox=\"0 0 24 24\"\n",
              "       width=\"24px\">\n",
              "    <path d=\"M0 0h24v24H0V0z\" fill=\"none\"/>\n",
              "    <path d=\"M18.56 5.44l.94 2.06.94-2.06 2.06-.94-2.06-.94-.94-2.06-.94 2.06-2.06.94zm-11 1L8.5 8.5l.94-2.06 2.06-.94-2.06-.94L8.5 2.5l-.94 2.06-2.06.94zm10 10l.94 2.06.94-2.06 2.06-.94-2.06-.94-.94-2.06-.94 2.06-2.06.94z\"/><path d=\"M17.41 7.96l-1.37-1.37c-.4-.4-.92-.59-1.43-.59-.52 0-1.04.2-1.43.59L10.3 9.45l-7.72 7.72c-.78.78-.78 2.05 0 2.83L4 21.41c.39.39.9.59 1.41.59.51 0 1.02-.2 1.41-.59l7.78-7.78 2.81-2.81c.8-.78.8-2.07 0-2.86zM5.41 20L4 18.59l7.72-7.72 1.47 1.35L5.41 20z\"/>\n",
              "  </svg>\n",
              "      </button>\n",
              "      \n",
              "  <style>\n",
              "    .colab-df-container {\n",
              "      display:flex;\n",
              "      flex-wrap:wrap;\n",
              "      gap: 12px;\n",
              "    }\n",
              "\n",
              "    .colab-df-convert {\n",
              "      background-color: #E8F0FE;\n",
              "      border: none;\n",
              "      border-radius: 50%;\n",
              "      cursor: pointer;\n",
              "      display: none;\n",
              "      fill: #1967D2;\n",
              "      height: 32px;\n",
              "      padding: 0 0 0 0;\n",
              "      width: 32px;\n",
              "    }\n",
              "\n",
              "    .colab-df-convert:hover {\n",
              "      background-color: #E2EBFA;\n",
              "      box-shadow: 0px 1px 2px rgba(60, 64, 67, 0.3), 0px 1px 3px 1px rgba(60, 64, 67, 0.15);\n",
              "      fill: #174EA6;\n",
              "    }\n",
              "\n",
              "    [theme=dark] .colab-df-convert {\n",
              "      background-color: #3B4455;\n",
              "      fill: #D2E3FC;\n",
              "    }\n",
              "\n",
              "    [theme=dark] .colab-df-convert:hover {\n",
              "      background-color: #434B5C;\n",
              "      box-shadow: 0px 1px 3px 1px rgba(0, 0, 0, 0.15);\n",
              "      filter: drop-shadow(0px 1px 2px rgba(0, 0, 0, 0.3));\n",
              "      fill: #FFFFFF;\n",
              "    }\n",
              "  </style>\n",
              "\n",
              "      <script>\n",
              "        const buttonEl =\n",
              "          document.querySelector('#df-1133c159-8968-4b33-987b-08a3d6b71932 button.colab-df-convert');\n",
              "        buttonEl.style.display =\n",
              "          google.colab.kernel.accessAllowed ? 'block' : 'none';\n",
              "\n",
              "        async function convertToInteractive(key) {\n",
              "          const element = document.querySelector('#df-1133c159-8968-4b33-987b-08a3d6b71932');\n",
              "          const dataTable =\n",
              "            await google.colab.kernel.invokeFunction('convertToInteractive',\n",
              "                                                     [key], {});\n",
              "          if (!dataTable) return;\n",
              "\n",
              "          const docLinkHtml = 'Like what you see? Visit the ' +\n",
              "            '<a target=\"_blank\" href=https://colab.research.google.com/notebooks/data_table.ipynb>data table notebook</a>'\n",
              "            + ' to learn more about interactive tables.';\n",
              "          element.innerHTML = '';\n",
              "          dataTable['output_type'] = 'display_data';\n",
              "          await google.colab.output.renderOutput(dataTable, element);\n",
              "          const docLink = document.createElement('div');\n",
              "          docLink.innerHTML = docLinkHtml;\n",
              "          element.appendChild(docLink);\n",
              "        }\n",
              "      </script>\n",
              "    </div>\n",
              "  </div>\n",
              "  "
            ]
          },
          "metadata": {},
          "execution_count": 20
        }
      ]
    },
    {
      "cell_type": "code",
      "source": [
        "reviews = df['Process Phrase']\n",
        "sentiment = df['Sentiment']"
      ],
      "metadata": {
        "id": "cRTgvZUsdwRE"
      },
      "execution_count": 21,
      "outputs": []
    },
    {
      "cell_type": "code",
      "source": [
        "test_reviews = test_df['Process Phrase']"
      ],
      "metadata": {
        "id": "kPtsxE_htYDN"
      },
      "execution_count": 22,
      "outputs": []
    },
    {
      "cell_type": "code",
      "source": [
        "test_reviews"
      ],
      "metadata": {
        "colab": {
          "base_uri": "https://localhost:8080/"
        },
        "id": "j_4Mg2VktgD7",
        "outputId": "90eb9f81-34c1-4240-c3b1-5e49494d5612"
      },
      "execution_count": 23,
      "outputs": [
        {
          "output_type": "execute_result",
          "data": {
            "text/plain": [
              "0       [as, exciting, as, all, this, exoticism, might...\n",
              "1       [as, exciting, as, all, this, exoticism, might...\n",
              "2       [exciting, as, all, this, exoticism, might, so...\n",
              "3       [exciting, as, all, this, exoticism, might, so...\n",
              "4       [as, all, this, exoticism, might, sound, to, t...\n",
              "                              ...                        \n",
              "1007       [struggles, of, the, working, class, to, life]\n",
              "1008                  [of, the, working, class, to, life]\n",
              "1009                      [the, working, class, to, life]\n",
              "1010                                [the, working, class]\n",
              "1011                                     [working, class]\n",
              "Name: Process Phrase, Length: 1012, dtype: object"
            ]
          },
          "metadata": {},
          "execution_count": 23
        }
      ]
    },
    {
      "cell_type": "code",
      "source": [
        "sentiment"
      ],
      "metadata": {
        "colab": {
          "base_uri": "https://localhost:8080/"
        },
        "id": "gkKhg_bpIPST",
        "outputId": "e0a0da3e-f1b1-459d-d096-28d0438c92b2"
      },
      "execution_count": 24,
      "outputs": [
        {
          "output_type": "execute_result",
          "data": {
            "text/plain": [
              "0         1\n",
              "1         2\n",
              "2         2\n",
              "4         2\n",
              "5         2\n",
              "         ..\n",
              "155043    4\n",
              "155044    2\n",
              "155045    3\n",
              "155046    4\n",
              "155047    4\n",
              "Name: Sentiment, Length: 154966, dtype: int64"
            ]
          },
          "metadata": {},
          "execution_count": 24
        }
      ]
    },
    {
      "cell_type": "code",
      "source": [
        "type(sentiment)"
      ],
      "metadata": {
        "colab": {
          "base_uri": "https://localhost:8080/"
        },
        "id": "FoFxm0dgISbg",
        "outputId": "0758732c-31b0-422f-9033-d19c6efec470"
      },
      "execution_count": 25,
      "outputs": [
        {
          "output_type": "execute_result",
          "data": {
            "text/plain": [
              "pandas.core.series.Series"
            ]
          },
          "metadata": {},
          "execution_count": 25
        }
      ]
    },
    {
      "cell_type": "code",
      "source": [
        "labels_df = sentiment.to_numpy()"
      ],
      "metadata": {
        "id": "8wOvuIjNIbGD"
      },
      "execution_count": 26,
      "outputs": []
    },
    {
      "cell_type": "code",
      "source": [
        "labels_df"
      ],
      "metadata": {
        "colab": {
          "base_uri": "https://localhost:8080/"
        },
        "id": "t130xx55IdVu",
        "outputId": "d28bfd4e-24b7-4e3d-d0df-3bb14b4ddfbb"
      },
      "execution_count": 27,
      "outputs": [
        {
          "output_type": "execute_result",
          "data": {
            "text/plain": [
              "array([1, 2, 2, ..., 3, 4, 4])"
            ]
          },
          "metadata": {},
          "execution_count": 27
        }
      ]
    },
    {
      "cell_type": "code",
      "source": [
        "# todo calculate the labels\n",
        "enc = OneHotEncoder()\n",
        "labels = enc.fit_transform(labels_df.reshape(-1, 1)).toarray()"
      ],
      "metadata": {
        "id": "EX3qwkgCJDqq"
      },
      "execution_count": 28,
      "outputs": []
    },
    {
      "cell_type": "code",
      "source": [
        "labels"
      ],
      "metadata": {
        "colab": {
          "base_uri": "https://localhost:8080/"
        },
        "id": "PFtPufPrJEhR",
        "outputId": "032c1888-e6d3-4a6e-fde1-394a434dcf9b"
      },
      "execution_count": 29,
      "outputs": [
        {
          "output_type": "execute_result",
          "data": {
            "text/plain": [
              "array([[0., 1., 0., 0., 0.],\n",
              "       [0., 0., 1., 0., 0.],\n",
              "       [0., 0., 1., 0., 0.],\n",
              "       ...,\n",
              "       [0., 0., 0., 1., 0.],\n",
              "       [0., 0., 0., 0., 1.],\n",
              "       [0., 0., 0., 0., 1.]])"
            ]
          },
          "metadata": {},
          "execution_count": 29
        }
      ]
    },
    {
      "cell_type": "code",
      "source": [
        "class FastText:\n",
        "\n",
        "    def __init__(self, preprocessor=None, method='skipgram'):\n",
        "        self.method = method\n",
        "        self.model = None\n",
        "        self.preprocessor = preprocessor\n",
        "\n",
        "    def train(self, texts):\n",
        "        \"\"\"\n",
        "        train the fasttext model and save it into self.model\n",
        "        Parameters\n",
        "        ----------\n",
        "        texts: list of list of str\n",
        "        \"\"\"\n",
        "        with open('train.txt', 'w') as f:\n",
        "            for text in texts:\n",
        "                f.write(\" \".join(text) + \"\\n\")\n",
        "        self.model = fasttext.train_unsupervised('train.txt', model=self.method, dim=100)\n",
        "\n",
        "    def get_query_embedding(self, query, tf_idf_vectorizer):\n",
        "        \"\"\"\n",
        "        get the embedding of the query. You can use the tf_idf_vectorizer to get the weights of the words in the query. preprocess the query using self.preprocessor if it is not None\n",
        "        Parameters\n",
        "        ----------\n",
        "        query: str\n",
        "        tf_idf_vectorizer: TfidfVectorizer\n",
        "        Returns embedding of the query\n",
        "        \"\"\"\n",
        "\n",
        "        query_embed = self.model.get_word_vector(query)\n",
        "        return query_embed\n",
        "\n",
        "    def save_FastText_model(self, path='FastText_model.bin'):\n",
        "        self.model.save_model(path)\n",
        "\n",
        "    def load_FastText_model(self, path=\"FastText_model.bin\"):\n",
        "        self.model = fasttext.load_model(path)\n",
        "\n",
        "    def prepare(self, dataset, mode, save=False):\n",
        "        if mode == 'train':\n",
        "            self.train(dataset)\n",
        "        if mode == 'load':\n",
        "            self.load_FastText_model()\n",
        "        if save:\n",
        "            self.save_FastText_model()"
      ],
      "metadata": {
        "id": "aAGgnHpojWv2"
      },
      "execution_count": 30,
      "outputs": []
    },
    {
      "cell_type": "code",
      "source": [
        "FastText_model = FastText(preprocessor=preprocess_text)\n",
        "FastText_model.prepare(reviews, mode='train', save=True)"
      ],
      "metadata": {
        "id": "71ykOtMPjbY6"
      },
      "execution_count": 31,
      "outputs": []
    },
    {
      "cell_type": "code",
      "source": [
        "embeddings = []\n",
        "for row in reviews:\n",
        "    embeddings.append(FastText_model.model.get_word_vector(' '.join(row)))\n",
        "embeddings = np.array(embeddings)"
      ],
      "metadata": {
        "id": "Y7il1DAZjvDH"
      },
      "execution_count": 32,
      "outputs": []
    },
    {
      "cell_type": "code",
      "source": [
        "FastText_model = FastText(preprocessor=preprocess_text)\n",
        "FastText_model.prepare(test_reviews, mode='train', save=True)"
      ],
      "metadata": {
        "id": "IKmdhpfIjcb8"
      },
      "execution_count": 33,
      "outputs": []
    },
    {
      "cell_type": "code",
      "source": [
        "test_embeddings = []\n",
        "for row in test_reviews:\n",
        "    test_embeddings.append(FastText_model.model.get_word_vector(' '.join(row)))\n",
        "test_embeddings = np.array(test_embeddings)"
      ],
      "metadata": {
        "id": "QQ45iqrPjwHL"
      },
      "execution_count": 34,
      "outputs": []
    },
    {
      "cell_type": "code",
      "source": [
        "test_embeddings"
      ],
      "metadata": {
        "colab": {
          "base_uri": "https://localhost:8080/"
        },
        "id": "de9jY5SElZHp",
        "outputId": "3a62e2a3-a14a-451c-b5e1-4803aa491202"
      },
      "execution_count": 35,
      "outputs": [
        {
          "output_type": "execute_result",
          "data": {
            "text/plain": [
              "array([[-0.00077777,  0.00086581, -0.00063025, ...,  0.00088814,\n",
              "        -0.00032133, -0.00041679],\n",
              "       [-0.00099639,  0.00095429, -0.00067099, ...,  0.00093932,\n",
              "        -0.00036976, -0.00046283],\n",
              "       [-0.00106295,  0.00105452, -0.00075994, ...,  0.00104086,\n",
              "        -0.00042679, -0.00048112],\n",
              "       ...,\n",
              "       [-0.00148535,  0.00189292, -0.00165462, ...,  0.00218079,\n",
              "        -0.00080263, -0.00102927],\n",
              "       [-0.0020382 ,  0.00267462, -0.00241234, ...,  0.00298689,\n",
              "        -0.001014  , -0.00132466],\n",
              "       [-0.00192319,  0.00244826, -0.0019968 , ...,  0.00241467,\n",
              "        -0.00085988, -0.00106347]], dtype=float32)"
            ]
          },
          "metadata": {},
          "execution_count": 35
        }
      ]
    },
    {
      "cell_type": "code",
      "source": [
        "test_embeddings.shape"
      ],
      "metadata": {
        "colab": {
          "base_uri": "https://localhost:8080/"
        },
        "id": "PDalRAywt7bH",
        "outputId": "09bf3295-d462-41ba-e2b2-f21c72f5d4d9"
      },
      "execution_count": 36,
      "outputs": [
        {
          "output_type": "execute_result",
          "data": {
            "text/plain": [
              "(1012, 100)"
            ]
          },
          "metadata": {},
          "execution_count": 36
        }
      ]
    },
    {
      "cell_type": "code",
      "source": [
        "embeddings.shape"
      ],
      "metadata": {
        "colab": {
          "base_uri": "https://localhost:8080/"
        },
        "id": "KB0wRZTXL3HD",
        "outputId": "185154d9-c119-4f4f-ba58-3e52f45ef449"
      },
      "execution_count": 37,
      "outputs": [
        {
          "output_type": "execute_result",
          "data": {
            "text/plain": [
              "(154966, 100)"
            ]
          },
          "metadata": {},
          "execution_count": 37
        }
      ]
    },
    {
      "cell_type": "code",
      "source": [
        "labels.shape"
      ],
      "metadata": {
        "colab": {
          "base_uri": "https://localhost:8080/"
        },
        "id": "8zMq6eo4NRS7",
        "outputId": "c4c7542d-f560-4f95-fa33-224697c2f34d"
      },
      "execution_count": 38,
      "outputs": [
        {
          "output_type": "execute_result",
          "data": {
            "text/plain": [
              "(154966, 5)"
            ]
          },
          "metadata": {},
          "execution_count": 38
        }
      ]
    },
    {
      "cell_type": "code",
      "source": [
        "X_train = embeddings\n",
        "y_train = labels"
      ],
      "metadata": {
        "id": "ilJeNM8siTCV"
      },
      "execution_count": 39,
      "outputs": []
    },
    {
      "cell_type": "code",
      "source": [
        "from torch.utils.data import Dataset\n",
        "\n",
        "class PapersDataSet(Dataset):\n",
        "    def __init__(self, embeddings: list, labels: list):\n",
        "        self.embeddings = embeddings\n",
        "        self.labels = labels\n",
        "\n",
        "    def __len__(self):\n",
        "        return len(self.labels)\n",
        "\n",
        "    def __getitem__(self, i):\n",
        "        return self.embeddings[i], self.labels[i]"
      ],
      "metadata": {
        "id": "hmJQQAxpD9EJ"
      },
      "execution_count": 40,
      "outputs": []
    },
    {
      "cell_type": "code",
      "source": [
        "train_dataset = PapersDataSet(X_train, y_train)\n",
        "\n",
        "batch_size  = 64\n",
        "\n",
        "train_loader = DataLoader(dataset=train_dataset,\n",
        "                                          batch_size=batch_size,\n",
        "                                          shuffle=True)"
      ],
      "metadata": {
        "id": "kjksZi3KC8av"
      },
      "execution_count": 41,
      "outputs": []
    },
    {
      "cell_type": "code",
      "source": [
        "device = torch.device('cuda' if torch.cuda.is_available() else 'cpu')\n",
        "print(device)"
      ],
      "metadata": {
        "colab": {
          "base_uri": "https://localhost:8080/"
        },
        "id": "joRsfGtUCd1r",
        "outputId": "670af699-c89e-4388-e8c3-41afcaf91ae4"
      },
      "execution_count": 42,
      "outputs": [
        {
          "output_type": "stream",
          "name": "stdout",
          "text": [
            "cuda\n"
          ]
        }
      ]
    },
    {
      "cell_type": "code",
      "source": [
        "import torch\n",
        "import torch.nn as nn\n",
        "\n",
        "class CNN(nn.Module):\n",
        "    def __init__(self, in_features=1000, num_classes=5):\n",
        "        super().__init__()\n",
        "        self.seq = nn.Sequential(\n",
        "            nn.BatchNorm1d(in_features),\n",
        "            nn.Linear(in_features, 512),  # Additional linear layer\n",
        "            nn.ReLU(),                     # Activation function\n",
        "            nn.Linear(512, 256),            # Additional linear layer\n",
        "            nn.ReLU(),                     # Activation function\n",
        "            nn.Linear(256, num_classes),    # Final linear layer\n",
        "            nn.Softmax(1),\n",
        "        )\n",
        "\n",
        "    def forward(self, x):\n",
        "        return self.seq(x)\n",
        "\n",
        "# Define the number of classes\n",
        "num_classes = 5\n",
        "\n",
        "# Create an instance of the ResNet-50 model\n",
        "model = CNN(100,5)\n"
      ],
      "metadata": {
        "id": "DY8b5evFaKH-"
      },
      "execution_count": 60,
      "outputs": []
    },
    {
      "cell_type": "code",
      "source": [
        "model = model.to(device)"
      ],
      "metadata": {
        "id": "glPz09_dBPfw"
      },
      "execution_count": 61,
      "outputs": []
    },
    {
      "cell_type": "code",
      "source": [
        "\n",
        "# Define the loss function and optimizer\n",
        "criterion = nn.CrossEntropyLoss()\n",
        "optimizer = torch.optim.Adam(model.parameters(), lr=0.001)\n"
      ],
      "metadata": {
        "id": "Ez5NjWV4AbE2"
      },
      "execution_count": 62,
      "outputs": []
    },
    {
      "cell_type": "code",
      "source": [
        "def eval_epoch(model: nn.Module, criterion: nn.Module, dataloader: torch.utils.data.DataLoader, test_mode=False):\n",
        "    \"\"\"\n",
        "    Evaluate the model on the given dataloader. used for validation and test\n",
        "    Parameters\n",
        "    ----------\n",
        "    model: nn.Module\n",
        "    criterion: nn.Module\n",
        "    dataloader: torch.utils.data.DataLoader\n",
        "    test_mode: bool\n",
        "        If True, the function will print 'Test' instead of 'Validation'\n",
        "    Returns\n",
        "    -------\n",
        "    eval_loss: float\n",
        "        The loss on the given dataloader\n",
        "    predicted_labels: list\n",
        "        The predicted labels\n",
        "    true_labels: list\n",
        "        The true labels\n",
        "    f1_score_macro: float\n",
        "        The f1 score on the given dataloader\n",
        "    \"\"\"\n",
        "    eval_loss = 0\n",
        "    predicted_labels = []\n",
        "    true_labels = []\n",
        "    with torch.no_grad():\n",
        "        for i, (x, labels) in enumerate(dataloader):\n",
        "            x, labels = x.to(device, dtype=torch.float), labels.to(device, dtype=torch.float)\n",
        "            outputs = model(x)\n",
        "            loss = criterion(outputs, labels)\n",
        "            eval_loss += loss.item()\n",
        "            predicted_targets = outputs.argmax(dim=1)\n",
        "            truths = labels.argmax(dim=1)\n",
        "            predicted_labels.extend(predicted_targets.detach().cpu())\n",
        "            true_labels.extend(truths.detach().cpu())\n",
        "\n",
        "    f1_score_macro = f1_score(true_labels, predicted_labels, average='macro')\n",
        "\n",
        "\n",
        "    return eval_loss, predicted_labels, true_labels, f1_score_macro"
      ],
      "metadata": {
        "id": "VO9MtJuhEc8L"
      },
      "execution_count": 63,
      "outputs": []
    },
    {
      "cell_type": "code",
      "source": [
        "\"\"\"\n",
        "Train the model for num_epochs epochs\n",
        "epoch_true and epoch_all are used to calculate the accuracy.\n",
        "epoch_true is the number of correct predictions and epoch_all is the total number of predictions in the epoch\n",
        "\"\"\"\n",
        "num_epochs = 25\n",
        "\n",
        "train_loss_arr, val_loss_arr = [], []\n",
        "f1_macro_scores = []\n",
        "f1_train_scores = []\n",
        "for epoch in range(num_epochs):\n",
        "    start_time = time()\n",
        "\n",
        "    train_loss, val_loss = 0, 0\n",
        "    epoch_all = 0\n",
        "    epoch_true = 0\n",
        "    predicted_labels = []\n",
        "    true_labels = []\n",
        "\n",
        "    model.train()\n",
        "\n",
        "    for i, (x, labels) in enumerate(train_loader):\n",
        "        x, labels = x.to(device, dtype=torch.float), labels.to(device, dtype=torch.float)\n",
        "        optimizer.zero_grad()\n",
        "        outputs = model(x)\n",
        "        loss = criterion(outputs, labels)\n",
        "        loss.backward()\n",
        "        optimizer.step()\n",
        "\n",
        "        train_loss += loss.item()\n",
        "        predicted_targets = outputs.argmax(dim=1)\n",
        "        truths = labels.argmax(dim=1)\n",
        "        predicted_labels.extend(predicted_targets.detach().cpu())\n",
        "        true_labels.extend(truths.detach().cpu())\n",
        "        epoch_true += (predicted_targets == truths).sum().item()\n",
        "        epoch_all += len(predicted_targets)\n",
        "\n",
        "    f1_train_scores.append(f1_score(true_labels, predicted_labels, average='macro'))\n",
        "    end_time = time()\n",
        "\n",
        "    print(f'Epoch {epoch + 1} finished in {end_time - start_time:.2f}s')\n",
        "    print(f\"[Epoch {epoch + 1}]\\t\"\n",
        "        f\"Train Loss: {train_loss:.4f}\\t\")"
      ],
      "metadata": {
        "colab": {
          "base_uri": "https://localhost:8080/"
        },
        "id": "fdwi58B-Ec-l",
        "outputId": "55e4faac-1aef-4b89-d3ff-8d2df2238bf3"
      },
      "execution_count": 65,
      "outputs": [
        {
          "output_type": "stream",
          "name": "stdout",
          "text": [
            "Epoch 1 finished in 22.38s\n",
            "[Epoch 1]\tTrain Loss: 3188.8677\t\n",
            "Epoch 2 finished in 19.66s\n",
            "[Epoch 2]\tTrain Loss: 3183.1891\t\n",
            "Epoch 3 finished in 20.23s\n",
            "[Epoch 3]\tTrain Loss: 3172.4241\t\n",
            "Epoch 4 finished in 20.05s\n",
            "[Epoch 4]\tTrain Loss: 3166.3229\t\n",
            "Epoch 5 finished in 20.34s\n",
            "[Epoch 5]\tTrain Loss: 3160.6468\t\n",
            "Epoch 6 finished in 20.06s\n",
            "[Epoch 6]\tTrain Loss: 3152.6647\t\n",
            "Epoch 7 finished in 19.98s\n",
            "[Epoch 7]\tTrain Loss: 3146.1837\t\n",
            "Epoch 8 finished in 20.11s\n",
            "[Epoch 8]\tTrain Loss: 3140.9544\t\n",
            "Epoch 9 finished in 20.40s\n",
            "[Epoch 9]\tTrain Loss: 3138.8516\t\n",
            "Epoch 10 finished in 20.07s\n",
            "[Epoch 10]\tTrain Loss: 3134.4325\t\n",
            "Epoch 11 finished in 21.83s\n",
            "[Epoch 11]\tTrain Loss: 3125.3205\t\n",
            "Epoch 12 finished in 19.87s\n",
            "[Epoch 12]\tTrain Loss: 3124.0954\t\n",
            "Epoch 13 finished in 19.80s\n",
            "[Epoch 13]\tTrain Loss: 3119.9392\t\n",
            "Epoch 14 finished in 20.21s\n",
            "[Epoch 14]\tTrain Loss: 3115.6144\t\n",
            "Epoch 15 finished in 19.99s\n",
            "[Epoch 15]\tTrain Loss: 3113.0946\t\n",
            "Epoch 16 finished in 19.97s\n",
            "[Epoch 16]\tTrain Loss: 3107.2601\t\n",
            "Epoch 17 finished in 20.90s\n",
            "[Epoch 17]\tTrain Loss: 3108.2856\t\n",
            "Epoch 18 finished in 20.55s\n",
            "[Epoch 18]\tTrain Loss: 3102.9706\t\n",
            "Epoch 19 finished in 20.62s\n",
            "[Epoch 19]\tTrain Loss: 3100.5279\t\n",
            "Epoch 20 finished in 20.63s\n",
            "[Epoch 20]\tTrain Loss: 3099.6387\t\n",
            "Epoch 21 finished in 20.82s\n",
            "[Epoch 21]\tTrain Loss: 3095.2723\t\n",
            "Epoch 22 finished in 19.54s\n",
            "[Epoch 22]\tTrain Loss: 3093.0961\t\n",
            "Epoch 23 finished in 20.67s\n",
            "[Epoch 23]\tTrain Loss: 3090.8071\t\n",
            "Epoch 24 finished in 19.69s\n",
            "[Epoch 24]\tTrain Loss: 3088.0295\t\n",
            "Epoch 25 finished in 20.33s\n",
            "[Epoch 25]\tTrain Loss: 3086.7926\t\n"
          ]
        }
      ]
    },
    {
      "cell_type": "code",
      "source": [
        "test_tensor = torch.tensor(test_embeddings)\n",
        "test_tensor = test_tensor.to(device)\n",
        "\n",
        "# Set the model to evaluation mode\n",
        "model.eval()\n",
        "\n",
        "# Pass the test samples through the model to get the outputs\n",
        "with torch.no_grad():\n",
        "    outputs = model(test_tensor)\n",
        "outputs = outputs.cpu()\n",
        "# Convert the outputs to a numpy array\n",
        "output_array = outputs.numpy()\n",
        "\n",
        "# Print the output array\n",
        "print(output_array)"
      ],
      "metadata": {
        "colab": {
          "base_uri": "https://localhost:8080/"
        },
        "id": "Z3l0of0c5nXL",
        "outputId": "6290709d-de19-4d7c-e37e-33dd97b34161"
      },
      "execution_count": 70,
      "outputs": [
        {
          "output_type": "stream",
          "name": "stdout",
          "text": [
            "[[0.0000000e+00 1.7386288e-15 1.0000000e+00 2.0282278e-12 0.0000000e+00]\n",
            " [0.0000000e+00 1.8957925e-15 1.0000000e+00 2.1349708e-12 0.0000000e+00]\n",
            " [0.0000000e+00 2.0184611e-15 1.0000000e+00 2.1879319e-12 0.0000000e+00]\n",
            " ...\n",
            " [0.0000000e+00 3.5895901e-15 1.0000000e+00 2.8818354e-12 0.0000000e+00]\n",
            " [0.0000000e+00 5.9219144e-15 1.0000000e+00 3.6728142e-12 0.0000000e+00]\n",
            " [0.0000000e+00 4.7944322e-15 1.0000000e+00 3.3819679e-12 0.0000000e+00]]\n"
          ]
        }
      ]
    },
    {
      "cell_type": "code",
      "source": [
        "output_array[10]"
      ],
      "metadata": {
        "colab": {
          "base_uri": "https://localhost:8080/"
        },
        "id": "T9ftbOCj6zfR",
        "outputId": "7a086a7c-20c5-4653-998d-fa3c570feeb8"
      },
      "execution_count": 71,
      "outputs": [
        {
          "output_type": "execute_result",
          "data": {
            "text/plain": [
              "array([0.0000000e+00, 2.3287712e-15, 1.0000000e+00, 2.2748678e-12,\n",
              "       0.0000000e+00], dtype=float32)"
            ]
          },
          "metadata": {},
          "execution_count": 71
        }
      ]
    },
    {
      "cell_type": "code",
      "source": [
        "indices = np.argmax(output_array, axis=1)\n",
        "\n",
        "# Create a new array with the same length as output_array, filled with zeros\n",
        "result_array = np.zeros(len(output_array))\n",
        "\n",
        "# Iterate over each row in output_array\n",
        "for i in range(output_array.shape[0]):\n",
        "    # Get the index of the maximum value for the current row\n",
        "    row_indices = np.argmax(output_array[i])\n",
        "\n",
        "    # Set the index in the current row to 1\n",
        "    result_array[i] = row_indices\n",
        "\n",
        "# Print the result_array\n",
        "print(result_array[10])"
      ],
      "metadata": {
        "colab": {
          "base_uri": "https://localhost:8080/"
        },
        "id": "AJLT8j7S6qS5",
        "outputId": "6b6a4fec-1b03-48b4-ceae-b00af0c534dc"
      },
      "execution_count": 72,
      "outputs": [
        {
          "output_type": "stream",
          "name": "stdout",
          "text": [
            "2.0\n"
          ]
        }
      ]
    },
    {
      "cell_type": "code",
      "source": [
        "result_array"
      ],
      "metadata": {
        "colab": {
          "base_uri": "https://localhost:8080/"
        },
        "id": "bq8-guXV7Tml",
        "outputId": "a9170db9-b7e3-48ad-d39a-7d017c7dad70"
      },
      "execution_count": 73,
      "outputs": [
        {
          "output_type": "execute_result",
          "data": {
            "text/plain": [
              "array([2., 2., 2., ..., 2., 2., 2.])"
            ]
          },
          "metadata": {},
          "execution_count": 73
        }
      ]
    },
    {
      "cell_type": "code",
      "source": [
        "ids = np.arange(1, len(result_array) + 1)\n",
        "\n",
        "# Create a DataFrame with the result_array and ids\n",
        "df = pd.DataFrame({'Sentiment': result_array, 'ID': ids})\n",
        "\n",
        "# Print the DataFrame\n",
        "print(df)"
      ],
      "metadata": {
        "colab": {
          "base_uri": "https://localhost:8080/"
        },
        "id": "GGG37Ak77y8G",
        "outputId": "faa6926f-9cce-4242-d649-db36dee89a6f"
      },
      "execution_count": 74,
      "outputs": [
        {
          "output_type": "stream",
          "name": "stdout",
          "text": [
            "      Sentiment    ID\n",
            "0           2.0     1\n",
            "1           2.0     2\n",
            "2           2.0     3\n",
            "3           2.0     4\n",
            "4           2.0     5\n",
            "...         ...   ...\n",
            "1007        2.0  1008\n",
            "1008        2.0  1009\n",
            "1009        2.0  1010\n",
            "1010        2.0  1011\n",
            "1011        2.0  1012\n",
            "\n",
            "[1012 rows x 2 columns]\n"
          ]
        }
      ]
    },
    {
      "cell_type": "code",
      "source": [
        "df.to_csv('output_nn.csv', index=False)"
      ],
      "metadata": {
        "id": "tpw-n3eo76XK"
      },
      "execution_count": 75,
      "outputs": []
    },
    {
      "cell_type": "code",
      "source": [
        "import pandas as pd\n",
        "from sklearn.feature_extraction.text import TfidfVectorizer\n",
        "from sklearn.model_selection import train_test_split\n",
        "from sklearn.svm import LinearSVC\n",
        "from sklearn.metrics import classification_report\n",
        "\n",
        "\n",
        "classifier = LinearSVC()\n",
        "classifier.fit(X_train, labels_df)\n",
        "\n",
        "# Make predictions on the test set\n",
        "y_pred = classifier.predict(test_embeddings)\n",
        "\n",
        "# Evaluate the model\n"
      ],
      "metadata": {
        "id": "jX3BOSJeakvF"
      },
      "execution_count": null,
      "outputs": []
    },
    {
      "cell_type": "code",
      "source": [
        "y_pred"
      ],
      "metadata": {
        "colab": {
          "base_uri": "https://localhost:8080/"
        },
        "id": "3fxUfr-v_Z2Z",
        "outputId": "414e8ac6-4a97-4e14-cf4d-bd9ab3ca6972"
      },
      "execution_count": null,
      "outputs": [
        {
          "output_type": "execute_result",
          "data": {
            "text/plain": [
              "array([2, 2, 2, ..., 2, 2, 2])"
            ]
          },
          "metadata": {},
          "execution_count": 123
        }
      ]
    },
    {
      "cell_type": "code",
      "source": [
        "ids = np.arange(1, len(y_pred) + 1)\n",
        "\n",
        "# Create a DataFrame with the result_array and ids\n",
        "df = pd.DataFrame({'Sentiment': y_pred, 'ID': ids})\n",
        "\n",
        "# Print the DataFrame\n",
        "print(df)"
      ],
      "metadata": {
        "colab": {
          "base_uri": "https://localhost:8080/"
        },
        "id": "rLYLy-i38qDN",
        "outputId": "51357585-2c9a-4fd0-fd61-3bce77ec568c"
      },
      "execution_count": null,
      "outputs": [
        {
          "output_type": "stream",
          "name": "stdout",
          "text": [
            "      Sentiment    ID\n",
            "0             2     1\n",
            "1             2     2\n",
            "2             2     3\n",
            "3             2     4\n",
            "4             2     5\n",
            "...         ...   ...\n",
            "1007          2  1008\n",
            "1008          2  1009\n",
            "1009          2  1010\n",
            "1010          2  1011\n",
            "1011          2  1012\n",
            "\n",
            "[1012 rows x 2 columns]\n"
          ]
        }
      ]
    },
    {
      "cell_type": "code",
      "source": [
        "df.to_csv('output_svm.csv', index=False)"
      ],
      "metadata": {
        "id": "riSg284J9azi"
      },
      "execution_count": null,
      "outputs": []
    },
    {
      "cell_type": "markdown",
      "source": [
        "SVM not using proccess"
      ],
      "metadata": {
        "id": "KRAT7knEbyHc"
      }
    },
    {
      "cell_type": "code",
      "source": [
        "import pandas as pd\n",
        "from sklearn.feature_extraction.text import TfidfVectorizer\n",
        "from sklearn.model_selection import train_test_split\n",
        "from sklearn.svm import LinearSVC\n",
        "from sklearn.metrics import classification_report\n",
        "\n",
        "\n",
        "# Load the dataset\n",
        "data = pd.read_csv('/content/drive/MyDrive/ML_NLP/data-train.csv')\n",
        "data_test = pd.read_csv('/content/drive/MyDrive/ML_NLP/pr-test-data.csv')\n",
        "\n",
        "# Split the data into input features (reviews) and target variable (sentiment)\n",
        "reviews = data['Phrase']\n",
        "sentiment = data['Sentiment']\n",
        "\n",
        "# Split the dataset into training and testing sets\n",
        "X_train2 = reviews\n",
        "X_test2 = data_test['Phrase']\n",
        "y_train2 = sentiment\n",
        "\n",
        "\n",
        "vectorizer = TfidfVectorizer(max_features=100)\n",
        "X_train_vectorized = vectorizer.fit_transform(X_train2)\n",
        "X_test_vectorized = vectorizer.transform(X_test2)\n",
        "\n",
        "# Train a linear support vector classifier (SVC)\n",
        "classifier = LinearSVC()\n",
        "classifier.fit(X_train_vectorized, y_train2)\n",
        "\n",
        "# Make predictions on the test set\n",
        "y_pred = classifier.predict(X_test_vectorized)\n"
      ],
      "metadata": {
        "id": "Kvlr7Lf7bh0G"
      },
      "execution_count": 59,
      "outputs": []
    },
    {
      "cell_type": "code",
      "source": [
        "y_pred"
      ],
      "metadata": {
        "colab": {
          "base_uri": "https://localhost:8080/"
        },
        "id": "E-KIw-GLBNIB",
        "outputId": "8274cbf8-09b7-4950-9cea-503817b5fe0f"
      },
      "execution_count": 60,
      "outputs": [
        {
          "output_type": "execute_result",
          "data": {
            "text/plain": [
              "array([3, 2, 2, ..., 2, 2, 2])"
            ]
          },
          "metadata": {},
          "execution_count": 60
        }
      ]
    },
    {
      "cell_type": "code",
      "source": [
        "ids = np.arange(1, len(y_pred) + 1)\n",
        "\n",
        "# Create a DataFrame with the result_array and ids\n",
        "df = pd.DataFrame({'Sentiment': y_pred, 'ID': ids})\n",
        "\n",
        "# Print the DataFrame\n",
        "print(df)"
      ],
      "metadata": {
        "colab": {
          "base_uri": "https://localhost:8080/"
        },
        "id": "0gcUwx5e_0hn",
        "outputId": "88ae558c-8638-4d51-e7a6-e3cf6bc4478e"
      },
      "execution_count": 61,
      "outputs": [
        {
          "output_type": "stream",
          "name": "stdout",
          "text": [
            "      Sentiment    ID\n",
            "0             3     1\n",
            "1             2     2\n",
            "2             2     3\n",
            "3             2     4\n",
            "4             2     5\n",
            "...         ...   ...\n",
            "1007          2  1008\n",
            "1008          2  1009\n",
            "1009          2  1010\n",
            "1010          2  1011\n",
            "1011          2  1012\n",
            "\n",
            "[1012 rows x 2 columns]\n"
          ]
        }
      ]
    },
    {
      "cell_type": "code",
      "source": [
        "df.to_csv('output_svm_NP.csv', index=False)"
      ],
      "metadata": {
        "id": "Xumd3HzY_4L1"
      },
      "execution_count": 62,
      "outputs": []
    },
    {
      "cell_type": "markdown",
      "source": [
        "using *MultinomialNB*"
      ],
      "metadata": {
        "id": "UBfWAwTNctoL"
      }
    },
    {
      "cell_type": "code",
      "source": [
        "from sklearn.naive_bayes import MultinomialNB\n",
        "from sklearn.metrics import classification_report\n",
        "from sklearn.preprocessing import MinMaxScaler"
      ],
      "metadata": {
        "id": "4kRXi4uHAbK7"
      },
      "execution_count": 50,
      "outputs": []
    },
    {
      "cell_type": "code",
      "source": [
        "#training the model\n",
        "mnb=MultinomialNB()\n",
        "#fitting the svm for bag of words\n",
        "scaler = MinMaxScaler()\n",
        "X_scaled = scaler.fit_transform(X_train)\n",
        "mnb_model = mnb.fit(X_scaled, labels_df)\n",
        "print(mnb_model)\n",
        "#fitting the svm for tfidf features\n",
        "y_pred = mnb_model.predict(test_embeddings)"
      ],
      "metadata": {
        "id": "IcIbiVemAbNO",
        "colab": {
          "base_uri": "https://localhost:8080/"
        },
        "outputId": "8362968a-2853-4da6-c93d-7e5a052932be"
      },
      "execution_count": 51,
      "outputs": [
        {
          "output_type": "stream",
          "name": "stdout",
          "text": [
            "MultinomialNB()\n"
          ]
        }
      ]
    },
    {
      "cell_type": "code",
      "source": [
        "ids = np.arange(1, len(y_pred) + 1)\n",
        "\n",
        "# Create a DataFrame with the result_array and ids\n",
        "df = pd.DataFrame({'Sentiment': y_pred, 'ID': ids})\n",
        "\n",
        "# Print the DataFrame\n",
        "print(df)"
      ],
      "metadata": {
        "id": "MdTu5sANAbPa",
        "colab": {
          "base_uri": "https://localhost:8080/"
        },
        "outputId": "527a1127-9bbc-4ee3-c417-e4a38574c477"
      },
      "execution_count": 52,
      "outputs": [
        {
          "output_type": "stream",
          "name": "stdout",
          "text": [
            "      Sentiment    ID\n",
            "0             2     1\n",
            "1             2     2\n",
            "2             2     3\n",
            "3             2     4\n",
            "4             2     5\n",
            "...         ...   ...\n",
            "1007          2  1008\n",
            "1008          2  1009\n",
            "1009          2  1010\n",
            "1010          2  1011\n",
            "1011          2  1012\n",
            "\n",
            "[1012 rows x 2 columns]\n"
          ]
        }
      ]
    },
    {
      "cell_type": "code",
      "source": [
        "df.to_csv('output_NB.csv', index=False)"
      ],
      "metadata": {
        "id": "Lk_KiBvEAbSX"
      },
      "execution_count": 53,
      "outputs": []
    }
  ]
}