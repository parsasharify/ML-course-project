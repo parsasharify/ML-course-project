{
  "nbformat": 4,
  "nbformat_minor": 0,
  "metadata": {
    "colab": {
      "provenance": [],
      "gpuType": "T4"
    },
    "kernelspec": {
      "name": "python3",
      "display_name": "Python 3"
    },
    "language_info": {
      "name": "python"
    },
    "accelerator": "GPU"
  },
  "cells": [
    {
      "cell_type": "code",
      "execution_count": null,
      "metadata": {
        "colab": {
          "base_uri": "https://localhost:8080/"
        },
        "id": "vUWBJNawJXYA",
        "outputId": "25048f0a-eee9-477d-d007-9a21497ae5d9"
      },
      "outputs": [
        {
          "output_type": "stream",
          "name": "stdout",
          "text": [
            "--2023-06-29 00:36:06--  https://drive.google.com/file/d/1BRhlDz-JASvfEljf_XxrL-ZH4gUvOg0v/view\n",
            "Resolving drive.google.com (drive.google.com)... 142.250.31.100, 142.250.31.102, 142.250.31.138, ...\n",
            "Connecting to drive.google.com (drive.google.com)|142.250.31.100|:443... connected.\n",
            "HTTP request sent, awaiting response... 200 OK\n",
            "Length: unspecified [text/html]\n",
            "Saving to: ‘view’\n",
            "\n",
            "view                    [ <=>                ]  77.93K  --.-KB/s    in 0.001s  \n",
            "\n",
            "2023-06-29 00:36:06 (76.7 MB/s) - ‘view’ saved [79804]\n",
            "\n"
          ]
        }
      ],
      "source": [
        "!wget https://drive.google.com/file/d/1BRhlDz-JASvfEljf_XxrL-ZH4gUvOg0v/view"
      ]
    },
    {
      "cell_type": "code",
      "source": [
        "!pip install fasttext"
      ],
      "metadata": {
        "colab": {
          "base_uri": "https://localhost:8080/"
        },
        "id": "nwU2DOA2b7KV",
        "outputId": "76b312a9-0976-48b5-b463-3af70ea630ff"
      },
      "execution_count": 2,
      "outputs": [
        {
          "output_type": "stream",
          "name": "stdout",
          "text": [
            "Collecting fasttext\n",
            "  Downloading fasttext-0.9.2.tar.gz (68 kB)\n",
            "\u001b[?25l     \u001b[90m━━━━━━━━━━━━━━━━━━━━━━━━━━━━━━━━━━━━━━━━\u001b[0m \u001b[32m0.0/68.8 kB\u001b[0m \u001b[31m?\u001b[0m eta \u001b[36m-:--:--\u001b[0m\r\u001b[2K     \u001b[90m━━━━━━━━━━━━━━━━━━━━━━━━━━━━━━━━━━━━━━━━\u001b[0m \u001b[32m68.8/68.8 kB\u001b[0m \u001b[31m9.0 MB/s\u001b[0m eta \u001b[36m0:00:00\u001b[0m\n",
            "\u001b[?25h  Preparing metadata (setup.py) ... \u001b[?25l\u001b[?25hdone\n",
            "Collecting pybind11>=2.2 (from fasttext)\n",
            "  Using cached pybind11-2.10.4-py3-none-any.whl (222 kB)\n",
            "Requirement already satisfied: setuptools>=0.7.0 in /usr/local/lib/python3.10/dist-packages (from fasttext) (67.7.2)\n",
            "Requirement already satisfied: numpy in /usr/local/lib/python3.10/dist-packages (from fasttext) (1.22.4)\n",
            "Building wheels for collected packages: fasttext\n",
            "  Building wheel for fasttext (setup.py) ... \u001b[?25l\u001b[?25hdone\n",
            "  Created wheel for fasttext: filename=fasttext-0.9.2-cp310-cp310-linux_x86_64.whl size=4393430 sha256=96195d45bdeafa60a1dadbb7b5f549e5c18ea376b4339618a6a421b96aac9e90\n",
            "  Stored in directory: /root/.cache/pip/wheels/a5/13/75/f811c84a8ab36eedbaef977a6a58a98990e8e0f1967f98f394\n",
            "Successfully built fasttext\n",
            "Installing collected packages: pybind11, fasttext\n",
            "Successfully installed fasttext-0.9.2 pybind11-2.10.4\n"
          ]
        }
      ]
    },
    {
      "cell_type": "code",
      "source": [
        "import nltk\n",
        "import numpy as np\n",
        "import pandas as pd\n",
        "from tqdm import tqdm\n",
        "from nltk import word_tokenize\n",
        "import string\n",
        "from sklearn.model_selection import train_test_split\n",
        "import torch\n",
        "from sklearn.metrics import precision_recall_fscore_support, precision_score\n",
        "from sklearn.metrics import f1_score\n",
        "from sklearn.metrics import accuracy_score, recall_score\n",
        "from sklearn.metrics import confusion_matrix\n",
        "import fasttext\n",
        "import os\n",
        "import matplotlib.pyplot as plt\n",
        "from sklearn.feature_extraction.text import TfidfVectorizer\n",
        "from sklearn.preprocessing import OneHotEncoder\n",
        "from torch.optim import Adam\n",
        "\n",
        "import torch\n",
        "from torch import nn\n",
        "from torch.utils.data import Dataset, DataLoader\n",
        "from time import time\n",
        "from IPython.display import display\n",
        "import numpy as np\n",
        "import matplotlib.pyplot as plt\n",
        "import seaborn as sns\n",
        "from sklearn.metrics import confusion_matrix\n"
      ],
      "metadata": {
        "id": "EMOCALPiNeSK"
      },
      "execution_count": 3,
      "outputs": []
    },
    {
      "cell_type": "code",
      "source": [
        "import nltk\n",
        "\n",
        "nltk.download('punkt')\n",
        "nltk.download('stopwords')\n"
      ],
      "metadata": {
        "colab": {
          "base_uri": "https://localhost:8080/"
        },
        "id": "VSQ8eWV6ck26",
        "outputId": "4b6b7c76-966b-441e-ca95-1e11805eb66c"
      },
      "execution_count": 4,
      "outputs": [
        {
          "output_type": "stream",
          "name": "stderr",
          "text": [
            "[nltk_data] Downloading package punkt to /root/nltk_data...\n",
            "[nltk_data]   Unzipping tokenizers/punkt.zip.\n",
            "[nltk_data] Downloading package stopwords to /root/nltk_data...\n",
            "[nltk_data]   Unzipping corpora/stopwords.zip.\n"
          ]
        },
        {
          "output_type": "execute_result",
          "data": {
            "text/plain": [
              "True"
            ]
          },
          "metadata": {},
          "execution_count": 4
        }
      ]
    },
    {
      "cell_type": "markdown",
      "source": [
        "Reading and Preproccessing the data"
      ],
      "metadata": {
        "id": "_pJwlSx0-5M1"
      }
    },
    {
      "cell_type": "code",
      "source": [
        "df = pd.read_csv('/content/drive/MyDrive/ML_NLP/data-train.csv')"
      ],
      "metadata": {
        "id": "j9Sf2qBxNXTb"
      },
      "execution_count": 7,
      "outputs": []
    },
    {
      "cell_type": "code",
      "source": [
        "df.head()"
      ],
      "metadata": {
        "colab": {
          "base_uri": "https://localhost:8080/",
          "height": 206
        },
        "id": "-PIocAbVNjJc",
        "outputId": "cec324b1-160a-47e0-d702-e47df5e9fd68"
      },
      "execution_count": 8,
      "outputs": [
        {
          "output_type": "execute_result",
          "data": {
            "text/plain": [
              "   PhraseId  SentenceId                                             Phrase  \\\n",
              "0         1           1  A series of escapades demonstrating the adage ...   \n",
              "1         2           1  A series of escapades demonstrating the adage ...   \n",
              "2         3           1                                           A series   \n",
              "3         4           1                                                  A   \n",
              "4         5           1                                             series   \n",
              "\n",
              "   Sentiment  \n",
              "0          1  \n",
              "1          2  \n",
              "2          2  \n",
              "3          2  \n",
              "4          2  "
            ],
            "text/html": [
              "\n",
              "  <div id=\"df-f3ce328c-63a7-4698-b895-567e564e5d9d\">\n",
              "    <div class=\"colab-df-container\">\n",
              "      <div>\n",
              "<style scoped>\n",
              "    .dataframe tbody tr th:only-of-type {\n",
              "        vertical-align: middle;\n",
              "    }\n",
              "\n",
              "    .dataframe tbody tr th {\n",
              "        vertical-align: top;\n",
              "    }\n",
              "\n",
              "    .dataframe thead th {\n",
              "        text-align: right;\n",
              "    }\n",
              "</style>\n",
              "<table border=\"1\" class=\"dataframe\">\n",
              "  <thead>\n",
              "    <tr style=\"text-align: right;\">\n",
              "      <th></th>\n",
              "      <th>PhraseId</th>\n",
              "      <th>SentenceId</th>\n",
              "      <th>Phrase</th>\n",
              "      <th>Sentiment</th>\n",
              "    </tr>\n",
              "  </thead>\n",
              "  <tbody>\n",
              "    <tr>\n",
              "      <th>0</th>\n",
              "      <td>1</td>\n",
              "      <td>1</td>\n",
              "      <td>A series of escapades demonstrating the adage ...</td>\n",
              "      <td>1</td>\n",
              "    </tr>\n",
              "    <tr>\n",
              "      <th>1</th>\n",
              "      <td>2</td>\n",
              "      <td>1</td>\n",
              "      <td>A series of escapades demonstrating the adage ...</td>\n",
              "      <td>2</td>\n",
              "    </tr>\n",
              "    <tr>\n",
              "      <th>2</th>\n",
              "      <td>3</td>\n",
              "      <td>1</td>\n",
              "      <td>A series</td>\n",
              "      <td>2</td>\n",
              "    </tr>\n",
              "    <tr>\n",
              "      <th>3</th>\n",
              "      <td>4</td>\n",
              "      <td>1</td>\n",
              "      <td>A</td>\n",
              "      <td>2</td>\n",
              "    </tr>\n",
              "    <tr>\n",
              "      <th>4</th>\n",
              "      <td>5</td>\n",
              "      <td>1</td>\n",
              "      <td>series</td>\n",
              "      <td>2</td>\n",
              "    </tr>\n",
              "  </tbody>\n",
              "</table>\n",
              "</div>\n",
              "      <button class=\"colab-df-convert\" onclick=\"convertToInteractive('df-f3ce328c-63a7-4698-b895-567e564e5d9d')\"\n",
              "              title=\"Convert this dataframe to an interactive table.\"\n",
              "              style=\"display:none;\">\n",
              "        \n",
              "  <svg xmlns=\"http://www.w3.org/2000/svg\" height=\"24px\"viewBox=\"0 0 24 24\"\n",
              "       width=\"24px\">\n",
              "    <path d=\"M0 0h24v24H0V0z\" fill=\"none\"/>\n",
              "    <path d=\"M18.56 5.44l.94 2.06.94-2.06 2.06-.94-2.06-.94-.94-2.06-.94 2.06-2.06.94zm-11 1L8.5 8.5l.94-2.06 2.06-.94-2.06-.94L8.5 2.5l-.94 2.06-2.06.94zm10 10l.94 2.06.94-2.06 2.06-.94-2.06-.94-.94-2.06-.94 2.06-2.06.94z\"/><path d=\"M17.41 7.96l-1.37-1.37c-.4-.4-.92-.59-1.43-.59-.52 0-1.04.2-1.43.59L10.3 9.45l-7.72 7.72c-.78.78-.78 2.05 0 2.83L4 21.41c.39.39.9.59 1.41.59.51 0 1.02-.2 1.41-.59l7.78-7.78 2.81-2.81c.8-.78.8-2.07 0-2.86zM5.41 20L4 18.59l7.72-7.72 1.47 1.35L5.41 20z\"/>\n",
              "  </svg>\n",
              "      </button>\n",
              "      \n",
              "  <style>\n",
              "    .colab-df-container {\n",
              "      display:flex;\n",
              "      flex-wrap:wrap;\n",
              "      gap: 12px;\n",
              "    }\n",
              "\n",
              "    .colab-df-convert {\n",
              "      background-color: #E8F0FE;\n",
              "      border: none;\n",
              "      border-radius: 50%;\n",
              "      cursor: pointer;\n",
              "      display: none;\n",
              "      fill: #1967D2;\n",
              "      height: 32px;\n",
              "      padding: 0 0 0 0;\n",
              "      width: 32px;\n",
              "    }\n",
              "\n",
              "    .colab-df-convert:hover {\n",
              "      background-color: #E2EBFA;\n",
              "      box-shadow: 0px 1px 2px rgba(60, 64, 67, 0.3), 0px 1px 3px 1px rgba(60, 64, 67, 0.15);\n",
              "      fill: #174EA6;\n",
              "    }\n",
              "\n",
              "    [theme=dark] .colab-df-convert {\n",
              "      background-color: #3B4455;\n",
              "      fill: #D2E3FC;\n",
              "    }\n",
              "\n",
              "    [theme=dark] .colab-df-convert:hover {\n",
              "      background-color: #434B5C;\n",
              "      box-shadow: 0px 1px 3px 1px rgba(0, 0, 0, 0.15);\n",
              "      filter: drop-shadow(0px 1px 2px rgba(0, 0, 0, 0.3));\n",
              "      fill: #FFFFFF;\n",
              "    }\n",
              "  </style>\n",
              "\n",
              "      <script>\n",
              "        const buttonEl =\n",
              "          document.querySelector('#df-f3ce328c-63a7-4698-b895-567e564e5d9d button.colab-df-convert');\n",
              "        buttonEl.style.display =\n",
              "          google.colab.kernel.accessAllowed ? 'block' : 'none';\n",
              "\n",
              "        async function convertToInteractive(key) {\n",
              "          const element = document.querySelector('#df-f3ce328c-63a7-4698-b895-567e564e5d9d');\n",
              "          const dataTable =\n",
              "            await google.colab.kernel.invokeFunction('convertToInteractive',\n",
              "                                                     [key], {});\n",
              "          if (!dataTable) return;\n",
              "\n",
              "          const docLinkHtml = 'Like what you see? Visit the ' +\n",
              "            '<a target=\"_blank\" href=https://colab.research.google.com/notebooks/data_table.ipynb>data table notebook</a>'\n",
              "            + ' to learn more about interactive tables.';\n",
              "          element.innerHTML = '';\n",
              "          dataTable['output_type'] = 'display_data';\n",
              "          await google.colab.output.renderOutput(dataTable, element);\n",
              "          const docLink = document.createElement('div');\n",
              "          docLink.innerHTML = docLinkHtml;\n",
              "          element.appendChild(docLink);\n",
              "        }\n",
              "      </script>\n",
              "    </div>\n",
              "  </div>\n",
              "  "
            ]
          },
          "metadata": {},
          "execution_count": 8
        }
      ]
    },
    {
      "cell_type": "code",
      "source": [
        "df.drop('PhraseId', axis=1, inplace=True)"
      ],
      "metadata": {
        "id": "UcIN9Trcbbd9"
      },
      "execution_count": 9,
      "outputs": []
    },
    {
      "cell_type": "code",
      "source": [
        "df.head()"
      ],
      "metadata": {
        "colab": {
          "base_uri": "https://localhost:8080/",
          "height": 206
        },
        "id": "ePlM7PMUbgcD",
        "outputId": "873a635d-cf54-4dcd-a246-bb34267f9d23"
      },
      "execution_count": 10,
      "outputs": [
        {
          "output_type": "execute_result",
          "data": {
            "text/plain": [
              "   SentenceId                                             Phrase  Sentiment\n",
              "0           1  A series of escapades demonstrating the adage ...          1\n",
              "1           1  A series of escapades demonstrating the adage ...          2\n",
              "2           1                                           A series          2\n",
              "3           1                                                  A          2\n",
              "4           1                                             series          2"
            ],
            "text/html": [
              "\n",
              "  <div id=\"df-79465117-ea59-44ee-b5eb-9855227df1de\">\n",
              "    <div class=\"colab-df-container\">\n",
              "      <div>\n",
              "<style scoped>\n",
              "    .dataframe tbody tr th:only-of-type {\n",
              "        vertical-align: middle;\n",
              "    }\n",
              "\n",
              "    .dataframe tbody tr th {\n",
              "        vertical-align: top;\n",
              "    }\n",
              "\n",
              "    .dataframe thead th {\n",
              "        text-align: right;\n",
              "    }\n",
              "</style>\n",
              "<table border=\"1\" class=\"dataframe\">\n",
              "  <thead>\n",
              "    <tr style=\"text-align: right;\">\n",
              "      <th></th>\n",
              "      <th>SentenceId</th>\n",
              "      <th>Phrase</th>\n",
              "      <th>Sentiment</th>\n",
              "    </tr>\n",
              "  </thead>\n",
              "  <tbody>\n",
              "    <tr>\n",
              "      <th>0</th>\n",
              "      <td>1</td>\n",
              "      <td>A series of escapades demonstrating the adage ...</td>\n",
              "      <td>1</td>\n",
              "    </tr>\n",
              "    <tr>\n",
              "      <th>1</th>\n",
              "      <td>1</td>\n",
              "      <td>A series of escapades demonstrating the adage ...</td>\n",
              "      <td>2</td>\n",
              "    </tr>\n",
              "    <tr>\n",
              "      <th>2</th>\n",
              "      <td>1</td>\n",
              "      <td>A series</td>\n",
              "      <td>2</td>\n",
              "    </tr>\n",
              "    <tr>\n",
              "      <th>3</th>\n",
              "      <td>1</td>\n",
              "      <td>A</td>\n",
              "      <td>2</td>\n",
              "    </tr>\n",
              "    <tr>\n",
              "      <th>4</th>\n",
              "      <td>1</td>\n",
              "      <td>series</td>\n",
              "      <td>2</td>\n",
              "    </tr>\n",
              "  </tbody>\n",
              "</table>\n",
              "</div>\n",
              "      <button class=\"colab-df-convert\" onclick=\"convertToInteractive('df-79465117-ea59-44ee-b5eb-9855227df1de')\"\n",
              "              title=\"Convert this dataframe to an interactive table.\"\n",
              "              style=\"display:none;\">\n",
              "        \n",
              "  <svg xmlns=\"http://www.w3.org/2000/svg\" height=\"24px\"viewBox=\"0 0 24 24\"\n",
              "       width=\"24px\">\n",
              "    <path d=\"M0 0h24v24H0V0z\" fill=\"none\"/>\n",
              "    <path d=\"M18.56 5.44l.94 2.06.94-2.06 2.06-.94-2.06-.94-.94-2.06-.94 2.06-2.06.94zm-11 1L8.5 8.5l.94-2.06 2.06-.94-2.06-.94L8.5 2.5l-.94 2.06-2.06.94zm10 10l.94 2.06.94-2.06 2.06-.94-2.06-.94-.94-2.06-.94 2.06-2.06.94z\"/><path d=\"M17.41 7.96l-1.37-1.37c-.4-.4-.92-.59-1.43-.59-.52 0-1.04.2-1.43.59L10.3 9.45l-7.72 7.72c-.78.78-.78 2.05 0 2.83L4 21.41c.39.39.9.59 1.41.59.51 0 1.02-.2 1.41-.59l7.78-7.78 2.81-2.81c.8-.78.8-2.07 0-2.86zM5.41 20L4 18.59l7.72-7.72 1.47 1.35L5.41 20z\"/>\n",
              "  </svg>\n",
              "      </button>\n",
              "      \n",
              "  <style>\n",
              "    .colab-df-container {\n",
              "      display:flex;\n",
              "      flex-wrap:wrap;\n",
              "      gap: 12px;\n",
              "    }\n",
              "\n",
              "    .colab-df-convert {\n",
              "      background-color: #E8F0FE;\n",
              "      border: none;\n",
              "      border-radius: 50%;\n",
              "      cursor: pointer;\n",
              "      display: none;\n",
              "      fill: #1967D2;\n",
              "      height: 32px;\n",
              "      padding: 0 0 0 0;\n",
              "      width: 32px;\n",
              "    }\n",
              "\n",
              "    .colab-df-convert:hover {\n",
              "      background-color: #E2EBFA;\n",
              "      box-shadow: 0px 1px 2px rgba(60, 64, 67, 0.3), 0px 1px 3px 1px rgba(60, 64, 67, 0.15);\n",
              "      fill: #174EA6;\n",
              "    }\n",
              "\n",
              "    [theme=dark] .colab-df-convert {\n",
              "      background-color: #3B4455;\n",
              "      fill: #D2E3FC;\n",
              "    }\n",
              "\n",
              "    [theme=dark] .colab-df-convert:hover {\n",
              "      background-color: #434B5C;\n",
              "      box-shadow: 0px 1px 3px 1px rgba(0, 0, 0, 0.15);\n",
              "      filter: drop-shadow(0px 1px 2px rgba(0, 0, 0, 0.3));\n",
              "      fill: #FFFFFF;\n",
              "    }\n",
              "  </style>\n",
              "\n",
              "      <script>\n",
              "        const buttonEl =\n",
              "          document.querySelector('#df-79465117-ea59-44ee-b5eb-9855227df1de button.colab-df-convert');\n",
              "        buttonEl.style.display =\n",
              "          google.colab.kernel.accessAllowed ? 'block' : 'none';\n",
              "\n",
              "        async function convertToInteractive(key) {\n",
              "          const element = document.querySelector('#df-79465117-ea59-44ee-b5eb-9855227df1de');\n",
              "          const dataTable =\n",
              "            await google.colab.kernel.invokeFunction('convertToInteractive',\n",
              "                                                     [key], {});\n",
              "          if (!dataTable) return;\n",
              "\n",
              "          const docLinkHtml = 'Like what you see? Visit the ' +\n",
              "            '<a target=\"_blank\" href=https://colab.research.google.com/notebooks/data_table.ipynb>data table notebook</a>'\n",
              "            + ' to learn more about interactive tables.';\n",
              "          element.innerHTML = '';\n",
              "          dataTable['output_type'] = 'display_data';\n",
              "          await google.colab.output.renderOutput(dataTable, element);\n",
              "          const docLink = document.createElement('div');\n",
              "          docLink.innerHTML = docLinkHtml;\n",
              "          element.appendChild(docLink);\n",
              "        }\n",
              "      </script>\n",
              "    </div>\n",
              "  </div>\n",
              "  "
            ]
          },
          "metadata": {},
          "execution_count": 10
        }
      ]
    },
    {
      "cell_type": "markdown",
      "source": [
        "This function below is for preprocessing the data"
      ],
      "metadata": {
        "id": "S1tR8s8aeLMY"
      }
    },
    {
      "cell_type": "code",
      "source": [
        "def preprocess_text(text, minimum_length=1, stopword_removal=False, stopwords_domain=[], lower_case=True,\n",
        "                       punctuation_removal=True):\n",
        "\n",
        "    normalized_tokens = word_tokenize(text)\n",
        "    if stopword_removal:\n",
        "        stopwords = [x.lower() for x in nltk.corpus.stopwords.words('english')]\n",
        "        domain_stopwords = [x.lower() for x in stopwords_domain]\n",
        "        normalized_tokens = [word for word in normalized_tokens if word.lower() not in domain_stopwords + stopwords]\n",
        "\n",
        "    if punctuation_removal:\n",
        "        normalized_tokens = [word for word in normalized_tokens if word not in string.punctuation]\n",
        "\n",
        "    if lower_case:\n",
        "        normalized_tokens = [word.lower() for word in normalized_tokens if len(word) > minimum_length]\n",
        "    else:\n",
        "        normalized_tokens = [word for word in normalized_tokens if len(word) > minimum_length]\n",
        "\n",
        "    return normalized_tokens"
      ],
      "metadata": {
        "id": "1p5zTQjpaKdf"
      },
      "execution_count": 11,
      "outputs": []
    },
    {
      "cell_type": "code",
      "source": [
        "df['Process Phrase'] = df['Phrase'].apply(lambda x: preprocess_text(x))"
      ],
      "metadata": {
        "id": "p_B4PdZ6aJ61"
      },
      "execution_count": 12,
      "outputs": []
    },
    {
      "cell_type": "code",
      "source": [
        "df.head()"
      ],
      "metadata": {
        "colab": {
          "base_uri": "https://localhost:8080/",
          "height": 206
        },
        "id": "aan0LswZaJ9D",
        "outputId": "512c8593-496c-48f1-81fa-e6ec6e209578"
      },
      "execution_count": 13,
      "outputs": [
        {
          "output_type": "execute_result",
          "data": {
            "text/plain": [
              "   SentenceId                                             Phrase  Sentiment  \\\n",
              "0           1  A series of escapades demonstrating the adage ...          1   \n",
              "1           1  A series of escapades demonstrating the adage ...          2   \n",
              "2           1                                           A series          2   \n",
              "3           1                                                  A          2   \n",
              "4           1                                             series          2   \n",
              "\n",
              "                                      Process Phrase  \n",
              "0  [series, of, escapades, demonstrating, the, ad...  \n",
              "1  [series, of, escapades, demonstrating, the, ad...  \n",
              "2                                           [series]  \n",
              "3                                                 []  \n",
              "4                                           [series]  "
            ],
            "text/html": [
              "\n",
              "  <div id=\"df-d40d1ed5-3bf6-47a8-9647-967f06582562\">\n",
              "    <div class=\"colab-df-container\">\n",
              "      <div>\n",
              "<style scoped>\n",
              "    .dataframe tbody tr th:only-of-type {\n",
              "        vertical-align: middle;\n",
              "    }\n",
              "\n",
              "    .dataframe tbody tr th {\n",
              "        vertical-align: top;\n",
              "    }\n",
              "\n",
              "    .dataframe thead th {\n",
              "        text-align: right;\n",
              "    }\n",
              "</style>\n",
              "<table border=\"1\" class=\"dataframe\">\n",
              "  <thead>\n",
              "    <tr style=\"text-align: right;\">\n",
              "      <th></th>\n",
              "      <th>SentenceId</th>\n",
              "      <th>Phrase</th>\n",
              "      <th>Sentiment</th>\n",
              "      <th>Process Phrase</th>\n",
              "    </tr>\n",
              "  </thead>\n",
              "  <tbody>\n",
              "    <tr>\n",
              "      <th>0</th>\n",
              "      <td>1</td>\n",
              "      <td>A series of escapades demonstrating the adage ...</td>\n",
              "      <td>1</td>\n",
              "      <td>[series, of, escapades, demonstrating, the, ad...</td>\n",
              "    </tr>\n",
              "    <tr>\n",
              "      <th>1</th>\n",
              "      <td>1</td>\n",
              "      <td>A series of escapades demonstrating the adage ...</td>\n",
              "      <td>2</td>\n",
              "      <td>[series, of, escapades, demonstrating, the, ad...</td>\n",
              "    </tr>\n",
              "    <tr>\n",
              "      <th>2</th>\n",
              "      <td>1</td>\n",
              "      <td>A series</td>\n",
              "      <td>2</td>\n",
              "      <td>[series]</td>\n",
              "    </tr>\n",
              "    <tr>\n",
              "      <th>3</th>\n",
              "      <td>1</td>\n",
              "      <td>A</td>\n",
              "      <td>2</td>\n",
              "      <td>[]</td>\n",
              "    </tr>\n",
              "    <tr>\n",
              "      <th>4</th>\n",
              "      <td>1</td>\n",
              "      <td>series</td>\n",
              "      <td>2</td>\n",
              "      <td>[series]</td>\n",
              "    </tr>\n",
              "  </tbody>\n",
              "</table>\n",
              "</div>\n",
              "      <button class=\"colab-df-convert\" onclick=\"convertToInteractive('df-d40d1ed5-3bf6-47a8-9647-967f06582562')\"\n",
              "              title=\"Convert this dataframe to an interactive table.\"\n",
              "              style=\"display:none;\">\n",
              "        \n",
              "  <svg xmlns=\"http://www.w3.org/2000/svg\" height=\"24px\"viewBox=\"0 0 24 24\"\n",
              "       width=\"24px\">\n",
              "    <path d=\"M0 0h24v24H0V0z\" fill=\"none\"/>\n",
              "    <path d=\"M18.56 5.44l.94 2.06.94-2.06 2.06-.94-2.06-.94-.94-2.06-.94 2.06-2.06.94zm-11 1L8.5 8.5l.94-2.06 2.06-.94-2.06-.94L8.5 2.5l-.94 2.06-2.06.94zm10 10l.94 2.06.94-2.06 2.06-.94-2.06-.94-.94-2.06-.94 2.06-2.06.94z\"/><path d=\"M17.41 7.96l-1.37-1.37c-.4-.4-.92-.59-1.43-.59-.52 0-1.04.2-1.43.59L10.3 9.45l-7.72 7.72c-.78.78-.78 2.05 0 2.83L4 21.41c.39.39.9.59 1.41.59.51 0 1.02-.2 1.41-.59l7.78-7.78 2.81-2.81c.8-.78.8-2.07 0-2.86zM5.41 20L4 18.59l7.72-7.72 1.47 1.35L5.41 20z\"/>\n",
              "  </svg>\n",
              "      </button>\n",
              "      \n",
              "  <style>\n",
              "    .colab-df-container {\n",
              "      display:flex;\n",
              "      flex-wrap:wrap;\n",
              "      gap: 12px;\n",
              "    }\n",
              "\n",
              "    .colab-df-convert {\n",
              "      background-color: #E8F0FE;\n",
              "      border: none;\n",
              "      border-radius: 50%;\n",
              "      cursor: pointer;\n",
              "      display: none;\n",
              "      fill: #1967D2;\n",
              "      height: 32px;\n",
              "      padding: 0 0 0 0;\n",
              "      width: 32px;\n",
              "    }\n",
              "\n",
              "    .colab-df-convert:hover {\n",
              "      background-color: #E2EBFA;\n",
              "      box-shadow: 0px 1px 2px rgba(60, 64, 67, 0.3), 0px 1px 3px 1px rgba(60, 64, 67, 0.15);\n",
              "      fill: #174EA6;\n",
              "    }\n",
              "\n",
              "    [theme=dark] .colab-df-convert {\n",
              "      background-color: #3B4455;\n",
              "      fill: #D2E3FC;\n",
              "    }\n",
              "\n",
              "    [theme=dark] .colab-df-convert:hover {\n",
              "      background-color: #434B5C;\n",
              "      box-shadow: 0px 1px 3px 1px rgba(0, 0, 0, 0.15);\n",
              "      filter: drop-shadow(0px 1px 2px rgba(0, 0, 0, 0.3));\n",
              "      fill: #FFFFFF;\n",
              "    }\n",
              "  </style>\n",
              "\n",
              "      <script>\n",
              "        const buttonEl =\n",
              "          document.querySelector('#df-d40d1ed5-3bf6-47a8-9647-967f06582562 button.colab-df-convert');\n",
              "        buttonEl.style.display =\n",
              "          google.colab.kernel.accessAllowed ? 'block' : 'none';\n",
              "\n",
              "        async function convertToInteractive(key) {\n",
              "          const element = document.querySelector('#df-d40d1ed5-3bf6-47a8-9647-967f06582562');\n",
              "          const dataTable =\n",
              "            await google.colab.kernel.invokeFunction('convertToInteractive',\n",
              "                                                     [key], {});\n",
              "          if (!dataTable) return;\n",
              "\n",
              "          const docLinkHtml = 'Like what you see? Visit the ' +\n",
              "            '<a target=\"_blank\" href=https://colab.research.google.com/notebooks/data_table.ipynb>data table notebook</a>'\n",
              "            + ' to learn more about interactive tables.';\n",
              "          element.innerHTML = '';\n",
              "          dataTable['output_type'] = 'display_data';\n",
              "          await google.colab.output.renderOutput(dataTable, element);\n",
              "          const docLink = document.createElement('div');\n",
              "          docLink.innerHTML = docLinkHtml;\n",
              "          element.appendChild(docLink);\n",
              "        }\n",
              "      </script>\n",
              "    </div>\n",
              "  </div>\n",
              "  "
            ]
          },
          "metadata": {},
          "execution_count": 13
        }
      ]
    },
    {
      "cell_type": "code",
      "source": [
        "df.drop('Phrase', axis=1, inplace=True)"
      ],
      "metadata": {
        "id": "4CJkNaDhaJ_B"
      },
      "execution_count": 14,
      "outputs": []
    },
    {
      "cell_type": "code",
      "source": [
        "df = df[df['Process Phrase'].str.len() > 0]\n"
      ],
      "metadata": {
        "id": "7M2n4EtOLIm_"
      },
      "execution_count": 15,
      "outputs": []
    },
    {
      "cell_type": "code",
      "source": [
        "df.head()"
      ],
      "metadata": {
        "colab": {
          "base_uri": "https://localhost:8080/",
          "height": 206
        },
        "id": "tSHdrDm3aKAv",
        "outputId": "8d81a4d5-bba7-4a54-d4c3-f8f8052da8ec"
      },
      "execution_count": 16,
      "outputs": [
        {
          "output_type": "execute_result",
          "data": {
            "text/plain": [
              "   SentenceId  Sentiment                                     Process Phrase\n",
              "0           1          1  [series, of, escapades, demonstrating, the, ad...\n",
              "1           1          2  [series, of, escapades, demonstrating, the, ad...\n",
              "2           1          2                                           [series]\n",
              "4           1          2                                           [series]\n",
              "5           1          2  [of, escapades, demonstrating, the, adage, tha..."
            ],
            "text/html": [
              "\n",
              "  <div id=\"df-b6da1cc5-c622-42b3-82cf-ef67df5cf525\">\n",
              "    <div class=\"colab-df-container\">\n",
              "      <div>\n",
              "<style scoped>\n",
              "    .dataframe tbody tr th:only-of-type {\n",
              "        vertical-align: middle;\n",
              "    }\n",
              "\n",
              "    .dataframe tbody tr th {\n",
              "        vertical-align: top;\n",
              "    }\n",
              "\n",
              "    .dataframe thead th {\n",
              "        text-align: right;\n",
              "    }\n",
              "</style>\n",
              "<table border=\"1\" class=\"dataframe\">\n",
              "  <thead>\n",
              "    <tr style=\"text-align: right;\">\n",
              "      <th></th>\n",
              "      <th>SentenceId</th>\n",
              "      <th>Sentiment</th>\n",
              "      <th>Process Phrase</th>\n",
              "    </tr>\n",
              "  </thead>\n",
              "  <tbody>\n",
              "    <tr>\n",
              "      <th>0</th>\n",
              "      <td>1</td>\n",
              "      <td>1</td>\n",
              "      <td>[series, of, escapades, demonstrating, the, ad...</td>\n",
              "    </tr>\n",
              "    <tr>\n",
              "      <th>1</th>\n",
              "      <td>1</td>\n",
              "      <td>2</td>\n",
              "      <td>[series, of, escapades, demonstrating, the, ad...</td>\n",
              "    </tr>\n",
              "    <tr>\n",
              "      <th>2</th>\n",
              "      <td>1</td>\n",
              "      <td>2</td>\n",
              "      <td>[series]</td>\n",
              "    </tr>\n",
              "    <tr>\n",
              "      <th>4</th>\n",
              "      <td>1</td>\n",
              "      <td>2</td>\n",
              "      <td>[series]</td>\n",
              "    </tr>\n",
              "    <tr>\n",
              "      <th>5</th>\n",
              "      <td>1</td>\n",
              "      <td>2</td>\n",
              "      <td>[of, escapades, demonstrating, the, adage, tha...</td>\n",
              "    </tr>\n",
              "  </tbody>\n",
              "</table>\n",
              "</div>\n",
              "      <button class=\"colab-df-convert\" onclick=\"convertToInteractive('df-b6da1cc5-c622-42b3-82cf-ef67df5cf525')\"\n",
              "              title=\"Convert this dataframe to an interactive table.\"\n",
              "              style=\"display:none;\">\n",
              "        \n",
              "  <svg xmlns=\"http://www.w3.org/2000/svg\" height=\"24px\"viewBox=\"0 0 24 24\"\n",
              "       width=\"24px\">\n",
              "    <path d=\"M0 0h24v24H0V0z\" fill=\"none\"/>\n",
              "    <path d=\"M18.56 5.44l.94 2.06.94-2.06 2.06-.94-2.06-.94-.94-2.06-.94 2.06-2.06.94zm-11 1L8.5 8.5l.94-2.06 2.06-.94-2.06-.94L8.5 2.5l-.94 2.06-2.06.94zm10 10l.94 2.06.94-2.06 2.06-.94-2.06-.94-.94-2.06-.94 2.06-2.06.94z\"/><path d=\"M17.41 7.96l-1.37-1.37c-.4-.4-.92-.59-1.43-.59-.52 0-1.04.2-1.43.59L10.3 9.45l-7.72 7.72c-.78.78-.78 2.05 0 2.83L4 21.41c.39.39.9.59 1.41.59.51 0 1.02-.2 1.41-.59l7.78-7.78 2.81-2.81c.8-.78.8-2.07 0-2.86zM5.41 20L4 18.59l7.72-7.72 1.47 1.35L5.41 20z\"/>\n",
              "  </svg>\n",
              "      </button>\n",
              "      \n",
              "  <style>\n",
              "    .colab-df-container {\n",
              "      display:flex;\n",
              "      flex-wrap:wrap;\n",
              "      gap: 12px;\n",
              "    }\n",
              "\n",
              "    .colab-df-convert {\n",
              "      background-color: #E8F0FE;\n",
              "      border: none;\n",
              "      border-radius: 50%;\n",
              "      cursor: pointer;\n",
              "      display: none;\n",
              "      fill: #1967D2;\n",
              "      height: 32px;\n",
              "      padding: 0 0 0 0;\n",
              "      width: 32px;\n",
              "    }\n",
              "\n",
              "    .colab-df-convert:hover {\n",
              "      background-color: #E2EBFA;\n",
              "      box-shadow: 0px 1px 2px rgba(60, 64, 67, 0.3), 0px 1px 3px 1px rgba(60, 64, 67, 0.15);\n",
              "      fill: #174EA6;\n",
              "    }\n",
              "\n",
              "    [theme=dark] .colab-df-convert {\n",
              "      background-color: #3B4455;\n",
              "      fill: #D2E3FC;\n",
              "    }\n",
              "\n",
              "    [theme=dark] .colab-df-convert:hover {\n",
              "      background-color: #434B5C;\n",
              "      box-shadow: 0px 1px 3px 1px rgba(0, 0, 0, 0.15);\n",
              "      filter: drop-shadow(0px 1px 2px rgba(0, 0, 0, 0.3));\n",
              "      fill: #FFFFFF;\n",
              "    }\n",
              "  </style>\n",
              "\n",
              "      <script>\n",
              "        const buttonEl =\n",
              "          document.querySelector('#df-b6da1cc5-c622-42b3-82cf-ef67df5cf525 button.colab-df-convert');\n",
              "        buttonEl.style.display =\n",
              "          google.colab.kernel.accessAllowed ? 'block' : 'none';\n",
              "\n",
              "        async function convertToInteractive(key) {\n",
              "          const element = document.querySelector('#df-b6da1cc5-c622-42b3-82cf-ef67df5cf525');\n",
              "          const dataTable =\n",
              "            await google.colab.kernel.invokeFunction('convertToInteractive',\n",
              "                                                     [key], {});\n",
              "          if (!dataTable) return;\n",
              "\n",
              "          const docLinkHtml = 'Like what you see? Visit the ' +\n",
              "            '<a target=\"_blank\" href=https://colab.research.google.com/notebooks/data_table.ipynb>data table notebook</a>'\n",
              "            + ' to learn more about interactive tables.';\n",
              "          element.innerHTML = '';\n",
              "          dataTable['output_type'] = 'display_data';\n",
              "          await google.colab.output.renderOutput(dataTable, element);\n",
              "          const docLink = document.createElement('div');\n",
              "          docLink.innerHTML = docLinkHtml;\n",
              "          element.appendChild(docLink);\n",
              "        }\n",
              "      </script>\n",
              "    </div>\n",
              "  </div>\n",
              "  "
            ]
          },
          "metadata": {},
          "execution_count": 16
        }
      ]
    },
    {
      "cell_type": "code",
      "source": [
        "df.drop('SentenceId', axis=1, inplace=True)"
      ],
      "metadata": {
        "id": "Iie1ZY4OwK5Z"
      },
      "execution_count": 17,
      "outputs": []
    },
    {
      "cell_type": "code",
      "source": [
        "df.head(50)"
      ],
      "metadata": {
        "colab": {
          "base_uri": "https://localhost:8080/",
          "height": 1000
        },
        "id": "8aWKjNmvwPQL",
        "outputId": "54c39b4f-b8d4-4ec0-c0fe-7ec8ae5fecfc"
      },
      "execution_count": 18,
      "outputs": [
        {
          "output_type": "execute_result",
          "data": {
            "text/plain": [
              "    Sentiment                                     Process Phrase\n",
              "0           1  [series, of, escapades, demonstrating, the, ad...\n",
              "1           2  [series, of, escapades, demonstrating, the, ad...\n",
              "2           2                                           [series]\n",
              "4           2                                           [series]\n",
              "5           2  [of, escapades, demonstrating, the, adage, tha...\n",
              "6           2                                               [of]\n",
              "7           2  [escapades, demonstrating, the, adage, that, w...\n",
              "8           2                                        [escapades]\n",
              "9           2  [demonstrating, the, adage, that, what, is, go...\n",
              "10          2                        [demonstrating, the, adage]\n",
              "11          2                                    [demonstrating]\n",
              "12          2                                       [the, adage]\n",
              "13          2                                              [the]\n",
              "14          2                                            [adage]\n",
              "15          2            [that, what, is, good, for, the, goose]\n",
              "16          2                                             [that]\n",
              "17          2                  [what, is, good, for, the, goose]\n",
              "18          2                                             [what]\n",
              "19          2                        [is, good, for, the, goose]\n",
              "20          2                                               [is]\n",
              "21          3                            [good, for, the, goose]\n",
              "22          3                                             [good]\n",
              "23          2                                  [for, the, goose]\n",
              "24          2                                              [for]\n",
              "25          2                                       [the, goose]\n",
              "26          2                                            [goose]\n",
              "27          2  [is, also, good, for, the, gander, some, of, w...\n",
              "28          2  [is, also, good, for, the, gander, some, of, w...\n",
              "29          2                                         [is, also]\n",
              "30          2                                             [also]\n",
              "31          2  [good, for, the, gander, some, of, which, occa...\n",
              "32          2  [for, the, gander, some, of, which, occasional...\n",
              "33          1  [the, gander, some, of, which, occasionally, a...\n",
              "34          2                                      [the, gander]\n",
              "35          2                                      [the, gander]\n",
              "36          2                                           [gander]\n",
              "38          2  [some, of, which, occasionally, amuses, but, n...\n",
              "39          2                                  [some, of, which]\n",
              "40          2                                             [some]\n",
              "41          2                                        [of, which]\n",
              "42          2                                            [which]\n",
              "43          2  [occasionally, amuses, but, none, of, which, a...\n",
              "44          2                                     [occasionally]\n",
              "45          2  [amuses, but, none, of, which, amounts, to, mu...\n",
              "46          3                                           [amuses]\n",
              "47          1  [but, none, of, which, amounts, to, much, of, ...\n",
              "48          2                                              [but]\n",
              "49          1    [none, of, which, amounts, to, much, of, story]\n",
              "50          2                                             [none]\n",
              "51          2          [of, which, amounts, to, much, of, story]"
            ],
            "text/html": [
              "\n",
              "  <div id=\"df-2e81c624-4d3e-4896-ad74-9a08ed81bdcf\">\n",
              "    <div class=\"colab-df-container\">\n",
              "      <div>\n",
              "<style scoped>\n",
              "    .dataframe tbody tr th:only-of-type {\n",
              "        vertical-align: middle;\n",
              "    }\n",
              "\n",
              "    .dataframe tbody tr th {\n",
              "        vertical-align: top;\n",
              "    }\n",
              "\n",
              "    .dataframe thead th {\n",
              "        text-align: right;\n",
              "    }\n",
              "</style>\n",
              "<table border=\"1\" class=\"dataframe\">\n",
              "  <thead>\n",
              "    <tr style=\"text-align: right;\">\n",
              "      <th></th>\n",
              "      <th>Sentiment</th>\n",
              "      <th>Process Phrase</th>\n",
              "    </tr>\n",
              "  </thead>\n",
              "  <tbody>\n",
              "    <tr>\n",
              "      <th>0</th>\n",
              "      <td>1</td>\n",
              "      <td>[series, of, escapades, demonstrating, the, ad...</td>\n",
              "    </tr>\n",
              "    <tr>\n",
              "      <th>1</th>\n",
              "      <td>2</td>\n",
              "      <td>[series, of, escapades, demonstrating, the, ad...</td>\n",
              "    </tr>\n",
              "    <tr>\n",
              "      <th>2</th>\n",
              "      <td>2</td>\n",
              "      <td>[series]</td>\n",
              "    </tr>\n",
              "    <tr>\n",
              "      <th>4</th>\n",
              "      <td>2</td>\n",
              "      <td>[series]</td>\n",
              "    </tr>\n",
              "    <tr>\n",
              "      <th>5</th>\n",
              "      <td>2</td>\n",
              "      <td>[of, escapades, demonstrating, the, adage, tha...</td>\n",
              "    </tr>\n",
              "    <tr>\n",
              "      <th>6</th>\n",
              "      <td>2</td>\n",
              "      <td>[of]</td>\n",
              "    </tr>\n",
              "    <tr>\n",
              "      <th>7</th>\n",
              "      <td>2</td>\n",
              "      <td>[escapades, demonstrating, the, adage, that, w...</td>\n",
              "    </tr>\n",
              "    <tr>\n",
              "      <th>8</th>\n",
              "      <td>2</td>\n",
              "      <td>[escapades]</td>\n",
              "    </tr>\n",
              "    <tr>\n",
              "      <th>9</th>\n",
              "      <td>2</td>\n",
              "      <td>[demonstrating, the, adage, that, what, is, go...</td>\n",
              "    </tr>\n",
              "    <tr>\n",
              "      <th>10</th>\n",
              "      <td>2</td>\n",
              "      <td>[demonstrating, the, adage]</td>\n",
              "    </tr>\n",
              "    <tr>\n",
              "      <th>11</th>\n",
              "      <td>2</td>\n",
              "      <td>[demonstrating]</td>\n",
              "    </tr>\n",
              "    <tr>\n",
              "      <th>12</th>\n",
              "      <td>2</td>\n",
              "      <td>[the, adage]</td>\n",
              "    </tr>\n",
              "    <tr>\n",
              "      <th>13</th>\n",
              "      <td>2</td>\n",
              "      <td>[the]</td>\n",
              "    </tr>\n",
              "    <tr>\n",
              "      <th>14</th>\n",
              "      <td>2</td>\n",
              "      <td>[adage]</td>\n",
              "    </tr>\n",
              "    <tr>\n",
              "      <th>15</th>\n",
              "      <td>2</td>\n",
              "      <td>[that, what, is, good, for, the, goose]</td>\n",
              "    </tr>\n",
              "    <tr>\n",
              "      <th>16</th>\n",
              "      <td>2</td>\n",
              "      <td>[that]</td>\n",
              "    </tr>\n",
              "    <tr>\n",
              "      <th>17</th>\n",
              "      <td>2</td>\n",
              "      <td>[what, is, good, for, the, goose]</td>\n",
              "    </tr>\n",
              "    <tr>\n",
              "      <th>18</th>\n",
              "      <td>2</td>\n",
              "      <td>[what]</td>\n",
              "    </tr>\n",
              "    <tr>\n",
              "      <th>19</th>\n",
              "      <td>2</td>\n",
              "      <td>[is, good, for, the, goose]</td>\n",
              "    </tr>\n",
              "    <tr>\n",
              "      <th>20</th>\n",
              "      <td>2</td>\n",
              "      <td>[is]</td>\n",
              "    </tr>\n",
              "    <tr>\n",
              "      <th>21</th>\n",
              "      <td>3</td>\n",
              "      <td>[good, for, the, goose]</td>\n",
              "    </tr>\n",
              "    <tr>\n",
              "      <th>22</th>\n",
              "      <td>3</td>\n",
              "      <td>[good]</td>\n",
              "    </tr>\n",
              "    <tr>\n",
              "      <th>23</th>\n",
              "      <td>2</td>\n",
              "      <td>[for, the, goose]</td>\n",
              "    </tr>\n",
              "    <tr>\n",
              "      <th>24</th>\n",
              "      <td>2</td>\n",
              "      <td>[for]</td>\n",
              "    </tr>\n",
              "    <tr>\n",
              "      <th>25</th>\n",
              "      <td>2</td>\n",
              "      <td>[the, goose]</td>\n",
              "    </tr>\n",
              "    <tr>\n",
              "      <th>26</th>\n",
              "      <td>2</td>\n",
              "      <td>[goose]</td>\n",
              "    </tr>\n",
              "    <tr>\n",
              "      <th>27</th>\n",
              "      <td>2</td>\n",
              "      <td>[is, also, good, for, the, gander, some, of, w...</td>\n",
              "    </tr>\n",
              "    <tr>\n",
              "      <th>28</th>\n",
              "      <td>2</td>\n",
              "      <td>[is, also, good, for, the, gander, some, of, w...</td>\n",
              "    </tr>\n",
              "    <tr>\n",
              "      <th>29</th>\n",
              "      <td>2</td>\n",
              "      <td>[is, also]</td>\n",
              "    </tr>\n",
              "    <tr>\n",
              "      <th>30</th>\n",
              "      <td>2</td>\n",
              "      <td>[also]</td>\n",
              "    </tr>\n",
              "    <tr>\n",
              "      <th>31</th>\n",
              "      <td>2</td>\n",
              "      <td>[good, for, the, gander, some, of, which, occa...</td>\n",
              "    </tr>\n",
              "    <tr>\n",
              "      <th>32</th>\n",
              "      <td>2</td>\n",
              "      <td>[for, the, gander, some, of, which, occasional...</td>\n",
              "    </tr>\n",
              "    <tr>\n",
              "      <th>33</th>\n",
              "      <td>1</td>\n",
              "      <td>[the, gander, some, of, which, occasionally, a...</td>\n",
              "    </tr>\n",
              "    <tr>\n",
              "      <th>34</th>\n",
              "      <td>2</td>\n",
              "      <td>[the, gander]</td>\n",
              "    </tr>\n",
              "    <tr>\n",
              "      <th>35</th>\n",
              "      <td>2</td>\n",
              "      <td>[the, gander]</td>\n",
              "    </tr>\n",
              "    <tr>\n",
              "      <th>36</th>\n",
              "      <td>2</td>\n",
              "      <td>[gander]</td>\n",
              "    </tr>\n",
              "    <tr>\n",
              "      <th>38</th>\n",
              "      <td>2</td>\n",
              "      <td>[some, of, which, occasionally, amuses, but, n...</td>\n",
              "    </tr>\n",
              "    <tr>\n",
              "      <th>39</th>\n",
              "      <td>2</td>\n",
              "      <td>[some, of, which]</td>\n",
              "    </tr>\n",
              "    <tr>\n",
              "      <th>40</th>\n",
              "      <td>2</td>\n",
              "      <td>[some]</td>\n",
              "    </tr>\n",
              "    <tr>\n",
              "      <th>41</th>\n",
              "      <td>2</td>\n",
              "      <td>[of, which]</td>\n",
              "    </tr>\n",
              "    <tr>\n",
              "      <th>42</th>\n",
              "      <td>2</td>\n",
              "      <td>[which]</td>\n",
              "    </tr>\n",
              "    <tr>\n",
              "      <th>43</th>\n",
              "      <td>2</td>\n",
              "      <td>[occasionally, amuses, but, none, of, which, a...</td>\n",
              "    </tr>\n",
              "    <tr>\n",
              "      <th>44</th>\n",
              "      <td>2</td>\n",
              "      <td>[occasionally]</td>\n",
              "    </tr>\n",
              "    <tr>\n",
              "      <th>45</th>\n",
              "      <td>2</td>\n",
              "      <td>[amuses, but, none, of, which, amounts, to, mu...</td>\n",
              "    </tr>\n",
              "    <tr>\n",
              "      <th>46</th>\n",
              "      <td>3</td>\n",
              "      <td>[amuses]</td>\n",
              "    </tr>\n",
              "    <tr>\n",
              "      <th>47</th>\n",
              "      <td>1</td>\n",
              "      <td>[but, none, of, which, amounts, to, much, of, ...</td>\n",
              "    </tr>\n",
              "    <tr>\n",
              "      <th>48</th>\n",
              "      <td>2</td>\n",
              "      <td>[but]</td>\n",
              "    </tr>\n",
              "    <tr>\n",
              "      <th>49</th>\n",
              "      <td>1</td>\n",
              "      <td>[none, of, which, amounts, to, much, of, story]</td>\n",
              "    </tr>\n",
              "    <tr>\n",
              "      <th>50</th>\n",
              "      <td>2</td>\n",
              "      <td>[none]</td>\n",
              "    </tr>\n",
              "    <tr>\n",
              "      <th>51</th>\n",
              "      <td>2</td>\n",
              "      <td>[of, which, amounts, to, much, of, story]</td>\n",
              "    </tr>\n",
              "  </tbody>\n",
              "</table>\n",
              "</div>\n",
              "      <button class=\"colab-df-convert\" onclick=\"convertToInteractive('df-2e81c624-4d3e-4896-ad74-9a08ed81bdcf')\"\n",
              "              title=\"Convert this dataframe to an interactive table.\"\n",
              "              style=\"display:none;\">\n",
              "        \n",
              "  <svg xmlns=\"http://www.w3.org/2000/svg\" height=\"24px\"viewBox=\"0 0 24 24\"\n",
              "       width=\"24px\">\n",
              "    <path d=\"M0 0h24v24H0V0z\" fill=\"none\"/>\n",
              "    <path d=\"M18.56 5.44l.94 2.06.94-2.06 2.06-.94-2.06-.94-.94-2.06-.94 2.06-2.06.94zm-11 1L8.5 8.5l.94-2.06 2.06-.94-2.06-.94L8.5 2.5l-.94 2.06-2.06.94zm10 10l.94 2.06.94-2.06 2.06-.94-2.06-.94-.94-2.06-.94 2.06-2.06.94z\"/><path d=\"M17.41 7.96l-1.37-1.37c-.4-.4-.92-.59-1.43-.59-.52 0-1.04.2-1.43.59L10.3 9.45l-7.72 7.72c-.78.78-.78 2.05 0 2.83L4 21.41c.39.39.9.59 1.41.59.51 0 1.02-.2 1.41-.59l7.78-7.78 2.81-2.81c.8-.78.8-2.07 0-2.86zM5.41 20L4 18.59l7.72-7.72 1.47 1.35L5.41 20z\"/>\n",
              "  </svg>\n",
              "      </button>\n",
              "      \n",
              "  <style>\n",
              "    .colab-df-container {\n",
              "      display:flex;\n",
              "      flex-wrap:wrap;\n",
              "      gap: 12px;\n",
              "    }\n",
              "\n",
              "    .colab-df-convert {\n",
              "      background-color: #E8F0FE;\n",
              "      border: none;\n",
              "      border-radius: 50%;\n",
              "      cursor: pointer;\n",
              "      display: none;\n",
              "      fill: #1967D2;\n",
              "      height: 32px;\n",
              "      padding: 0 0 0 0;\n",
              "      width: 32px;\n",
              "    }\n",
              "\n",
              "    .colab-df-convert:hover {\n",
              "      background-color: #E2EBFA;\n",
              "      box-shadow: 0px 1px 2px rgba(60, 64, 67, 0.3), 0px 1px 3px 1px rgba(60, 64, 67, 0.15);\n",
              "      fill: #174EA6;\n",
              "    }\n",
              "\n",
              "    [theme=dark] .colab-df-convert {\n",
              "      background-color: #3B4455;\n",
              "      fill: #D2E3FC;\n",
              "    }\n",
              "\n",
              "    [theme=dark] .colab-df-convert:hover {\n",
              "      background-color: #434B5C;\n",
              "      box-shadow: 0px 1px 3px 1px rgba(0, 0, 0, 0.15);\n",
              "      filter: drop-shadow(0px 1px 2px rgba(0, 0, 0, 0.3));\n",
              "      fill: #FFFFFF;\n",
              "    }\n",
              "  </style>\n",
              "\n",
              "      <script>\n",
              "        const buttonEl =\n",
              "          document.querySelector('#df-2e81c624-4d3e-4896-ad74-9a08ed81bdcf button.colab-df-convert');\n",
              "        buttonEl.style.display =\n",
              "          google.colab.kernel.accessAllowed ? 'block' : 'none';\n",
              "\n",
              "        async function convertToInteractive(key) {\n",
              "          const element = document.querySelector('#df-2e81c624-4d3e-4896-ad74-9a08ed81bdcf');\n",
              "          const dataTable =\n",
              "            await google.colab.kernel.invokeFunction('convertToInteractive',\n",
              "                                                     [key], {});\n",
              "          if (!dataTable) return;\n",
              "\n",
              "          const docLinkHtml = 'Like what you see? Visit the ' +\n",
              "            '<a target=\"_blank\" href=https://colab.research.google.com/notebooks/data_table.ipynb>data table notebook</a>'\n",
              "            + ' to learn more about interactive tables.';\n",
              "          element.innerHTML = '';\n",
              "          dataTable['output_type'] = 'display_data';\n",
              "          await google.colab.output.renderOutput(dataTable, element);\n",
              "          const docLink = document.createElement('div');\n",
              "          docLink.innerHTML = docLinkHtml;\n",
              "          element.appendChild(docLink);\n",
              "        }\n",
              "      </script>\n",
              "    </div>\n",
              "  </div>\n",
              "  "
            ]
          },
          "metadata": {},
          "execution_count": 18
        }
      ]
    },
    {
      "cell_type": "code",
      "source": [
        "x = df['Process Phrase']\n",
        "y = df['Sentiment']"
      ],
      "metadata": {
        "id": "fxUPvOVaxZGp"
      },
      "execution_count": 19,
      "outputs": []
    },
    {
      "cell_type": "code",
      "source": [
        "type(x)"
      ],
      "metadata": {
        "colab": {
          "base_uri": "https://localhost:8080/"
        },
        "id": "uESvxyUAxb8H",
        "outputId": "25b5ca6b-d264-45b5-f4ce-7b157c592b7c"
      },
      "execution_count": 20,
      "outputs": [
        {
          "output_type": "execute_result",
          "data": {
            "text/plain": [
              "pandas.core.series.Series"
            ]
          },
          "metadata": {},
          "execution_count": 20
        }
      ]
    },
    {
      "cell_type": "code",
      "source": [
        "class FastText:\n",
        "\n",
        "    def __init__(self, preprocessor=None, method='skipgram'):\n",
        "        self.method = method\n",
        "        self.model = None\n",
        "        self.preprocessor = preprocessor\n",
        "\n",
        "    def train(self, texts):\n",
        "        \"\"\"\n",
        "        train the fasttext model and save it into self.model\n",
        "        Parameters\n",
        "        ----------\n",
        "        texts: list of list of str\n",
        "        \"\"\"\n",
        "        with open('train.txt', 'w') as f:\n",
        "            for text in texts:\n",
        "                f.write(\" \".join(text) + \"\\n\")\n",
        "        self.model = fasttext.train_unsupervised('train.txt', model=self.method, dim=100)\n",
        "\n",
        "    def get_query_embedding(self, query, tf_idf_vectorizer):\n",
        "        \"\"\"\n",
        "        get the embedding of the query. You can use the tf_idf_vectorizer to get the weights of the words in the query. preprocess the query using self.preprocessor if it is not None\n",
        "        Parameters\n",
        "        ----------\n",
        "        query: str\n",
        "        tf_idf_vectorizer: TfidfVectorizer\n",
        "        Returns embedding of the query\n",
        "        \"\"\"\n",
        "\n",
        "        query_embed = self.model.get_word_vector(query)\n",
        "        return query_embed\n",
        "\n",
        "    def save_FastText_model(self, path='FastText_model.bin'):\n",
        "        self.model.save_model(path)\n",
        "\n",
        "    def load_FastText_model(self, path=\"FastText_model.bin\"):\n",
        "        self.model = fasttext.load_model(path)\n",
        "\n",
        "    def prepare(self, dataset, mode, save=False):\n",
        "        if mode == 'train':\n",
        "            self.train(dataset)\n",
        "        if mode == 'load':\n",
        "            self.load_FastText_model()\n",
        "        if save:\n",
        "            self.save_FastText_model()"
      ],
      "metadata": {
        "id": "bWEkDweKdwEA"
      },
      "execution_count": 21,
      "outputs": []
    },
    {
      "cell_type": "code",
      "source": [
        "FastText_model = FastText(preprocessor=preprocess_text)\n",
        "FastText_model.prepare(df['Process Phrase'], mode='train', save=True)"
      ],
      "metadata": {
        "id": "ZonxiYJtdwGR"
      },
      "execution_count": 22,
      "outputs": []
    },
    {
      "cell_type": "markdown",
      "source": [
        "Here we do feature extraction."
      ],
      "metadata": {
        "id": "0QsOLltWe_lk"
      }
    },
    {
      "cell_type": "code",
      "source": [
        "embeddings = []\n",
        "for row in df['Process Phrase']:\n",
        "    embeddings.append(FastText_model.model.get_word_vector(' '.join(row)))\n",
        "embeddings = np.array(embeddings)"
      ],
      "metadata": {
        "id": "zmGfT-C4dwKe"
      },
      "execution_count": 23,
      "outputs": []
    },
    {
      "cell_type": "code",
      "source": [
        "embeddings.shape"
      ],
      "metadata": {
        "id": "DvjFtfZMdwMh",
        "colab": {
          "base_uri": "https://localhost:8080/"
        },
        "outputId": "5df864ef-690a-4aa9-ac0b-7febd60a68dc"
      },
      "execution_count": 24,
      "outputs": [
        {
          "output_type": "execute_result",
          "data": {
            "text/plain": [
              "(154966, 100)"
            ]
          },
          "metadata": {},
          "execution_count": 24
        }
      ]
    },
    {
      "cell_type": "code",
      "source": [
        "embeddings"
      ],
      "metadata": {
        "colab": {
          "base_uri": "https://localhost:8080/"
        },
        "id": "FbmEWzYgm2vl",
        "outputId": "80ee52af-f3b5-46d2-d179-c7491f6f44aa"
      },
      "execution_count": 25,
      "outputs": [
        {
          "output_type": "execute_result",
          "data": {
            "text/plain": [
              "array([[-0.05669227,  0.1250417 , -0.01385036, ...,  0.08043051,\n",
              "         0.04662313,  0.01908301],\n",
              "       [ 0.02847229,  0.05180153, -0.01982814, ...,  0.04347895,\n",
              "         0.05504334,  0.04000985],\n",
              "       [ 0.46918046,  0.0154562 ,  0.53942025, ..., -0.05166132,\n",
              "         0.49163085,  0.12726252],\n",
              "       ...,\n",
              "       [-0.3032662 ,  0.13546728, -0.08002806, ...,  0.3985732 ,\n",
              "         0.27305293, -0.1818879 ],\n",
              "       [-0.3032662 ,  0.13546728, -0.08002806, ...,  0.3985732 ,\n",
              "         0.27305293, -0.1818879 ],\n",
              "       [-0.36756405,  0.19199874, -0.14434896, ...,  0.5135153 ,\n",
              "         0.31290984, -0.22737812]], dtype=float32)"
            ]
          },
          "metadata": {},
          "execution_count": 25
        }
      ]
    },
    {
      "cell_type": "code",
      "source": [],
      "metadata": {
        "id": "FrZ7yEJ0dwOz"
      },
      "execution_count": 24,
      "outputs": []
    },
    {
      "cell_type": "code",
      "source": [
        "reviews = df['Process Phrase']\n",
        "sentiment = df['Sentiment']"
      ],
      "metadata": {
        "id": "cRTgvZUsdwRE"
      },
      "execution_count": 26,
      "outputs": []
    },
    {
      "cell_type": "code",
      "source": [
        "sentiment"
      ],
      "metadata": {
        "colab": {
          "base_uri": "https://localhost:8080/"
        },
        "id": "gkKhg_bpIPST",
        "outputId": "b3230cd8-ab53-4081-9c09-dd8fab318e10"
      },
      "execution_count": 27,
      "outputs": [
        {
          "output_type": "execute_result",
          "data": {
            "text/plain": [
              "0         1\n",
              "1         2\n",
              "2         2\n",
              "4         2\n",
              "5         2\n",
              "         ..\n",
              "155043    4\n",
              "155044    2\n",
              "155045    3\n",
              "155046    4\n",
              "155047    4\n",
              "Name: Sentiment, Length: 154966, dtype: int64"
            ]
          },
          "metadata": {},
          "execution_count": 27
        }
      ]
    },
    {
      "cell_type": "code",
      "source": [
        "type(sentiment)"
      ],
      "metadata": {
        "colab": {
          "base_uri": "https://localhost:8080/"
        },
        "id": "FoFxm0dgISbg",
        "outputId": "97948990-116c-4707-e6e7-2eec72d6dee0"
      },
      "execution_count": 28,
      "outputs": [
        {
          "output_type": "execute_result",
          "data": {
            "text/plain": [
              "pandas.core.series.Series"
            ]
          },
          "metadata": {},
          "execution_count": 28
        }
      ]
    },
    {
      "cell_type": "code",
      "source": [
        "labels_df = sentiment.to_numpy()\n"
      ],
      "metadata": {
        "id": "8wOvuIjNIbGD"
      },
      "execution_count": 29,
      "outputs": []
    },
    {
      "cell_type": "code",
      "source": [
        "labels_df"
      ],
      "metadata": {
        "colab": {
          "base_uri": "https://localhost:8080/"
        },
        "id": "t130xx55IdVu",
        "outputId": "4ec287ad-553d-452c-b061-33f59de2f986"
      },
      "execution_count": 30,
      "outputs": [
        {
          "output_type": "execute_result",
          "data": {
            "text/plain": [
              "array([1, 2, 2, ..., 3, 4, 4])"
            ]
          },
          "metadata": {},
          "execution_count": 30
        }
      ]
    },
    {
      "cell_type": "code",
      "source": [
        "# todo calculate the labels\n",
        "enc = OneHotEncoder()\n",
        "labels = enc.fit_transform(labels_df.reshape(-1, 1)).toarray()"
      ],
      "metadata": {
        "id": "EX3qwkgCJDqq"
      },
      "execution_count": 31,
      "outputs": []
    },
    {
      "cell_type": "code",
      "source": [
        "labels"
      ],
      "metadata": {
        "colab": {
          "base_uri": "https://localhost:8080/"
        },
        "id": "PFtPufPrJEhR",
        "outputId": "1e56dee6-80dc-4e9c-87ad-0cb33b0a57ef"
      },
      "execution_count": 32,
      "outputs": [
        {
          "output_type": "execute_result",
          "data": {
            "text/plain": [
              "array([[0., 1., 0., 0., 0.],\n",
              "       [0., 0., 1., 0., 0.],\n",
              "       [0., 0., 1., 0., 0.],\n",
              "       ...,\n",
              "       [0., 0., 0., 1., 0.],\n",
              "       [0., 0., 0., 0., 1.],\n",
              "       [0., 0., 0., 0., 1.]])"
            ]
          },
          "metadata": {},
          "execution_count": 32
        }
      ]
    },
    {
      "cell_type": "markdown",
      "source": [
        "Split data to train, test and validation"
      ],
      "metadata": {
        "id": "ajOsTH3g_CZ1"
      }
    },
    {
      "cell_type": "code",
      "source": [
        "# todo split the data into train, val, test and create dataloaders\n",
        "X_train, X_test, y_train, y_test = train_test_split(embeddings, labels, test_size=0.1)\n",
        "X_train, X_valid, y_train, y_valid = train_test_split(X_train, y_train, test_size=0.1)\n"
      ],
      "metadata": {
        "id": "6gk80v8QC_0L"
      },
      "execution_count": 33,
      "outputs": []
    },
    {
      "cell_type": "markdown",
      "source": [
        "  creat neural network model and train it"
      ],
      "metadata": {
        "id": "LAbO_2lTP1V7"
      }
    },
    {
      "cell_type": "code",
      "source": [
        "class PapersDataSet(Dataset):\n",
        "    def __init__(self, embeddings: list, labels: list):\n",
        "        self.embeddings = embeddings\n",
        "        self.labels = labels\n",
        "\n",
        "    def __len__(self):\n",
        "        return len(self.labels)\n",
        "\n",
        "    def __getitem__(self, i):\n",
        "        return self.embeddings[i], self.labels[i]"
      ],
      "metadata": {
        "id": "hmJQQAxpD9EJ"
      },
      "execution_count": 35,
      "outputs": []
    },
    {
      "cell_type": "code",
      "source": [
        "\n",
        "train_dataset = PapersDataSet(X_train, y_train)\n",
        "test_dataset = PapersDataSet(X_test, y_test)\n",
        "valid_dataset = PapersDataSet(X_valid, y_valid)\n",
        "\n",
        "batch_size  = 64\n",
        "\n",
        "train_loader = DataLoader(dataset=train_dataset,\n",
        "                                          batch_size=batch_size,\n",
        "                                          shuffle=True)\n",
        "\n",
        "test_loader = DataLoader(dataset=test_dataset,\n",
        "                                          batch_size=batch_size)\n",
        "\n",
        "val_loader = DataLoader(dataset=valid_dataset,\n",
        "                                          batch_size=batch_size)"
      ],
      "metadata": {
        "id": "kjksZi3KC8av"
      },
      "execution_count": 36,
      "outputs": []
    },
    {
      "cell_type": "code",
      "source": [
        "X_train.shape"
      ],
      "metadata": {
        "id": "CRlW_pYddwVN",
        "colab": {
          "base_uri": "https://localhost:8080/"
        },
        "outputId": "59f5448d-9d12-4c70-bd35-858b193abd73"
      },
      "execution_count": 37,
      "outputs": [
        {
          "output_type": "execute_result",
          "data": {
            "text/plain": [
              "(125522, 100)"
            ]
          },
          "metadata": {},
          "execution_count": 37
        }
      ]
    },
    {
      "cell_type": "code",
      "source": [
        "y_train.shape"
      ],
      "metadata": {
        "colab": {
          "base_uri": "https://localhost:8080/"
        },
        "id": "LwZay2xyFjZX",
        "outputId": "28468f37-2679-4071-f0d0-38126c1e661c"
      },
      "execution_count": 38,
      "outputs": [
        {
          "output_type": "execute_result",
          "data": {
            "text/plain": [
              "(125522, 5)"
            ]
          },
          "metadata": {},
          "execution_count": 38
        }
      ]
    },
    {
      "cell_type": "code",
      "source": [
        "X_test.shape"
      ],
      "metadata": {
        "id": "kXWIBTPQdwXZ",
        "colab": {
          "base_uri": "https://localhost:8080/"
        },
        "outputId": "06d8246e-a338-4849-9018-bfb140d3c2dc"
      },
      "execution_count": 39,
      "outputs": [
        {
          "output_type": "execute_result",
          "data": {
            "text/plain": [
              "(15497, 100)"
            ]
          },
          "metadata": {},
          "execution_count": 39
        }
      ]
    },
    {
      "cell_type": "code",
      "source": [
        "device = torch.device('cuda' if torch.cuda.is_available() else 'cpu')\n",
        "print(device)"
      ],
      "metadata": {
        "colab": {
          "base_uri": "https://localhost:8080/"
        },
        "id": "joRsfGtUCd1r",
        "outputId": "16784805-9b86-42f6-d323-1b1a1c8bda3c"
      },
      "execution_count": 40,
      "outputs": [
        {
          "output_type": "stream",
          "name": "stdout",
          "text": [
            "cpu\n"
          ]
        }
      ]
    },
    {
      "cell_type": "code",
      "source": [
        "import torch\n",
        "import torch.nn as nn\n",
        "\n",
        "class CNN(nn.Module):\n",
        "    def __init__(self, in_features=1000, num_classes=5):\n",
        "        super().__init__()\n",
        "        self.seq = nn.Sequential(\n",
        "            nn.BatchNorm1d(in_features),\n",
        "            nn.Linear(in_features, 512),  # Additional linear layer\n",
        "            nn.ReLU(),                     # Activation function\n",
        "            nn.Linear(512, 256),            # Additional linear layer\n",
        "            nn.ReLU(),                     # Activation function\n",
        "            nn.Linear(256, num_classes),    # Final linear layer\n",
        "            nn.Softmax(1),\n",
        "        )\n",
        "\n",
        "    def forward(self, x):\n",
        "        return self.seq(x)\n",
        "\n",
        "# Define the number of classes\n",
        "num_classes = 5\n",
        "\n",
        "# Create an instance of the ResNet-50 model\n",
        "model = CNN(100,5)"
      ],
      "metadata": {
        "id": "DY8b5evFaKH-"
      },
      "execution_count": 42,
      "outputs": []
    },
    {
      "cell_type": "code",
      "source": [],
      "metadata": {
        "id": "tbm-P6HpAleG"
      },
      "execution_count": 42,
      "outputs": []
    },
    {
      "cell_type": "code",
      "source": [
        "model = model.to(device)"
      ],
      "metadata": {
        "id": "glPz09_dBPfw"
      },
      "execution_count": 43,
      "outputs": []
    },
    {
      "cell_type": "code",
      "source": [
        "\n",
        "# Define the loss function and optimizer\n",
        "criterion = nn.CrossEntropyLoss()\n",
        "optimizer = torch.optim.Adam(model.parameters(), lr=0.001)\n"
      ],
      "metadata": {
        "id": "Ez5NjWV4AbE2"
      },
      "execution_count": 44,
      "outputs": []
    },
    {
      "cell_type": "code",
      "source": [
        "def eval_epoch(model: nn.Module, criterion: nn.Module, dataloader: torch.utils.data.DataLoader, test_mode=False):\n",
        "    \"\"\"\n",
        "    Evaluate the model on the given dataloader. used for validation and test\n",
        "    Parameters\n",
        "    ----------\n",
        "    model: nn.Module\n",
        "    criterion: nn.Module\n",
        "    dataloader: torch.utils.data.DataLoader\n",
        "    test_mode: bool\n",
        "        If True, the function will print 'Test' instead of 'Validation'\n",
        "    Returns\n",
        "    -------\n",
        "    eval_loss: float\n",
        "        The loss on the given dataloader\n",
        "    predicted_labels: list\n",
        "        The predicted labels\n",
        "    true_labels: list\n",
        "        The true labels\n",
        "    f1_score_macro: float\n",
        "        The f1 score on the given dataloader\n",
        "    \"\"\"\n",
        "    eval_loss = 0\n",
        "    predicted_labels = []\n",
        "    true_labels = []\n",
        "    with torch.no_grad():\n",
        "        for i, (x, labels) in enumerate(dataloader):\n",
        "            x, labels = x.to(device, dtype=torch.float), labels.to(device, dtype=torch.float)\n",
        "            outputs = model(x)\n",
        "            loss = criterion(outputs, labels)\n",
        "            eval_loss += loss.item()\n",
        "            predicted_targets = outputs.argmax(dim=1)\n",
        "            truths = labels.argmax(dim=1)\n",
        "            predicted_labels.extend(predicted_targets.detach().cpu())\n",
        "            true_labels.extend(truths.detach().cpu())\n",
        "\n",
        "    f1_score_macro = f1_score(true_labels, predicted_labels, average='macro')\n",
        "\n",
        "\n",
        "    return eval_loss, predicted_labels, true_labels, f1_score_macro"
      ],
      "metadata": {
        "id": "VO9MtJuhEc8L"
      },
      "execution_count": 45,
      "outputs": []
    },
    {
      "cell_type": "code",
      "source": [
        "\"\"\"\n",
        "Train the model for num_epochs epochs\n",
        "epoch_true and epoch_all are used to calculate the accuracy.\n",
        "epoch_true is the number of correct predictions and epoch_all is the total number of predictions in the epoch\n",
        "\"\"\"\n",
        "num_epochs = 30\n",
        "\n",
        "train_loss_arr, val_loss_arr = [], []\n",
        "f1_macro_scores = []\n",
        "f1_train_scores = []\n",
        "for epoch in range(num_epochs):\n",
        "    start_time = time()\n",
        "\n",
        "    train_loss, val_loss = 0, 0\n",
        "    epoch_all = 0\n",
        "    epoch_true = 0\n",
        "    predicted_labels = []\n",
        "    true_labels = []\n",
        "\n",
        "    model.train()\n",
        "\n",
        "    for i, (x, labels) in enumerate(train_loader):\n",
        "        x, labels = x.to(device, dtype=torch.float), labels.to(device, dtype=torch.float)\n",
        "        optimizer.zero_grad()\n",
        "        outputs = model(x)\n",
        "        loss = criterion(outputs, labels)\n",
        "        loss.backward()\n",
        "        optimizer.step()\n",
        "\n",
        "        train_loss += loss.item()\n",
        "        predicted_targets = outputs.argmax(dim=1)\n",
        "        truths = labels.argmax(dim=1)\n",
        "        predicted_labels.extend(predicted_targets.detach().cpu())\n",
        "        true_labels.extend(truths.detach().cpu())\n",
        "        epoch_true += (predicted_targets == truths).sum().item()\n",
        "        epoch_all += len(predicted_targets)\n",
        "\n",
        "    f1_train_scores.append(f1_score(true_labels, predicted_labels, average='macro'))\n",
        "    model.eval()\n",
        "    val_loss, predicted_labels, true_labels, f1_score_macro = eval_epoch(model, criterion, val_loader)\n",
        "    train_loss /= len(train_loader.dataset)\n",
        "    val_loss /= len(val_loader.dataset)\n",
        "    train_loss_arr.append(train_loss)\n",
        "    val_loss_arr.append(val_loss)\n",
        "    f1_macro_scores.append(f1_score_macro)\n",
        "\n",
        "    end_time = time()\n",
        "\n",
        "    print(f'Epoch {epoch + 1} finished in {end_time - start_time:.2f}s')\n",
        "    print(f\"[Epoch {epoch + 1}]\\t\"\n",
        "        f\"Train Loss: {train_loss:.4f}\\t\"\n",
        "        f\"Validation Loss: {val_loss:.4f}\\t F1 score macro: {f1_score_macro}\")"
      ],
      "metadata": {
        "colab": {
          "base_uri": "https://localhost:8080/"
        },
        "id": "fdwi58B-Ec-l",
        "outputId": "7844b558-c8a1-4193-d8e6-0a4f49db70e2"
      },
      "execution_count": 46,
      "outputs": [
        {
          "output_type": "stream",
          "name": "stdout",
          "text": [
            "Epoch 1 finished in 17.01s\n",
            "[Epoch 1]\tTrain Loss: 0.0217\tValidation Loss: 0.0214\t F1 score macro: 0.2102898286213266\n",
            "Epoch 2 finished in 17.84s\n",
            "[Epoch 2]\tTrain Loss: 0.0214\tValidation Loss: 0.0214\t F1 score macro: 0.2064245285835026\n",
            "Epoch 3 finished in 17.44s\n",
            "[Epoch 3]\tTrain Loss: 0.0214\tValidation Loss: 0.0214\t F1 score macro: 0.22928816615319833\n",
            "Epoch 4 finished in 17.86s\n",
            "[Epoch 4]\tTrain Loss: 0.0214\tValidation Loss: 0.0214\t F1 score macro: 0.21195092244773567\n",
            "Epoch 5 finished in 17.73s\n",
            "[Epoch 5]\tTrain Loss: 0.0214\tValidation Loss: 0.0214\t F1 score macro: 0.2138377655986751\n",
            "Epoch 6 finished in 19.35s\n",
            "[Epoch 6]\tTrain Loss: 0.0214\tValidation Loss: 0.0213\t F1 score macro: 0.22979223570734825\n",
            "Epoch 7 finished in 17.72s\n",
            "[Epoch 7]\tTrain Loss: 0.0214\tValidation Loss: 0.0213\t F1 score macro: 0.22275529858679866\n",
            "Epoch 8 finished in 17.65s\n",
            "[Epoch 8]\tTrain Loss: 0.0214\tValidation Loss: 0.0213\t F1 score macro: 0.22060356119032884\n",
            "Epoch 9 finished in 18.36s\n",
            "[Epoch 9]\tTrain Loss: 0.0214\tValidation Loss: 0.0213\t F1 score macro: 0.22987798052435374\n",
            "Epoch 10 finished in 17.81s\n",
            "[Epoch 10]\tTrain Loss: 0.0214\tValidation Loss: 0.0213\t F1 score macro: 0.22449741243900356\n",
            "Epoch 11 finished in 18.35s\n",
            "[Epoch 11]\tTrain Loss: 0.0214\tValidation Loss: 0.0213\t F1 score macro: 0.22221260213204283\n",
            "Epoch 12 finished in 20.64s\n",
            "[Epoch 12]\tTrain Loss: 0.0214\tValidation Loss: 0.0213\t F1 score macro: 0.22290122461962344\n",
            "Epoch 13 finished in 19.50s\n",
            "[Epoch 13]\tTrain Loss: 0.0214\tValidation Loss: 0.0213\t F1 score macro: 0.22499546183607416\n",
            "Epoch 14 finished in 20.14s\n",
            "[Epoch 14]\tTrain Loss: 0.0214\tValidation Loss: 0.0213\t F1 score macro: 0.24413867196765118\n",
            "Epoch 15 finished in 18.14s\n",
            "[Epoch 15]\tTrain Loss: 0.0213\tValidation Loss: 0.0213\t F1 score macro: 0.2399503000829637\n",
            "Epoch 16 finished in 19.25s\n",
            "[Epoch 16]\tTrain Loss: 0.0214\tValidation Loss: 0.0213\t F1 score macro: 0.23785900440213967\n",
            "Epoch 17 finished in 20.02s\n",
            "[Epoch 17]\tTrain Loss: 0.0213\tValidation Loss: 0.0213\t F1 score macro: 0.23160207889431642\n",
            "Epoch 18 finished in 19.14s\n",
            "[Epoch 18]\tTrain Loss: 0.0214\tValidation Loss: 0.0213\t F1 score macro: 0.23753666666817225\n",
            "Epoch 19 finished in 18.68s\n",
            "[Epoch 19]\tTrain Loss: 0.0213\tValidation Loss: 0.0213\t F1 score macro: 0.24284846519593772\n",
            "Epoch 20 finished in 18.58s\n",
            "[Epoch 20]\tTrain Loss: 0.0213\tValidation Loss: 0.0213\t F1 score macro: 0.24368510969079465\n",
            "Epoch 21 finished in 18.76s\n",
            "[Epoch 21]\tTrain Loss: 0.0213\tValidation Loss: 0.0213\t F1 score macro: 0.24527576242436794\n",
            "Epoch 22 finished in 17.71s\n",
            "[Epoch 22]\tTrain Loss: 0.0213\tValidation Loss: 0.0213\t F1 score macro: 0.24897335375413515\n",
            "Epoch 23 finished in 17.23s\n",
            "[Epoch 23]\tTrain Loss: 0.0213\tValidation Loss: 0.0213\t F1 score macro: 0.2462566173990512\n",
            "Epoch 24 finished in 18.48s\n",
            "[Epoch 24]\tTrain Loss: 0.0213\tValidation Loss: 0.0213\t F1 score macro: 0.22745857787041074\n",
            "Epoch 25 finished in 17.62s\n",
            "[Epoch 25]\tTrain Loss: 0.0213\tValidation Loss: 0.0213\t F1 score macro: 0.23398579464046593\n",
            "Epoch 26 finished in 17.42s\n",
            "[Epoch 26]\tTrain Loss: 0.0213\tValidation Loss: 0.0213\t F1 score macro: 0.23214704234325678\n",
            "Epoch 27 finished in 17.97s\n",
            "[Epoch 27]\tTrain Loss: 0.0213\tValidation Loss: 0.0213\t F1 score macro: 0.2414817815340203\n",
            "Epoch 28 finished in 17.50s\n",
            "[Epoch 28]\tTrain Loss: 0.0213\tValidation Loss: 0.0213\t F1 score macro: 0.23598280745186345\n",
            "Epoch 29 finished in 17.25s\n",
            "[Epoch 29]\tTrain Loss: 0.0214\tValidation Loss: 0.0213\t F1 score macro: 0.24035478185810916\n",
            "Epoch 30 finished in 18.07s\n",
            "[Epoch 30]\tTrain Loss: 0.0213\tValidation Loss: 0.0213\t F1 score macro: 0.2430636703674014\n"
          ]
        }
      ]
    },
    {
      "cell_type": "code",
      "source": [
        "x = range(num_epochs)\n",
        "plt.plot(x, train_loss_arr, label='train loss')\n",
        "plt.plot(x, val_loss_arr, label='validation loss')\n",
        "plt.legend()\n",
        "plt.plot()"
      ],
      "metadata": {
        "colab": {
          "base_uri": "https://localhost:8080/",
          "height": 447
        },
        "id": "fPJFOMlkG4Nb",
        "outputId": "70e59752-ebe9-46d9-9dba-98055d3a947a"
      },
      "execution_count": 47,
      "outputs": [
        {
          "output_type": "execute_result",
          "data": {
            "text/plain": [
              "[]"
            ]
          },
          "metadata": {},
          "execution_count": 47
        },
        {
          "output_type": "display_data",
          "data": {
            "text/plain": [
              "<Figure size 640x480 with 1 Axes>"
            ],
            "image/png": "[encoded data removed]"
          },
          "metadata": {}
        }
      ]
    },
    {
      "cell_type": "code",
      "source": [
        "x = range(num_epochs)\n",
        "plt.plot(x, f1_train_scores, label='train f1 score')\n",
        "plt.plot(x, f1_macro_scores, label='validation f1 score')\n",
        "plt.legend()\n",
        "plt.plot()"
      ],
      "metadata": {
        "colab": {
          "base_uri": "https://localhost:8080/",
          "height": 447
        },
        "id": "NR_zTvO8HAao",
        "outputId": "561f613f-cc35-46ae-d503-3005add7acd7"
      },
      "execution_count": 48,
      "outputs": [
        {
          "output_type": "execute_result",
          "data": {
            "text/plain": [
              "[]"
            ]
          },
          "metadata": {},
          "execution_count": 48
        },
        {
          "output_type": "display_data",
          "data": {
            "text/plain": [
              "<Figure size 640x480 with 1 Axes>"
            ],
            "image/png": "[encoded data removed]"
          },
          "metadata": {}
        }
      ]
    },
    {
      "cell_type": "code",
      "source": [
        "model.eval()\n",
        "eval_loss, predicted_labels, true_labels, f1_score_macro = eval_epoch(model, criterion, test_loader, test_mode=True)\n",
        "eval_loss /= len(test_loader)\n",
        "print(f\"test loss: {eval_loss}\")\n",
        "print(f\"accuracy: {accuracy_score(true_labels, predicted_labels)}\")\n",
        "print(f\"f1 score macro: {f1_score(true_labels, predicted_labels, average='macro')}\")\n",
        "print(f\"f1 score micro: {f1_score(true_labels, predicted_labels, average='micro')}\")\n",
        "print(f\"average precision micro: {precision_score(true_labels, predicted_labels, average='micro')}\")\n",
        "print(f\"average precision macro: {precision_score(true_labels, predicted_labels, average='macro')}\")\n",
        "print(f\"average recall micro: {recall_score(true_labels, predicted_labels, average='micro')}\")\n",
        "print(f\"average recall macro: {recall_score(true_labels, predicted_labels, average='macro')}\")"
      ],
      "metadata": {
        "colab": {
          "base_uri": "https://localhost:8080/"
        },
        "id": "lDci9tbYp6Qh",
        "outputId": "5339d75d-a03c-46c9-ba68-f62bb051d20e"
      },
      "execution_count": 49,
      "outputs": [
        {
          "output_type": "stream",
          "name": "stdout",
          "text": [
            "test loss: 1.367424667617421\n",
            "accuracy: 0.5254565399754791\n",
            "f1 score macro: 0.23736900757990131\n",
            "f1 score micro: 0.5254565399754791\n",
            "average precision micro: 0.5254565399754791\n",
            "average precision macro: 0.4471823650985784\n",
            "average recall micro: 0.5254565399754791\n",
            "average recall macro: 0.2524185521788179\n"
          ]
        }
      ]
    },
    {
      "cell_type": "markdown",
      "source": [
        "Using SVM method"
      ],
      "metadata": {
        "id": "fH_QqIVnQZgN"
      }
    },
    {
      "cell_type": "markdown",
      "source": [
        "At first, we changed y into onehot encoded version and now we have to turn it back using next 2 blocks"
      ],
      "metadata": {
        "id": "BTjk8JZqfIwr"
      }
    },
    {
      "cell_type": "code",
      "source": [
        "indices = np.argmax(y_train, axis=1)\n",
        "\n",
        "# Create a new array with the same length as output_array, filled with zeros\n",
        "result_array = np.zeros(len(y_train))\n",
        "\n",
        "# Iterate over each row in output_array\n",
        "for i in range(y_train.shape[0]):\n",
        "    # Get the index of the maximum value for the current row\n",
        "    row_indices = np.argmax(y_train[i])\n",
        "\n",
        "    # Set the index in the current row to 1\n",
        "    result_array[i] = row_indices\n",
        "\n",
        "# Print the result_array\n",
        "print(result_array)"
      ],
      "metadata": {
        "colab": {
          "base_uri": "https://localhost:8080/"
        },
        "id": "cCr5a9Sc_5mz",
        "outputId": "46addfaf-95bd-4a18-cdc7-2289d7b4bacb"
      },
      "execution_count": 36,
      "outputs": [
        {
          "output_type": "stream",
          "name": "stdout",
          "text": [
            "[2. 3. 1. ... 0. 1. 2.]\n"
          ]
        }
      ]
    },
    {
      "cell_type": "code",
      "source": [
        "indices = np.argmax(y_test, axis=1)\n",
        "\n",
        "# Create a new array with the same length as output_array, filled with zeros\n",
        "result_array_test = np.zeros(len(y_test))\n",
        "\n",
        "# Iterate over each row in output_array\n",
        "for i in range(y_test.shape[0]):\n",
        "    # Get the index of the maximum value for the current row\n",
        "    row_indices = np.argmax(y_test[i])\n",
        "\n",
        "    # Set the index in the current row to 1\n",
        "    result_array_test[i] = row_indices\n",
        "\n",
        "# Print the result_array\n",
        "print(result_array_test)"
      ],
      "metadata": {
        "colab": {
          "base_uri": "https://localhost:8080/"
        },
        "id": "BVgHEpWyaPES",
        "outputId": "b09b9182-caa1-4a78-fa52-77832c01f0a9"
      },
      "execution_count": 37,
      "outputs": [
        {
          "output_type": "stream",
          "name": "stdout",
          "text": [
            "[1. 1. 3. ... 0. 3. 2.]\n"
          ]
        }
      ]
    },
    {
      "cell_type": "code",
      "source": [
        "X_train.shape"
      ],
      "metadata": {
        "colab": {
          "base_uri": "https://localhost:8080/"
        },
        "id": "oI3T0taIAeNy",
        "outputId": "b2a2b1cb-c7d9-4522-bdd0-d5098bae197f"
      },
      "execution_count": 55,
      "outputs": [
        {
          "output_type": "execute_result",
          "data": {
            "text/plain": [
              "(125522, 100)"
            ]
          },
          "metadata": {},
          "execution_count": 55
        }
      ]
    },
    {
      "cell_type": "code",
      "source": [
        "X_train"
      ],
      "metadata": {
        "colab": {
          "base_uri": "https://localhost:8080/"
        },
        "id": "CjAKXKyyDH9W",
        "outputId": "e6835198-e51d-48c1-a30e-35295f9e24d5"
      },
      "execution_count": 57,
      "outputs": [
        {
          "output_type": "execute_result",
          "data": {
            "text/plain": [
              "array([[-0.21086854,  0.18309726, -0.17156498, ..., -0.11361155,\n",
              "         0.34971735,  0.4366246 ],\n",
              "       [-0.06302486,  0.05618501, -0.11423474, ...,  0.1675095 ,\n",
              "         0.05637605, -0.08395565],\n",
              "       [-0.15354742,  0.10942771, -0.23730597, ...,  0.3448028 ,\n",
              "        -0.14253844,  0.07123603],\n",
              "       ...,\n",
              "       [ 0.1694377 , -0.02895537, -0.12119164, ...,  0.03424437,\n",
              "         0.02503991, -0.05662288],\n",
              "       [ 0.00932727,  0.07561471, -0.00618562, ...,  0.01683664,\n",
              "         0.04733503, -0.06816449],\n",
              "       [-0.06240552,  0.04210282, -0.04881804, ..., -0.02833827,\n",
              "        -0.01332827, -0.0644822 ]], dtype=float32)"
            ]
          },
          "metadata": {},
          "execution_count": 57
        }
      ]
    },
    {
      "cell_type": "code",
      "source": [
        "result_array.shape"
      ],
      "metadata": {
        "colab": {
          "base_uri": "https://localhost:8080/"
        },
        "id": "Fit3AQ0dAmCT",
        "outputId": "0f972f78-c9fe-4587-eac5-785e47ef8c76"
      },
      "execution_count": 56,
      "outputs": [
        {
          "output_type": "execute_result",
          "data": {
            "text/plain": [
              "(125522,)"
            ]
          },
          "metadata": {},
          "execution_count": 56
        }
      ]
    },
    {
      "cell_type": "code",
      "source": [
        "import pandas as pd\n",
        "from sklearn.feature_extraction.text import TfidfVectorizer\n",
        "from sklearn.model_selection import train_test_split\n",
        "from sklearn.svm import LinearSVC\n",
        "from sklearn.metrics import classification_report\n",
        "from sklearn.svm import SVC\n",
        "\n",
        "# Train a linear support vector classifier (SVC)\n",
        "classifier = SVC()\n",
        "classifier.fit(X_train, result_array)\n"
      ],
      "metadata": {
        "id": "TUGCvdxASb_0"
      },
      "execution_count": null,
      "outputs": []
    },
    {
      "cell_type": "code",
      "source": [
        "# Make predictions on the test set\n",
        "y_pred = classifier.predict(X_test)\n",
        "\n",
        "# Evaluate the model\n",
        "print(classification_report(y_test, y_pred))"
      ],
      "metadata": {
        "id": "ZOWAwJFmAucY"
      },
      "execution_count": null,
      "outputs": []
    },
    {
      "cell_type": "code",
      "source": [
        "cm = confusion_matrix(y_test, y_pred)\n",
        "cm_normalized = cm.astype('float') / cm.sum(axis=1)[:, np.newaxis]\n",
        "plt.figure(figsize=(10, 8))\n",
        "sns.heatmap(cm_normalized, annot=True, cmap='Blues')\n",
        "plt.xlabel('Predicted Label')\n",
        "plt.ylabel('True Label')\n",
        "plt.title('Normalized Confusion Matrix')\n",
        "plt.show()"
      ],
      "metadata": {
        "id": "8xL0JFByKxYm"
      },
      "execution_count": null,
      "outputs": []
    },
    {
      "cell_type": "markdown",
      "source": [
        "using *MultinomialNB*"
      ],
      "metadata": {
        "id": "ocsmTg86d5E_"
      }
    },
    {
      "cell_type": "code",
      "source": [
        "from sklearn.naive_bayes import MultinomialNB\n",
        "from sklearn.metrics import classification_report\n",
        "from sklearn.preprocessing import MinMaxScaler"
      ],
      "metadata": {
        "id": "NmW3by1pd4Th"
      },
      "execution_count": 34,
      "outputs": []
    },
    {
      "cell_type": "code",
      "source": [
        "#training the model\n",
        "mnb=MultinomialNB()\n",
        "#fitting the svm for bag of words\n",
        "scaler = MinMaxScaler()\n",
        "X_scaled = scaler.fit_transform(X_train)\n",
        "mnb_model = mnb.fit(X_scaled, result_array)\n",
        "print(mnb_model)\n",
        "#fitting the svm for tfidf features\n",
        "y_pred = mnb_model.predict(X_test)\n",
        "\n",
        "# Evaluate the model\n",
        "print(classification_report(result_array_test, y_pred))\n"
      ],
      "metadata": {
        "colab": {
          "base_uri": "https://localhost:8080/"
        },
        "id": "ywrF_wq8d_NC",
        "outputId": "efaddbc8-5dd3-4348-d8f4-d3f3e59465b0"
      },
      "execution_count": 38,
      "outputs": [
        {
          "output_type": "stream",
          "name": "stdout",
          "text": [
            "MultinomialNB()\n",
            "              precision    recall  f1-score   support\n",
            "\n",
            "         0.0       0.00      0.00      0.00       697\n",
            "         1.0       0.00      0.00      0.00      2771\n",
            "         2.0       0.51      1.00      0.68      7898\n",
            "         3.0       0.00      0.00      0.00      3260\n",
            "         4.0       0.00      0.00      0.00       871\n",
            "\n",
            "    accuracy                           0.51     15497\n",
            "   macro avg       0.10      0.20      0.14     15497\n",
            "weighted avg       0.26      0.51      0.34     15497\n",
            "\n"
          ]
        },
        {
          "output_type": "stream",
          "name": "stderr",
          "text": [
            "/usr/local/lib/python3.10/dist-packages/sklearn/metrics/_classification.py:1344: UndefinedMetricWarning: Precision and F-score are ill-defined and being set to 0.0 in labels with no predicted samples. Use `zero_division` parameter to control this behavior.\n",
            "  _warn_prf(average, modifier, msg_start, len(result))\n",
            "/usr/local/lib/python3.10/dist-packages/sklearn/metrics/_classification.py:1344: UndefinedMetricWarning: Precision and F-score are ill-defined and being set to 0.0 in labels with no predicted samples. Use `zero_division` parameter to control this behavior.\n",
            "  _warn_prf(average, modifier, msg_start, len(result))\n",
            "/usr/local/lib/python3.10/dist-packages/sklearn/metrics/_classification.py:1344: UndefinedMetricWarning: Precision and F-score are ill-defined and being set to 0.0 in labels with no predicted samples. Use `zero_division` parameter to control this behavior.\n",
            "  _warn_prf(average, modifier, msg_start, len(result))\n"
          ]
        }
      ]
    },
    {
      "cell_type": "code",
      "source": [
        "cm = confusion_matrix(result_array_test, y_pred)\n",
        "cm_normalized = cm.astype('float') / cm.sum(axis=1)[:, np.newaxis]\n",
        "plt.figure(figsize=(10, 8))\n",
        "sns.heatmap(cm_normalized, annot=True, cmap='Blues')\n",
        "plt.xlabel('Predicted Label')\n",
        "plt.ylabel('True Label')\n",
        "plt.title('Normalized Confusion Matrix')\n",
        "plt.show()"
      ],
      "metadata": {
        "colab": {
          "base_uri": "https://localhost:8080/",
          "height": 718
        },
        "id": "P9ifQzNeLQDq",
        "outputId": "7d21107c-12d2-4291-8214-5e84dcc8ad6d"
      },
      "execution_count": 40,
      "outputs": [
        {
          "output_type": "display_data",
          "data": {
            "text/plain": [
              "<Figure size 1000x800 with 2 Axes>"
            ],
            "image/png": "[encoded data removed]"
          },
          "metadata": {}
        }
      ]
    }
  ]
}